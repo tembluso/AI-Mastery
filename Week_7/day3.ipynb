{
 "cells": [
  {
   "cell_type": "markdown",
   "id": "cc59f57a",
   "metadata": {},
   "source": [
    "Week 7 · Day 3 — Building a Clean PyTorch CNN\n",
    "Why this matters\n",
    "\n",
    "CNN experiments get messy fast. Having a reusable, structured training loop and a clean CNN module helps you scale to bigger models and datasets without rewriting code every time.\n",
    "\n",
    "Theory Essentials\n",
    "\n",
    "nn.Conv2d: defines convolutional layers with channels, kernel size, stride, padding.\n",
    "\n",
    "nn.ReLU / nn.MaxPool2d: introduce nonlinearity and reduce size.\n",
    "\n",
    "nn.Flatten: flattens feature maps into vectors for fully connected layers.\n",
    "\n",
    "Modular training loop: separate train_one_epoch and evaluate functions.\n",
    "\n",
    "Seed control: reproducibility matters in ML experiments."
   ]
  },
  {
   "cell_type": "code",
   "execution_count": 1,
   "id": "4b7d69d1",
   "metadata": {},
   "outputs": [
    {
     "name": "stdout",
     "output_type": "stream",
     "text": [
      "Epoch 1: Train loss 0.552 | Val loss 0.371 | Val acc 0.863\n",
      "Epoch 2: Train loss 0.343 | Val loss 0.341 | Val acc 0.873\n",
      "Epoch 3: Train loss 0.293 | Val loss 0.291 | Val acc 0.895\n"
     ]
    }
   ],
   "source": [
    "# Setup\n",
    "import torch, torch.nn as nn, torch.optim as optim\n",
    "from torchvision import datasets, transforms\n",
    "from torch.utils.data import DataLoader, random_split\n",
    "\n",
    "torch.manual_seed(42)\n",
    "\n",
    "# ---------- Data ----------\n",
    "transform = transforms.Compose([transforms.ToTensor()])\n",
    "dataset = datasets.FashionMNIST(root=\"data\", train=True, download=True, transform=transform)\n",
    "train_data, val_data = random_split(dataset, [50000, 10000])\n",
    "train_loader = DataLoader(train_data, batch_size=128, shuffle=True)\n",
    "val_loader   = DataLoader(val_data, batch_size=256)\n",
    "\n",
    "# ---------- Model ----------\n",
    "class CleanCNN(nn.Module):\n",
    "    def __init__(self):\n",
    "        super().__init__()\n",
    "        self.features = nn.Sequential(\n",
    "            nn.Conv2d(1, 32, 3, padding=1),\n",
    "            nn.ReLU(),\n",
    "            nn.MaxPool2d(2),\n",
    "            nn.Conv2d(32, 64, 3, padding=1),\n",
    "            nn.ReLU(),\n",
    "            nn.MaxPool2d(2),\n",
    "        )\n",
    "        self.classifier = nn.Sequential(\n",
    "            nn.Flatten(),\n",
    "            nn.Linear(64*7*7, 128),\n",
    "            nn.ReLU(),\n",
    "            nn.Linear(128, 10)\n",
    "        )\n",
    "    def forward(self, x):\n",
    "        return self.classifier(self.features(x))\n",
    "\n",
    "# ---------- Training Utilities ----------\n",
    "def train_one_epoch(model, loader, optimizer, criterion, device):\n",
    "    model.train()\n",
    "    total_loss = 0\n",
    "    for X,y in loader:\n",
    "        X,y = X.to(device), y.to(device)\n",
    "        optimizer.zero_grad()\n",
    "        out = model(X)\n",
    "        loss = criterion(out, y)\n",
    "        loss.backward()\n",
    "        optimizer.step()\n",
    "        total_loss += loss.item()\n",
    "    return total_loss / len(loader)\n",
    "\n",
    "def evaluate(model, loader, criterion, device):\n",
    "    model.eval()\n",
    "    total_loss, correct, total = 0,0,0\n",
    "    with torch.no_grad():\n",
    "        for X,y in loader:\n",
    "            X,y = X.to(device), y.to(device)\n",
    "            out = model(X)\n",
    "            loss = criterion(out, y)\n",
    "            total_loss += loss.item()\n",
    "            preds = out.argmax(dim=1)\n",
    "            correct += (preds==y).sum().item()\n",
    "            total += y.size(0)\n",
    "    acc = correct / total\n",
    "    return total_loss/len(loader), acc\n",
    "\n",
    "# ---------- Train/Eval ----------\n",
    "device = torch.device(\"cuda\" if torch.cuda.is_available() else \"cpu\")\n",
    "model = CleanCNN().to(device)\n",
    "criterion = nn.CrossEntropyLoss()\n",
    "optimizer = optim.Adam(model.parameters(), lr=1e-3)\n",
    "\n",
    "for epoch in range(3):\n",
    "    train_loss = train_one_epoch(model, train_loader, optimizer, criterion, device)\n",
    "    val_loss, val_acc = evaluate(model, val_loader, criterion, device)\n",
    "    print(f\"Epoch {epoch+1}: Train loss {train_loss:.3f} | Val loss {val_loss:.3f} | Val acc {val_acc:.3f}\")\n"
   ]
  },
  {
   "cell_type": "markdown",
   "id": "83152ff5",
   "metadata": {},
   "source": [
    "\n",
    "## 🔹 `nn.Linear` (MLP fully connected)\n",
    "\n",
    "* **Usage:** `nn.Linear(in_features, out_features)`\n",
    "* Example: `nn.Linear(28*28, 256)`\n",
    "  → Each input pixel is connected to each neuron in the next layer.\n",
    "* **Meaning:**\n",
    "\n",
    "  * `in_features` = number of inputs per neuron.\n",
    "  * `out_features` = number of neurons in that layer.\n",
    "* Problem for images: **ignores spatial structure** (treats pixels as a flat list).\n",
    "\n",
    "---\n",
    "\n",
    "## 🔹 `nn.Conv2d` (convolutional layer)\n",
    "\n",
    "* **Usage:** `nn.Conv2d(in_channels, out_channels, kernel_size, stride=1, padding=0)`\n",
    "* Example: `nn.Conv2d(1, 32, 3, padding=1)`\n",
    "\n",
    "  * `in_channels=1`: grayscale input (1 channel).\n",
    "  * `out_channels=32`: this layer will **learn 32 filters** → output 32 feature maps.\n",
    "  * `kernel_size=3`: each filter is a **3×3 patch** that slides over the image.\n",
    "  * `padding=1`: adds a border so the output stays the same size (28×28 → 28×28).\n",
    "* **Meaning:**\n",
    "  Each output pixel is a weighted combination of a **local neighborhood** (like 3×3 region).\n",
    "  Instead of fully connecting everything, we only look at nearby pixels, and we reuse the same filter everywhere in the image.\n",
    "\n",
    "---\n",
    "\n",
    "## 🔹 Why CNNs use Conv2d instead of Linear\n",
    "\n",
    "* **Locality:** Conv filters look at small regions (edges, textures).\n",
    "* **Weight sharing:** Same filter slides over the whole image → far fewer parameters.\n",
    "* **Translation invariance:** a “stroke” detected in one corner can also be recognized in another.\n",
    "\n",
    "---\n",
    "\n",
    "## 🔹 Where pooling & flatten fit\n",
    "\n",
    "* **`nn.MaxPool2d(2)`**: halves the spatial size (28→14, 14→7). Keeps strongest activations.\n",
    "* **`nn.Flatten()`**: after convolutions, you have shape (batch, channels, height, width). Flatten turns it into (batch, features) so you can pass it into `nn.Linear`.\n",
    "\n",
    "---\n",
    "\n",
    "## 🔹 Why Linear shows up again\n",
    "\n",
    "At the **end of the CNN**, you’ve got extracted features (say `64×7×7 = 3136` numbers).\n",
    "You still need a classifier → `nn.Linear(3136, 128)` → `nn.Linear(128, 10)`.\n",
    "\n",
    "So:\n",
    "\n",
    "* **Conv2d layers** = feature extractors (edges → textures → patterns).\n",
    "* **Linear layers** = classifier head (map features → class probabilities).\n",
    "\n",
    "---"
   ]
  },
  {
   "cell_type": "markdown",
   "id": "45ecaf0f",
   "metadata": {},
   "source": [
    "1) Core (10–15 min)\n",
    "\n",
    "Task: Add nn.Dropout(0.5) before the final linear layer."
   ]
  },
  {
   "cell_type": "code",
   "execution_count": null,
   "id": "27631000",
   "metadata": {},
   "outputs": [
    {
     "name": "stdout",
     "output_type": "stream",
     "text": [
      "Epoch 1: Train loss 0.622 | Val loss 0.391 | Val acc 0.855\n",
      "Epoch 2: Train loss 0.386 | Val loss 0.332 | Val acc 0.878\n",
      "Epoch 3: Train loss 0.332 | Val loss 0.298 | Val acc 0.890\n"
     ]
    }
   ],
   "source": [
    "class CleanCNNDrop(nn.Module):\n",
    "    def __init__(self):\n",
    "        super().__init__()\n",
    "        self.features = nn.Sequential(\n",
    "            nn.Conv2d(1, 32, 3, padding=1),\n",
    "            nn.ReLU(),\n",
    "            nn.MaxPool2d(2),\n",
    "            nn.Conv2d(32, 64, 3, padding=1),\n",
    "            nn.ReLU(),\n",
    "            nn.MaxPool2d(2),\n",
    "        )\n",
    "        self.classifier = nn.Sequential(\n",
    "            nn.Flatten(),\n",
    "            nn.Linear(64*7*7, 128),\n",
    "            nn.ReLU(),\n",
    "            nn.Dropout(0.3),\n",
    "            nn.Linear(128, 10)\n",
    "        )\n",
    "    def forward(self, x):\n",
    "        return self.classifier(self.features(x))\n",
    "    \n",
    "\n",
    "model_drop = CleanCNNDrop().to(device)\n",
    "criterion = nn.CrossEntropyLoss()\n",
    "optimizer = optim.Adam(model.parameters(), lr=1e-3)\n",
    "\n",
    "for epoch in range(3):\n",
    "    train_loss = train_one_epoch(model_drop, train_loader, optimizer, criterion, device)\n",
    "    val_loss, val_acc = evaluate(model_drop, val_loader, criterion, device)\n",
    "    print(f\"Epoch {epoch+1}: Train loss {train_loss:.3f} | Val loss {val_loss:.3f} | Val acc {val_acc:.3f}\")"
   ]
  },
  {
   "cell_type": "markdown",
   "id": "68acdbe2",
   "metadata": {},
   "source": [
    "Dropout here reduces the accuracy slightly. I first tried with 0.5 but the result was worst.\n",
    "\n",
    "If train acc is low and val acc is also low → you’re underfitting. Dropout makes it worse. Reduce p or remove it; train more epochs.\n",
    "\n",
    "If train acc is high but val acc is much lower → you’re overfitting. Dropout (or weight decay/aug) can help; maybe increase p a bit."
   ]
  },
  {
   "cell_type": "markdown",
   "id": "bd8e3434",
   "metadata": {},
   "source": [
    "2) Practice (10–15 min)\n",
    "\n",
    "Task: Replace Adam with SGD(lr=0.01, momentum=0.9) and compare validation accuracy."
   ]
  },
  {
   "cell_type": "code",
   "execution_count": 4,
   "id": "49ce7aed",
   "metadata": {},
   "outputs": [
    {
     "name": "stdout",
     "output_type": "stream",
     "text": [
      "Epoch 1: Train loss 0.289 | Val loss 0.274 | Val acc 0.897\n",
      "Epoch 2: Train loss 0.283 | Val loss 0.272 | Val acc 0.898\n",
      "Epoch 3: Train loss 0.280 | Val loss 0.272 | Val acc 0.899\n"
     ]
    }
   ],
   "source": [
    "optimizer_sgd = optim.SGD(model.parameters(), lr=1e-3, momentum=0.9)\n",
    "\n",
    "for epoch in range(3):\n",
    "    train_loss = train_one_epoch(model, train_loader, optimizer_sgd, criterion, device)\n",
    "    val_loss, val_acc = evaluate(model, val_loader, criterion, device)\n",
    "    print(f\"Epoch {epoch+1}: Train loss {train_loss:.3f} | Val loss {val_loss:.3f} | Val acc {val_acc:.3f}\")"
   ]
  },
  {
   "cell_type": "markdown",
   "id": "3ff28ff7",
   "metadata": {},
   "source": [
    "SGD + momentum does slightly in these conditionsa dn data set."
   ]
  },
  {
   "cell_type": "markdown",
   "id": "d76279b9",
   "metadata": {},
   "source": [
    "3) Stretch (optional, 10–15 min)\n",
    "\n",
    "Task: Add an argument num_classes to CleanCNN so the model works on any dataset."
   ]
  },
  {
   "cell_type": "code",
   "execution_count": null,
   "id": "067b9dc7",
   "metadata": {},
   "outputs": [],
   "source": [
    "class FlexibleCNN(nn.Module):\n",
    "    def __init__(self, num_classes=10):\n",
    "        super().__init__()\n",
    "        self.features = nn.Sequential(\n",
    "            nn.Conv2d(1, 32, 3, padding=1),\n",
    "            nn.ReLU(),\n",
    "            nn.MaxPool2d(2),\n",
    "            nn.Conv2d(32, 64, 3, padding=1),\n",
    "            nn.ReLU(),\n",
    "            nn.MaxPool2d(2),\n",
    "        )\n",
    "        self.classifier = nn.Sequential(\n",
    "            nn.Flatten(),\n",
    "            nn.Linear(64*7*7, 128),\n",
    "            nn.ReLU(),\n",
    "            nn.Linear(128, num_classes)\n",
    "        )\n",
    "    def forward(self, x):\n",
    "        return self.classifier(self.features(x))\n"
   ]
  },
  {
   "cell_type": "markdown",
   "id": "ed5c15dd",
   "metadata": {},
   "source": [
    "Can't really try out as both data sets I use(digit and fashion) contain 10 classes, which was the number of classes in the original CNN."
   ]
  },
  {
   "cell_type": "markdown",
   "id": "0e61ba2d",
   "metadata": {},
   "source": [
    "Mini-Challenge (≤40 min)\n",
    "\n",
    "Task:\n",
    "\n",
    "Train CleanCNN for 10 epochs.\n",
    "\n",
    "Track train loss, val loss, val accuracy per epoch.\n",
    "\n",
    "Plot curves (loss & accuracy).\n",
    "\n",
    "Acceptance Criteria:\n",
    "\n",
    "At least 2 plots (loss + accuracy).\n",
    "\n",
    "Short note on whether the model underfits, overfits, or looks balanced."
   ]
  },
  {
   "cell_type": "code",
   "execution_count": 5,
   "id": "ba300db8",
   "metadata": {},
   "outputs": [
    {
     "name": "stdout",
     "output_type": "stream",
     "text": [
      "Epoch 01 | train_loss=0.5560 | val_loss=0.3763 | val_acc=0.8641\n",
      "Epoch 02 | train_loss=0.3401 | val_loss=0.3131 | val_acc=0.8844\n",
      "Epoch 03 | train_loss=0.2888 | val_loss=0.3032 | val_acc=0.8879\n",
      "Epoch 04 | train_loss=0.2597 | val_loss=0.2694 | val_acc=0.9003\n",
      "Epoch 05 | train_loss=0.2374 | val_loss=0.2544 | val_acc=0.9052\n",
      "Epoch 06 | train_loss=0.2192 | val_loss=0.2524 | val_acc=0.9060\n",
      "Epoch 07 | train_loss=0.2036 | val_loss=0.2348 | val_acc=0.9142\n",
      "Epoch 08 | train_loss=0.1924 | val_loss=0.2263 | val_acc=0.9171\n",
      "Epoch 09 | train_loss=0.1771 | val_loss=0.2216 | val_acc=0.9209\n",
      "Epoch 10 | train_loss=0.1629 | val_loss=0.2126 | val_acc=0.9215\n",
      "Total time: 418.5s\n"
     ]
    },
    {
     "data": {
      "image/png": "[encoded data removed]",
      "text/plain": [
       "<Figure size 640x480 with 1 Axes>"
      ]
     },
     "metadata": {},
     "output_type": "display_data"
    },
    {
     "data": {
      "image/png": "[encoded data removed]",
      "text/plain": [
       "<Figure size 640x480 with 1 Axes>"
      ]
     },
     "metadata": {},
     "output_type": "display_data"
    }
   ],
   "source": [
    "# --- Training CleanCNN for 10 epochs with curves ---\n",
    "\n",
    "import time\n",
    "import torch, torch.nn as nn, torch.optim as optim\n",
    "import matplotlib.pyplot as plt\n",
    "\n",
    "torch.manual_seed(42)\n",
    "device = torch.device(\"cuda\" if torch.cuda.is_available() else \"cpu\")\n",
    "\n",
    "# (Re)define CleanCNN exactly as you had it\n",
    "class CleanCNN(nn.Module):\n",
    "    def __init__(self):\n",
    "        super().__init__()\n",
    "        self.features = nn.Sequential(\n",
    "            nn.Conv2d(1, 32, 3, padding=1),\n",
    "            nn.ReLU(),\n",
    "            nn.MaxPool2d(2),\n",
    "            nn.Conv2d(32, 64, 3, padding=1),\n",
    "            nn.ReLU(),\n",
    "            nn.MaxPool2d(2),\n",
    "        )\n",
    "        self.classifier = nn.Sequential(\n",
    "            nn.Flatten(),\n",
    "            nn.Linear(64*7*7, 128),\n",
    "            nn.ReLU(),\n",
    "            nn.Linear(128, 10)\n",
    "        )\n",
    "    def forward(self, x):\n",
    "        return self.classifier(self.features(x))\n",
    "\n",
    "# --- Utilities (same signatures you used) ---\n",
    "def train_one_epoch(model, loader, optimizer, criterion, device):\n",
    "    model.train()\n",
    "    total_loss = 0.0\n",
    "    for X, y in loader:\n",
    "        X, y = X.to(device), y.to(device)\n",
    "        optimizer.zero_grad()\n",
    "        out = model(X)\n",
    "        loss = criterion(out, y)\n",
    "        loss.backward()\n",
    "        optimizer.step()\n",
    "        total_loss += loss.item()\n",
    "    return total_loss / max(1, len(loader))\n",
    "\n",
    "def evaluate(model, loader, criterion, device):\n",
    "    model.eval()\n",
    "    total_loss, correct, total = 0.0, 0, 0\n",
    "    with torch.no_grad():\n",
    "        for X, y in loader:\n",
    "            X, y = X.to(device), y.to(device)\n",
    "            out = model(X)\n",
    "            loss = criterion(out, y)\n",
    "            total_loss += loss.item()\n",
    "            preds = out.argmax(dim=1)\n",
    "            correct += (preds == y).sum().item()\n",
    "            total += y.size(0)\n",
    "    acc = correct / total\n",
    "    return total_loss / max(1, len(loader)), acc\n",
    "\n",
    "# --- Instantiate & train ---\n",
    "model = CleanCNN().to(device)\n",
    "criterion = nn.CrossEntropyLoss()\n",
    "optimizer = optim.Adam(model.parameters(), lr=1e-3)\n",
    "\n",
    "EPOCHS = 10\n",
    "hist = {\"train_loss\": [], \"val_loss\": [], \"val_acc\": []}\n",
    "\n",
    "start = time.time()\n",
    "for ep in range(1, EPOCHS + 1):\n",
    "    tr_loss = train_one_epoch(model, train_loader, optimizer, criterion, device)\n",
    "    va_loss, va_acc = evaluate(model, val_loader, criterion, device)\n",
    "    hist[\"train_loss\"].append(tr_loss)\n",
    "    hist[\"val_loss\"].append(va_loss)\n",
    "    hist[\"val_acc\"].append(va_acc)\n",
    "    print(f\"Epoch {ep:02d} | train_loss={tr_loss:.4f} | val_loss={va_loss:.4f} | val_acc={va_acc:.4f}\")\n",
    "print(f\"Total time: {time.time()-start:.1f}s\")\n",
    "\n",
    "# --- Plots: loss & accuracy ---\n",
    "epochs = range(1, EPOCHS + 1)\n",
    "\n",
    "plt.figure(); \n",
    "plt.plot(epochs, hist[\"train_loss\"], label=\"Train loss\")\n",
    "plt.plot(epochs, hist[\"val_loss\"],   label=\"Val loss\")\n",
    "plt.xlabel(\"Epoch\"); plt.ylabel(\"Loss\"); plt.title(\"Training/Validation Loss\"); plt.legend(); plt.grid(True)\n",
    "plt.show()\n",
    "\n",
    "plt.figure(); \n",
    "plt.plot(epochs, hist[\"val_acc\"], label=\"Val accuracy\")\n",
    "plt.xlabel(\"Epoch\"); plt.ylabel(\"Accuracy\"); plt.title(\"Validation Accuracy\"); plt.legend(); plt.grid(True)\n",
    "plt.show()\n"
   ]
  },
  {
   "cell_type": "markdown",
   "id": "0e971092",
   "metadata": {},
   "source": [
    "Model looks well balanced as train and val loss both drop at a similar rate while val accuracy keeps improving."
   ]
  },
  {
   "cell_type": "markdown",
   "id": "d5bf2d9a",
   "metadata": {},
   "source": [
    "Notes / Key Takeaways\n",
    "\n",
    "Structuring models + loops saves time later.\n",
    "\n",
    "Modular train_one_epoch and evaluate = reusable for all future models.\n",
    "\n",
    "CNNs naturally extend to more layers/filters.\n",
    "\n",
    "Dropout and optimizer choice can significantly affect performance.\n",
    "\n",
    "Reproducibility (seeds, fixed code structure) is key in ML."
   ]
  },
  {
   "cell_type": "markdown",
   "id": "5b097de9",
   "metadata": {},
   "source": [
    "Reflection\n",
    "\n",
    "Why do we separate train and eval phases in PyTorch?\n",
    "\n",
    "What advantages does a modular evaluate function give?"
   ]
  },
  {
   "cell_type": "markdown",
   "id": "7ac3058b",
   "metadata": {},
   "source": [
    "🔹 Why do we separate train and eval phases in PyTorch?\n",
    "\n",
    "In train mode (model.train()), layers like Dropout and BatchNorm behave differently (dropout randomly zeros activations; batchnorm updates running stats).\n",
    "\n",
    "In eval mode (model.eval()), those layers switch to inference behavior (dropout off, batchnorm uses fixed stats).\n",
    "\n",
    "Separating phases ensures we train correctly (with regularization) and evaluate fairly (stable predictions).\n",
    "\n",
    "🔹 What advantages does a modular evaluate function give?\n",
    "\n",
    "Reusability: you can call it anytime (after each epoch, after training, or on a test set).\n",
    "\n",
    "Cleaner code: no duplicate evaluation logic inside the training loop.\n",
    "\n",
    "Flexibility: easy to extend (add accuracy, confusion matrix, F1) without touching the training code.\n",
    "\n",
    "Fewer bugs: train loop only worries about updates; evaluate loop only worries about measuring."
   ]
  }
 ],
 "metadata": {
  "kernelspec": {
   "display_name": "venv",
   "language": "python",
   "name": "python3"
  },
  "language_info": {
   "codemirror_mode": {
    "name": "ipython",
    "version": 3
   },
   "file_extension": ".py",
   "mimetype": "text/x-python",
   "name": "python",
   "nbconvert_exporter": "python",
   "pygments_lexer": "ipython3",
   "version": "3.11.3"
  }
 },
 "nbformat": 4,
 "nbformat_minor": 5
}
