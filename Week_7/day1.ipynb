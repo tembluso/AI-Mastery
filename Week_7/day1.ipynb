{
 "cells": [
  {
   "cell_type": "markdown",
   "id": "c35ba37e",
   "metadata": {},
   "source": [
    "Week 7 · Day 1 — Convolutions & Pooling Intuition\n",
    "Why this matters\n",
    "\n",
    "Convolutions are the building block of modern computer vision. Instead of looking at the whole image at once, CNNs learn local patterns (edges, corners, textures) through filters. Pooling helps compress information while keeping the most important features.\n",
    "\n",
    "Theory Essentials\n",
    "\n",
    "Convolution = sliding a filter (kernel) over an image to detect patterns.\n",
    "\n",
    "Kernel/Filter: small matrix (e.g., 3×3) applied across the input.\n",
    "\n",
    "Stride: how many pixels the filter moves at each step.\n",
    "\n",
    "Padding: adding borders so the output size doesn’t shrink too much.\n",
    "\n",
    "Feature map: the transformed image after applying filters.\n",
    "\n",
    "Pooling: downsampling to reduce size (max-pooling keeps strongest signal)."
   ]
  },
  {
   "cell_type": "markdown",
   "id": "e7bb3681",
   "metadata": {},
   "source": [
    "\n",
    "\n",
    "### 🧠 What CNNs Are\n",
    "\n",
    "* A **Convolutional Neural Network (CNN)** is a neural net specialized for images.\n",
    "* Instead of connecting every pixel to every neuron (like in dense nets), it uses **filters** (tiny sliding windows) to detect **local patterns** such as edges, curves, or textures.\n",
    "* These local patterns combine layer by layer → eventually forming **high-level concepts** like “eye,” “wheel,” or “cat.”\n",
    "\n",
    "---\n",
    "\n",
    "### ⚙️ How Convolution Works\n",
    "\n",
    "Imagine you have a grayscale image (matrix of numbers = pixel intensities).\n",
    "\n",
    "1. Take a **filter (kernel)**, e.g., a 3×3 matrix.\n",
    "2. Place it on the top-left corner of the image. Multiply numbers elementwise and sum.\n",
    "3. Slide the filter (stride) across the image → build a **feature map** (new matrix).\n",
    "4. Different filters learn to detect different things (vertical edges, diagonals, textures).\n",
    "\n",
    "This works because **images have local structure** — nearby pixels are related. A car edge in one place looks like a car edge in another.\n",
    "\n",
    "---\n",
    "\n",
    "### 📏 Important Concepts\n",
    "\n",
    "* **Stride**: step size of the filter. Larger stride = smaller output.\n",
    "* **Padding**: adding zeros around image edges so filters can scan the borders.\n",
    "* **Feature map**: result of applying one filter. A CNN layer usually learns dozens/hundreds of filters.\n",
    "\n",
    "---\n",
    "\n",
    "### 🏞️ Pooling (Why?)\n",
    "\n",
    "* Images are big → too many pixels.\n",
    "* **Pooling reduces size** but keeps key signals.\n",
    "\n",
    "  * **Max-pooling** (most common): take the max in a 2×2 window (keeps strongest feature).\n",
    "  * **Average pooling**: take average (less common).\n",
    "* Benefit: reduces computation, makes features more invariant to small shifts (e.g., cat moves a bit → still recognized).\n",
    "\n",
    "---\n",
    "\n",
    "### 🧩 Why CNNs Beat Dense Nets\n",
    "\n",
    "* **Dense nets** don’t know that pixels next to each other are related — they just see a long list of numbers.\n",
    "* **CNNs exploit spatial structure**: nearby pixels matter, faraway ones less so.\n",
    "* This gives **far fewer parameters** + **translation invariance** (a nose is still a nose anywhere in the image).\n",
    "\n",
    "---\n",
    "\n",
    "👉 Think of CNNs like a **stack of pattern detectors**:\n",
    "\n",
    "* First layers: edges, corners.\n",
    "* Middle layers: textures, parts (eye, wheel).\n",
    "* Last layers: whole objects (cat, car).\n",
    "\n"
   ]
  },
  {
   "cell_type": "code",
   "execution_count": 9,
   "id": "4997bedd",
   "metadata": {},
   "outputs": [
    {
     "name": "stdout",
     "output_type": "stream",
     "text": [
      "Label: 5\n"
     ]
    },
    {
     "data": {
      "image/png": "[encoded data removed]",
      "text/plain": [
       "<Figure size 640x480 with 1 Axes>"
      ]
     },
     "metadata": {},
     "output_type": "display_data"
    },
    {
     "data": {
      "image/png": "[encoded data removed]",
      "text/plain": [
       "<Figure size 900x300 with 3 Axes>"
      ]
     },
     "metadata": {},
     "output_type": "display_data"
    }
   ],
   "source": [
    "# Setup\n",
    "import torch, torch.nn.functional as F\n",
    "import matplotlib.pyplot as plt\n",
    "import numpy as np\n",
    "from torchvision import datasets, transforms\n",
    "\n",
    "torch.manual_seed(42)\n",
    "\n",
    "# Load a sample image (MNIST digit)\n",
    "transform = transforms.Compose([transforms.ToTensor()])\n",
    "dataset = datasets.MNIST(root=\"data\", train=True, download=True, transform=transform)\n",
    "img, label = dataset[0]\n",
    "img = img.unsqueeze(0)  # add batch dimension\n",
    "\n",
    "print(\"Label:\", label)\n",
    "plt.imshow(img[0,0], cmap=\"gray\"); plt.title(f\"Digit {label}\"); plt.axis(\"off\")\n",
    "plt.show()\n",
    "\n",
    "# Define some simple filters\n",
    "edge_filter = torch.tensor([[-1,-1,-1],\n",
    "                            [-1, 8,-1],\n",
    "                            [-1,-1,-1]], dtype=torch.float32).unsqueeze(0).unsqueeze(0)\n",
    "\n",
    "blur_filter = torch.ones((1,1,3,3)) / 9.0\n",
    "\n",
    "# Apply convolution with padding\n",
    "edge_out = F.conv2d(img, edge_filter, padding=1)\n",
    "blur_out = F.conv2d(img, blur_filter, padding=1)\n",
    "\n",
    "# Apply max pooling\n",
    "pooled = F.max_pool2d(edge_out, kernel_size=2, stride=2)\n",
    "\n",
    "# Visualize\n",
    "fig, axs = plt.subplots(1,3, figsize=(9,3))\n",
    "axs[0].imshow(edge_out[0,0].detach(), cmap=\"gray\"); axs[0].set_title(\"Edge map\")\n",
    "axs[1].imshow(blur_out[0,0].detach(), cmap=\"gray\"); axs[1].set_title(\"Blurred\")\n",
    "axs[2].imshow(pooled[0,0].detach(), cmap=\"gray\"); axs[2].set_title(\"Pooled edges\")\n",
    "for ax in axs: ax.axis(\"off\")\n",
    "plt.show()\n"
   ]
  },
  {
   "cell_type": "markdown",
   "id": "bd03aab5",
   "metadata": {},
   "source": [
    "1) Core (10–15 min)\n",
    "\n",
    "Task: Change the stride in the convolution from 1 to 2."
   ]
  },
  {
   "cell_type": "code",
   "execution_count": 4,
   "id": "5130b404",
   "metadata": {},
   "outputs": [
    {
     "data": {
      "image/png": "[encoded data removed]",
      "text/plain": [
       "<Figure size 900x300 with 3 Axes>"
      ]
     },
     "metadata": {},
     "output_type": "display_data"
    }
   ],
   "source": [
    "# Apply convolution with padding\n",
    "edge_out_st2 = F.conv2d(img, edge_filter, stride=2, padding=1)\n",
    "blur_out_st2 = F.conv2d(img, blur_filter, stride=2, padding=1)\n",
    "\n",
    "# Apply max pooling\n",
    "pooled_st2 = F.max_pool2d(edge_out, kernel_size=2, stride=2)\n",
    "\n",
    "# Visualize\n",
    "fig, axs = plt.subplots(1,3, figsize=(9,3))\n",
    "axs[0].imshow(edge_out_st2[0,0].detach(), cmap=\"gray\"); axs[0].set_title(\"Edge map Stride 2\")\n",
    "axs[1].imshow(blur_out_st2[0,0].detach(), cmap=\"gray\"); axs[1].set_title(\"Blurred Stride 2\")\n",
    "axs[2].imshow(pooled_st2[0,0].detach(), cmap=\"gray\"); axs[2].set_title(\"Pooled edges Stride 2\")\n",
    "for ax in axs: ax.axis(\"off\")\n",
    "plt.show()"
   ]
  },
  {
   "cell_type": "markdown",
   "id": "d023c1ab",
   "metadata": {},
   "source": [
    "2) Practice (10–15 min)\n",
    "\n",
    "Task: Try different kernel sizes (e.g., 5×5 blur filter)."
   ]
  },
  {
   "cell_type": "code",
   "execution_count": null,
   "id": "57e32f85",
   "metadata": {},
   "outputs": [
    {
     "data": {
      "image/png": "[encoded data removed]",
      "text/plain": [
       "<Figure size 640x480 with 1 Axes>"
      ]
     },
     "metadata": {},
     "output_type": "display_data"
    }
   ],
   "source": [
    "blur5 = torch.ones((1,1,5,5)) / 25\n",
    "blur5_out = F.conv2d(img, blur5, padding=2)\n",
    "plt.imshow(blur5_out[0,0].detach(), cmap=\"gray\"); plt.title(\"5x5 Blur\")\n",
    "plt.axis(\"off\"); plt.show()\n"
   ]
  },
  {
   "cell_type": "markdown",
   "id": "71629532",
   "metadata": {},
   "source": [
    "3) Stretch (optional, 10–15 min)\n",
    "\n",
    "Task: Create a custom “sharpen” filter and compare output to the edge filter."
   ]
  },
  {
   "cell_type": "code",
   "execution_count": null,
   "id": "69b05b9e",
   "metadata": {},
   "outputs": [
    {
     "data": {
      "image/png": "[encoded data removed]",
      "text/plain": [
       "<Figure size 640x480 with 1 Axes>"
      ]
     },
     "metadata": {},
     "output_type": "display_data"
    }
   ],
   "source": [
    "sharpen = torch.tensor([[0,-1,0],\n",
    "                        [-1,5,-1],\n",
    "                        [0,-1,0]], dtype=torch.float32).unsqueeze(0).unsqueeze(0)\n",
    "sharp_out = F.conv2d(img, sharpen, padding=1)\n",
    "plt.imshow(sharp_out[0,0].detach(), cmap=\"gray\"); plt.title(\"Sharpened\")\n",
    "plt.axis(\"off\"); plt.show()\n"
   ]
  },
  {
   "cell_type": "markdown",
   "id": "74b3aa25",
   "metadata": {},
   "source": [
    "Mini-Challenge (≤40 min)\n",
    "\n",
    "Task:\n",
    "Build a notebook that:\n",
    "\n",
    "Loads 5 random MNIST digits.\n",
    "\n",
    "Applies edge detection, blur, and pooling.\n",
    "\n",
    "Plots input + 3 outputs in a grid.\n",
    "\n",
    "Acceptance Criteria:\n",
    "\n",
    "At least 5 digits shown.\n",
    "\n",
    "Each has its original, edge, blur, and pooled edge maps.\n",
    "\n",
    "Short note: Which transformation seems most useful for digit recognition?"
   ]
  },
  {
   "cell_type": "code",
   "execution_count": null,
   "id": "f06680f7",
   "metadata": {},
   "outputs": [
    {
     "data": {
      "image/png": "[encoded data removed]",
      "text/plain": [
       "<Figure size 1000x1200 with 20 Axes>"
      ]
     },
     "metadata": {},
     "output_type": "display_data"
    },
    {
     "name": "stdout",
     "output_type": "stream",
     "text": [
      "Note: Edge maps highlight strokes critical for digit shapes; pooling shrinks them while keeping strong responses, adding small-shift invariance. Blur removes detail and is usually less helpful for recognition than edges/pooled-edges.\n"
     ]
    }
   ],
   "source": [
    "# Setup\n",
    "import numpy as np, pandas as pd, matplotlib.pyplot as plt\n",
    "from pathlib import Path\n",
    "np.random.seed(42)\n",
    "plt.rcParams[\"figure.figsize\"] = (6,4)\n",
    "plt.rcParams[\"axes.grid\"] = True\n",
    "\n",
    "import torch, torch.nn.functional as F\n",
    "from torchvision import datasets, transforms\n",
    "\n",
    "torch.manual_seed(42)\n",
    "\n",
    "# --- Load MNIST & pick 5 random digits ---\n",
    "tfm = transforms.Compose([transforms.ToTensor()])\n",
    "ds = datasets.MNIST(root=\"data\", train=True, download=True, transform=tfm)\n",
    "idxs = torch.randperm(len(ds))[:5]  # 5 random examples\n",
    "\n",
    "# --- Define filters (3x3) ---\n",
    "edge = torch.tensor([[-1,-1,-1],\n",
    "                     [-1, 8,-1],\n",
    "                     [-1,-1,-1]], dtype=torch.float32).view(1,1,3,3)  # Laplacian\n",
    "blur = torch.ones((1,1,3,3), dtype=torch.float32) / 9.0               # Box blur\n",
    "\n",
    "# --- Prepare figure: 5 rows x 4 cols (orig, edge, blur, pooled-edge) ---\n",
    "fig, axs = plt.subplots(5, 4, figsize=(10, 12))\n",
    "titles = [\"Original\", \"Edge map\", \"Blurred\", \"Pooled edges\"]\n",
    "\n",
    "for c, t in enumerate(titles):\n",
    "    axs[0, c].set_title(t, fontsize=11)\n",
    "\n",
    "for r, i in enumerate(idxs):\n",
    "    img, label = ds[i]            # img: (1,28,28) in [0,1]\n",
    "    x = img.unsqueeze(0)          # (1,1,28,28) add batch\n",
    "\n",
    "    # Convs (padding=1 keeps 28x28)\n",
    "    edge_out = F.conv2d(x, edge, padding=1)           # (1,1,28,28)\n",
    "    blur_out = F.conv2d(x, blur, padding=1)           # (1,1,28,28)\n",
    "    pooled   = F.max_pool2d(edge_out, 2, 2)           # (1,1,14,14)\n",
    "\n",
    "    # For nicer display of edges, take absolute value\n",
    "    e = edge_out[0,0].detach().abs()\n",
    "    b = blur_out[0,0].detach()\n",
    "    p = pooled[0,0].detach().abs()\n",
    "\n",
    "    # Plot row\n",
    "    axs[r,0].imshow(img[0], cmap=\"gray\"); axs[r,0].set_ylabel(f\"Digit {label}\")\n",
    "    axs[r,1].imshow(e, cmap=\"gray\")\n",
    "    axs[r,2].imshow(b, cmap=\"gray\")\n",
    "    axs[r,3].imshow(p, cmap=\"gray\")\n",
    "\n",
    "for ax in axs.flat: ax.axis(\"off\")\n",
    "plt.tight_layout(); plt.show()\n",
    "\n"
   ]
  },
  {
   "cell_type": "markdown",
   "id": "1a7e69bb",
   "metadata": {},
   "source": [
    "Edge maps highlight strokes critical for digit shapes; pooling shrinks them \"\n",
    "      \"while keeping strong responses, adding small-shift invariance. Blur removes detail \"\n",
    "      \"and is usually less helpful for recognition than edges/pooled-edges."
   ]
  },
  {
   "cell_type": "markdown",
   "id": "4e6d9524",
   "metadata": {},
   "source": [
    "\n",
    "\n",
    "* **Edge detection filter** → highlights where pixel values change sharply (the *strokes* of the digit).\n",
    "  *Output looks like just the outlines.*\n",
    "\n",
    "* **Blur filter** → averages pixels with neighbors, washing out fine details.\n",
    "  *Digit looks smoother, less sharp.*\n",
    "\n",
    "* **Pooled edges** → you first detect edges, then apply pooling (like 2×2 max pooling).\n",
    "\n",
    "  * This makes the edge map **smaller** (downsampled).\n",
    "  * It keeps only the strongest edge responses.\n",
    "  * Useful because it reduces resolution but keeps the essential structure (e.g. the “5” shape is still visible).\n",
    "\n",
    "---\n",
    "\n",
    "### Why pooling matters\n",
    "\n",
    "Pooling isn’t about blurring — it’s about **compression + robustness**:\n",
    "\n",
    "* If the digit shifts a bit left/right, pooled features barely change.\n",
    "* CNNs rely on this: pooling gives **translation invariance** (a “5” is still a “5” no matter where it is).\n",
    "\n",
    "---\n",
    "\n",
    "👉 So to summarize:\n",
    "\n",
    "* **Edge map**: shows strokes/features.\n",
    "* **Blur**: removes detail (not very helpful for recognition).\n",
    "* **Pooled edges**: keeps strongest stroke info, but in smaller size → efficient and invariant.\n",
    "\n",
    "That’s why for digit recognition, **edge + pooled edges** are more useful than blur.\n",
    "\n"
   ]
  },
  {
   "cell_type": "markdown",
   "id": "f35ba19e",
   "metadata": {},
   "source": [
    "Notes / Key Takeaways\n",
    "\n",
    "Convolutions detect local features (edges, corners).\n",
    "\n",
    "Pooling reduces size while preserving important patterns.\n",
    "\n",
    "Stride controls “how much you skip” each step.\n",
    "\n",
    "Padding prevents shrinking outputs too fast.\n",
    "\n",
    "Custom kernels = handcrafted feature detectors.\n",
    "\n",
    "Learned filters in CNNs work the same way, just optimized via training."
   ]
  },
  {
   "cell_type": "markdown",
   "id": "174896f5",
   "metadata": {},
   "source": [
    "Reflection\n",
    "\n",
    "Why might pooling help a CNN generalize better?\n",
    "\n",
    "What’s the tradeoff between using stride > 1 vs. pooling?"
   ]
  },
  {
   "cell_type": "markdown",
   "id": "77e9f1cd",
   "metadata": {},
   "source": [
    "\n",
    "\n",
    "### 🔹 Why might pooling help a CNN generalize better?\n",
    "\n",
    "* **Removes small details/noise**: pooling keeps the strongest activations, ignores tiny variations.\n",
    "* **Translation invariance**: a digit shifted 1–2 pixels still produces similar pooled maps → model doesn’t overfit to exact positions.\n",
    "* **Smaller feature maps**: fewer parameters in later layers, less risk of overfitting.\n",
    "\n",
    "---\n",
    "\n",
    "### 🔹 Tradeoff: stride > 1 vs. pooling\n",
    "\n",
    "Both reduce spatial size, but they’re different:\n",
    "\n",
    "**Stride > 1 in convolution**\n",
    "\n",
    "* Shrinks the map while applying a filter.\n",
    "* Good for efficiency.\n",
    "* But you may lose fine-grained info since reduction happens immediately during convolution.\n",
    "\n",
    "**Pooling**\n",
    "\n",
    "* First apply convolution → extract features clearly.\n",
    "* Then pool → compress while keeping strongest signals.\n",
    "* Gives more control (you can choose pooling type like max, avg).\n",
    "\n",
    "👉 In practice:\n",
    "\n",
    "* Strided convolutions = learnable downsampling.\n",
    "* Pooling = fixed downsampling (less flexible but adds stability).\n",
    "* Modern CNNs often **replace pooling with strided convs** for flexibility, but pooling is still common for its simplicity and robustness.\n"
   ]
  }
 ],
 "metadata": {
  "kernelspec": {
   "display_name": "venv",
   "language": "python",
   "name": "python3"
  },
  "language_info": {
   "codemirror_mode": {
    "name": "ipython",
    "version": 3
   },
   "file_extension": ".py",
   "mimetype": "text/x-python",
   "name": "python",
   "nbconvert_exporter": "python",
   "pygments_lexer": "ipython3",
   "version": "3.11.3"
  }
 },
 "nbformat": 4,
 "nbformat_minor": 5
}
