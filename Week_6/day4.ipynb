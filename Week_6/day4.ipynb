{
 "cells": [
  {
   "cell_type": "markdown",
   "id": "6b3b358d",
   "metadata": {},
   "source": [
    "Week 6 · Day 4 — Hyperparameter Tuning\n",
    "Why this matters\n",
    "\n",
    "Hyperparameters (LR, batch size, hidden width, dropout, optimizer choice…) control whether a net trains well or fails.\n",
    "Systematic tuning saves time and leads to much stronger models.\n",
    "\n",
    "Theory Essentials\n",
    "\n",
    "Hyperparameters (set before training): learning rate, hidden sizes, depth, batch size, dropout, optimizer, weight decay.\n",
    "\n",
    "Search strategies:\n",
    "\n",
    "Grid search: try all combos (expensive).\n",
    "\n",
    "Random search: sample combos (often better).\n",
    "\n",
    "Learning rate finder: plot loss vs LR to pick a good range.\n",
    "\n",
    "Best practice:\n",
    "\n",
    "Start small (1–3 epochs).\n",
    "\n",
    "Track validation accuracy.\n",
    "\n",
    "Use logs/plots to compare."
   ]
  },
  {
   "cell_type": "code",
   "execution_count": 3,
   "id": "0a13c0cc",
   "metadata": {},
   "outputs": [
    {
     "name": "stdout",
     "output_type": "stream",
     "text": [
      "Epoch: 0\n",
      "Epoch: 1\n",
      "Epoch: 2\n",
      "{'hidden': 64, 'lr': 0.001, 'drop': 0.0} → Val acc: 0.942\n",
      "Epoch: 0\n",
      "Epoch: 1\n",
      "Epoch: 2\n",
      "{'hidden': 128, 'lr': 0.001, 'drop': 0.3} → Val acc: 0.952\n",
      "Epoch: 0\n",
      "Epoch: 1\n",
      "Epoch: 2\n",
      "{'hidden': 256, 'lr': 0.0005, 'drop': 0.5} → Val acc: 0.944\n"
     ]
    }
   ],
   "source": [
    "# Setup\n",
    "import torch, torch.nn as nn, torch.optim as optim\n",
    "from torchvision import datasets, transforms\n",
    "from torch.utils.data import DataLoader, random_split\n",
    "import matplotlib.pyplot as plt\n",
    "\n",
    "torch.manual_seed(42)\n",
    "\n",
    "# ---------- Data ----------\n",
    "transform = transforms.Compose([transforms.ToTensor()])\n",
    "dataset = datasets.MNIST(root=\"data\", train=True, download=True, transform=transform)\n",
    "train_data, val_data = random_split(dataset, [50000, 10000])\n",
    "train_loader = DataLoader(train_data, batch_size=128, shuffle=True)\n",
    "val_loader   = DataLoader(val_data, batch_size=1000)\n",
    "\n",
    "# ---------- Model ----------\n",
    "class MLP(nn.Module):\n",
    "    def __init__(self, hidden_size=128, dropout=0.0):\n",
    "        super().__init__()\n",
    "        self.fc1 = nn.Linear(28*28, hidden_size)\n",
    "        self.drop = nn.Dropout(dropout)\n",
    "        self.fc2 = nn.Linear(hidden_size, 10)\n",
    "        self.relu = nn.ReLU()\n",
    "    def forward(self,x):\n",
    "        x = x.view(-1,28*28)\n",
    "        x = self.relu(self.fc1(x))\n",
    "        x = self.drop(x)\n",
    "        return self.fc2(x)\n",
    "\n",
    "# ---------- Train/Eval ----------\n",
    "def train_eval(hidden_size, lr, dropout, epochs=3):\n",
    "    model = MLP(hidden_size, dropout)\n",
    "    opt = optim.Adam(model.parameters(), lr=lr)\n",
    "    crit = nn.CrossEntropyLoss()\n",
    "    # Train\n",
    "    for epoch in range(epochs):\n",
    "        model.train()\n",
    "        for X,y in train_loader:\n",
    "            opt.zero_grad()\n",
    "            loss = crit(model(X),y)\n",
    "            loss.backward()\n",
    "            opt.step()\n",
    "        print(\"Epoch:\", epoch)\n",
    "    # Validation\n",
    "    model.eval()\n",
    "    correct,total=0,0\n",
    "    with torch.no_grad():\n",
    "        for X,y in val_loader:\n",
    "            preds = model(X).argmax(1)\n",
    "            correct += (preds==y).sum().item()\n",
    "            total += y.size(0)\n",
    "    return correct/total\n",
    "\n",
    "# ---------- Hyperparam sweep ----------\n",
    "configs = [\n",
    "    {\"hidden\":64,  \"lr\":0.001, \"drop\":0.0},\n",
    "    {\"hidden\":128, \"lr\":0.001, \"drop\":0.3},\n",
    "    {\"hidden\":256, \"lr\":0.0005,\"drop\":0.5},\n",
    "]\n",
    "\n",
    "for cfg in configs:\n",
    "    acc = train_eval(cfg[\"hidden\"], cfg[\"lr\"], cfg[\"drop\"])\n",
    "    print(cfg, \"→ Val acc:\", round(acc,3))\n"
   ]
  },
  {
   "cell_type": "markdown",
   "id": "36c66994",
   "metadata": {},
   "source": [
    "1) Core (10–15 min)\n",
    "Task: Run the sweep above. Which config gives best validation accuracy?"
   ]
  },
  {
   "cell_type": "markdown",
   "id": "1b10705c",
   "metadata": {},
   "source": [
    "The config using {\"hidden\":128, \"lr\":0.001, \"drop\":0.3} gives the best validation accuracy"
   ]
  },
  {
   "cell_type": "markdown",
   "id": "135bf6fd",
   "metadata": {},
   "source": [
    "2) Practice (10–15 min)\n",
    "Task: Add a config with learning rate 0.01. Does it diverge or train faster?"
   ]
  },
  {
   "cell_type": "code",
   "execution_count": 2,
   "id": "7cf6d0bb",
   "metadata": {},
   "outputs": [
    {
     "name": "stdout",
     "output_type": "stream",
     "text": [
      "{'hidden': 64, 'lr': 0.001, 'drop': 0.0} → Val acc: 0.944\n",
      "{'hidden': 128, 'lr': 0.001, 'drop': 0.3} → Val acc: 0.952\n",
      "{'hidden': 256, 'lr': 0.0005, 'drop': 0.5} → Val acc: 0.944\n",
      "{'hidden': 128, 'lr': 0.01, 'drop': 0.3} → Val acc: 0.96\n"
     ]
    }
   ],
   "source": [
    "configs = [\n",
    "    {\"hidden\":64,  \"lr\":0.001, \"drop\":0.0},\n",
    "    {\"hidden\":128, \"lr\":0.001, \"drop\":0.3},\n",
    "    {\"hidden\":256, \"lr\":0.0005,\"drop\":0.5},\n",
    "    {\"hidden\":128, \"lr\":0.01, \"drop\":0.3},\n",
    "]\n",
    "\n",
    "for cfg in configs:\n",
    "    acc = train_eval(cfg[\"hidden\"], cfg[\"lr\"], cfg[\"drop\"])\n",
    "    print(cfg, \"→ Val acc:\", round(acc,3))"
   ]
  },
  {
   "cell_type": "markdown",
   "id": "f2eb35bd",
   "metadata": {},
   "source": [
    "It is slightly faester and diverges less as it has better accuracy"
   ]
  },
  {
   "cell_type": "markdown",
   "id": "ed63cf1f",
   "metadata": {},
   "source": [
    "3) Stretch (optional, 10–15 min)\n",
    "Task: Write a loop that samples random hyperparameters (hidden size in [64,512], dropout in [0,0.5], lr in [1e-4,1e-2]) and tests 5 configs."
   ]
  },
  {
   "cell_type": "code",
   "execution_count": 4,
   "id": "32ecadc5",
   "metadata": {},
   "outputs": [
    {
     "name": "stdout",
     "output_type": "stream",
     "text": [
      "[{'hidden': 256, 'lr': 0.001, 'drop': 0.4}, {'hidden': 128, 'lr': 0.01, 'drop': 0.4}, {'hidden': 256, 'lr': 0.01, 'drop': 0.32}, {'hidden': 512, 'lr': 0.0001, 'drop': 0.35}, {'hidden': 128, 'lr': 0.0001, 'drop': 0.47}]\n",
      "Epoch: 0\n",
      "Epoch: 1\n",
      "Epoch: 2\n",
      "{'hidden': 256, 'lr': 0.001, 'drop': 0.4} → Val acc: 0.959\n",
      "Epoch: 0\n",
      "Epoch: 1\n",
      "Epoch: 2\n",
      "{'hidden': 128, 'lr': 0.01, 'drop': 0.4} → Val acc: 0.957\n",
      "Epoch: 0\n",
      "Epoch: 1\n",
      "Epoch: 2\n",
      "{'hidden': 256, 'lr': 0.01, 'drop': 0.32} → Val acc: 0.965\n",
      "Epoch: 0\n",
      "Epoch: 1\n",
      "Epoch: 2\n",
      "{'hidden': 512, 'lr': 0.0001, 'drop': 0.35} → Val acc: 0.916\n",
      "Epoch: 0\n",
      "Epoch: 1\n",
      "Epoch: 2\n",
      "{'hidden': 128, 'lr': 0.0001, 'drop': 0.47} → Val acc: 0.893\n"
     ]
    }
   ],
   "source": [
    "import random\n",
    "\n",
    "configs = []\n",
    "for _ in range(5):\n",
    "    cfg = {\n",
    "        \"hidden\": random.choice([64, 128, 256, 512]),         # hidden size\n",
    "        \"lr\": random.choice([1e-4, 1e-3, 1e-2]),              # learning rate\n",
    "        \"drop\": round(random.uniform(0.0, 0.5), 2)            # dropout between 0.0 and 0.5\n",
    "    }\n",
    "    configs.append(cfg)\n",
    "\n",
    "print(configs)\n",
    "\n",
    "for cfg in configs:\n",
    "    acc = train_eval(cfg[\"hidden\"], cfg[\"lr\"], cfg[\"drop\"])\n",
    "    print(cfg, \"→ Val acc:\", round(acc, 3))\n"
   ]
  },
  {
   "cell_type": "markdown",
   "id": "c1cefc2e",
   "metadata": {},
   "source": [
    "Mini-Challenge (≤40 min)\n",
    "\n",
    "Task: Implement a learning rate finder:\n",
    "\n",
    "Train one model, start LR at 1e-5, multiply by 1.2 each batch.\n",
    "\n",
    "Plot loss vs LR.\n",
    "\n",
    "Identify LR range where loss decreases smoothly.\n",
    "\n",
    "Acceptance Criteria:\n",
    "\n",
    "Plot LR vs loss.\n",
    "\n",
    "Mark “good LR zone”.\n",
    "\n",
    "Brief note: why is this better than guessing LR?"
   ]
  },
  {
   "cell_type": "code",
   "execution_count": 5,
   "id": "2f137a9e",
   "metadata": {},
   "outputs": [
    {
     "data": {
      "image/png": "[encoded data removed]",
      "text/plain": [
       "<Figure size 640x480 with 1 Axes>"
      ]
     },
     "metadata": {},
     "output_type": "display_data"
    },
    {
     "name": "stdout",
     "output_type": "stream",
     "text": [
      "Suggested LR range: [4.39e-03, 4.39e-02]  (pick ~ 1.46e-02 to 4.39e-02)\n"
     ]
    }
   ],
   "source": [
    "# --- Learning Rate Finder (Leslie Smith style) ---\n",
    "import math\n",
    "\n",
    "def lr_finder(lr_start=1e-5, lr_mult=1.2, max_batches=200, smooth_beta=0.98):\n",
    "    # fresh model each time\n",
    "    model = MLP(hidden_size=128, dropout=0.0)\n",
    "    criterion = nn.CrossEntropyLoss()\n",
    "    opt = optim.Adam(model.parameters(), lr=lr_start)\n",
    "\n",
    "    lrs, losses, smoothed, avg_loss = [], [], [], 0.0\n",
    "    lr = lr_start\n",
    "    best_loss = float('inf')\n",
    "\n",
    "    model.train()\n",
    "    batches_done = 0\n",
    "    for X, y in train_loader:\n",
    "        # forward/backward/step\n",
    "        opt.zero_grad()\n",
    "        loss = criterion(model(X), y)\n",
    "        loss.backward()\n",
    "        opt.step()\n",
    "\n",
    "        # smoothing for a clean curve\n",
    "        batches_done += 1\n",
    "        avg_loss = smooth_beta*avg_loss + (1-smooth_beta)*loss.item()\n",
    "        corr_loss = avg_loss / (1 - smooth_beta**batches_done)\n",
    "\n",
    "        lrs.append(lr)\n",
    "        losses.append(loss.item())\n",
    "        smoothed.append(corr_loss)\n",
    "\n",
    "        # track best & early stop if it explodes\n",
    "        best_loss = min(best_loss, corr_loss)\n",
    "        if math.isnan(corr_loss) or corr_loss > 4*best_loss:\n",
    "            break\n",
    "\n",
    "        # increase LR for the next batch\n",
    "        lr *= lr_mult\n",
    "        for g in opt.param_groups:\n",
    "            g['lr'] = lr\n",
    "\n",
    "        if batches_done >= max_batches:\n",
    "            break\n",
    "\n",
    "    # pick a suggested range: [best/10, best]\n",
    "    idx_min = int(torch.tensor(smoothed).argmin().item())\n",
    "    lr_best = lrs[idx_min]\n",
    "    lr_low  = lr_best / 10\n",
    "    return lrs, smoothed, (lr_low, lr_best)\n",
    "\n",
    "# ----- Run LR finder -----\n",
    "lrs, smoothed_losses, (lr_low, lr_best) = lr_finder(lr_start=1e-5, lr_mult=1.2, max_batches=250)\n",
    "\n",
    "# ----- Plot LR vs Loss (+ good LR zone) -----\n",
    "plt.figure()\n",
    "plt.plot(lrs, smoothed_losses)\n",
    "plt.xscale(\"log\")\n",
    "plt.xlabel(\"Learning Rate (log scale)\")\n",
    "plt.ylabel(\"Smoothed Training Loss\")\n",
    "plt.title(\"Learning Rate Finder\")\n",
    "\n",
    "# mark good LR zone [best/10, best]\n",
    "plt.axvspan(lr_low, lr_best, alpha=0.15, label=f\"good LR ~ [{lr_low:.2e}, {lr_best:.2e}]\")\n",
    "plt.axvline(lr_best, ls=\"--\", alpha=0.5)\n",
    "plt.legend()\n",
    "plt.show()\n",
    "\n",
    "print(f\"Suggested LR range: [{lr_low:.2e}, {lr_best:.2e}]  (pick ~ {lr_best/3:.2e} to {lr_best:.2e})\")\n"
   ]
  },
  {
   "cell_type": "markdown",
   "id": "176e66e3",
   "metadata": {},
   "source": [
    "\n",
    "\n",
    "## What the code does (in plain English)\n",
    "\n",
    "* **Make a fresh model** (so weights are untouched).\n",
    "* **Start LR very small** (`1e-5`) and **increase it every batch** by ×1.2.\n",
    "* For each batch:\n",
    "\n",
    "  * Do a normal train step (forward → loss → backward → optimizer step).\n",
    "  * **Record the loss** and a **smoothed loss** (exponential moving average) so the curve isn’t noisy.\n",
    "  * **Early-stop** if loss explodes (bigger than 4× the best so far).\n",
    "  * Set the **next LR** = current LR × 1.2.\n",
    "* **Plot loss vs LR on a log scale** to see behavior over many orders of magnitude.\n",
    "* **Mark the “good LR zone”** as `[LR_min/10, LR_min]`, where `LR_min` is the LR at the lowest smoothed loss.\n",
    "\n",
    "## How to read your plot\n",
    "\n",
    "From left to right (LR increasing):\n",
    "\n",
    "1. **Flat/high loss at tiny LRs (\\~1e-5 → 1e-3)**\n",
    "   Steps are too small → very slow learning.\n",
    "2. **Smooth, steady **decrease** (the sweet spot)**\n",
    "   This is where larger LRs make faster progress without instability.\n",
    "3. **Bottom of the curve (minimum loss)**\n",
    "   The best LR *during this sweep* — often a bit too high to train at; we back off.\n",
    "4. **Loss turns up / spikes**\n",
    "   LR is now too high → updates overshoot → divergence.\n",
    "\n",
    "## What your numbers mean\n",
    "\n",
    "* Shaded region: **good LR ≈ `[4.39e-03, 4.39e-02]`**\n",
    "* Dashed line: the **minimum** point (`~4.39e-02`).\n",
    "* **Pick an LR near the lower/middle of the band** for training, e.g. **`1e-2` to `2e-2`**.\n",
    "  (Rule of thumb: \\~`LR_min/3` is a safe pick.)\n",
    "\n",
    "## Why this is better than guessing\n",
    "\n",
    "It’s a **quick, empirical sweep** that shows where loss improves smoothly and where it blows up. You avoid:\n",
    "\n",
    "* LRs that are **too small** (waste time),\n",
    "* LRs that are **too big** (fail to train).\n",
    "\n",
    "\n"
   ]
  },
  {
   "cell_type": "markdown",
   "id": "9eb7169f",
   "metadata": {},
   "source": [
    "Notes / Key Takeaways\n",
    "\n",
    "Hyperparameters can make/break training.\n",
    "\n",
    "Random search often outperforms grid (try more diverse values).\n",
    "\n",
    "Learning rate is the single most important hyperparameter.\n",
    "\n",
    "Use validation accuracy as the selection metric.\n",
    "\n",
    "Automating sweeps = saves massive time."
   ]
  },
  {
   "cell_type": "markdown",
   "id": "a0a239f3",
   "metadata": {},
   "source": [
    "1. Why is random search often better than grid search in deep nets?\n",
    "\n",
    "Grid search wastes time: many hyperparameters don’t matter much, but grid still tests all combinations.\n",
    "\n",
    "Random search explores more diverse values, so it’s more likely to stumble on good configs faster.\n",
    "\n",
    "Especially in deep nets, only a few hyperparameters (like learning rate, dropout) have big impact → random search finds them more efficiently.\n",
    "\n",
    "2. Why is LR the most critical hyperparameter to tune first?\n",
    "\n",
    "LR controls the size of each weight update.\n",
    "\n",
    "Too small → painfully slow learning; too big → divergence/instability.\n",
    "\n",
    "Getting LR right unlocks good training dynamics; most other hyperparameters (batch size, hidden units, etc.) matter less if LR is badly chosen."
   ]
  }
 ],
 "metadata": {
  "kernelspec": {
   "display_name": "venv",
   "language": "python",
   "name": "python3"
  },
  "language_info": {
   "codemirror_mode": {
    "name": "ipython",
    "version": 3
   },
   "file_extension": ".py",
   "mimetype": "text/x-python",
   "name": "python",
   "nbconvert_exporter": "python",
   "pygments_lexer": "ipython3",
   "version": "3.11.3"
  }
 },
 "nbformat": 4,
 "nbformat_minor": 5
}
