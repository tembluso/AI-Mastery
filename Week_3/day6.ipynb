{
 "cells": [
  {
   "cell_type": "markdown",
   "id": "677f2ef0",
   "metadata": {},
   "source": [
    "Day 6: Cross-Validation (CV)\n",
    "🎯 Objective of the day\n",
    "\n",
    "Understand why a single train/test split isn’t reliable.\n",
    "\n",
    "Learn how to use k-fold cross-validation.\n",
    "\n",
    "Apply it on Titanic with Logistic Regression and Random Forest."
   ]
  },
  {
   "cell_type": "markdown",
   "id": "fee86fc3",
   "metadata": {},
   "source": [
    "Cross-validation splits the dataset into k parts and trains the model k times, each time using a different part as test data. The scores are averaged to get a more stable, reliable measure of performance than a single train/test split."
   ]
  },
  {
   "cell_type": "markdown",
   "id": "c96a6708",
   "metadata": {},
   "source": [
    "📝 Notes\n",
    "\n",
    "Problem with single split: your results depend heavily on how the data was split.\n",
    "\n",
    "Cross-validation: splits into k folds, trains k times, averages results → much more reliable.\n",
    "\n",
    "Larger k = more training, more stable, but also more compute.\n",
    "\n",
    "CV is the foundation for hyperparameter tuning (you’ll do this in Week 4 with GridSearch)."
   ]
  },
  {
   "cell_type": "code",
   "execution_count": 5,
   "id": "67d181a0",
   "metadata": {},
   "outputs": [
    {
     "name": "stdout",
     "output_type": "stream",
     "text": [
      "Logistic Regression CV scores: [0.77653631 0.78651685 0.78651685 0.76966292 0.83146067]\n",
      "Mean accuracy: 0.7901387232439896\n",
      "Random Forest CV scores: [0.76536313 0.80337079 0.85955056 0.7752809  0.8258427 ]\n",
      "Mean accuracy: 0.805881614462369\n"
     ]
    },
    {
     "name": "stderr",
     "output_type": "stream",
     "text": [
      "C:\\Users\\Usuario\\AppData\\Local\\Temp\\ipykernel_7500\\3157921669.py:60: MatplotlibDeprecationWarning: The 'labels' parameter of boxplot() has been renamed 'tick_labels' since Matplotlib 3.9; support for the old name will be dropped in 3.11.\n",
      "  plt.boxplot(results.values(), labels=results.keys())\n"
     ]
    },
    {
     "data": {
      "image/png": "[encoded data removed]",
      "text/plain": [
       "<Figure size 600x400 with 1 Axes>"
      ]
     },
     "metadata": {},
     "output_type": "display_data"
    }
   ],
   "source": [
    "import pandas as pd\n",
    "import seaborn as sns\n",
    "from sklearn.model_selection import train_test_split, cross_val_score, KFold\n",
    "from sklearn.pipeline import Pipeline\n",
    "from sklearn.compose import ColumnTransformer\n",
    "from sklearn.preprocessing import StandardScaler, OneHotEncoder\n",
    "from sklearn.impute import SimpleImputer\n",
    "from sklearn.linear_model import LogisticRegression\n",
    "from sklearn.ensemble import RandomForestClassifier\n",
    "import matplotlib.pyplot as plt\n",
    "\n",
    "df = sns.load_dataset(\"titanic\")\n",
    "\n",
    "X = df[[\"pclass\", \"sex\", \"age\", \"fare\", \"sibsp\", \"parch\", \"embarked\"]]\n",
    "y = df[\"survived\"]\n",
    "\n",
    "numeric_features = [\"age\", \"fare\", \"sibsp\", \"parch\"]\n",
    "numeric_transformer = Pipeline(steps=[\n",
    "    (\"imputer\", SimpleImputer(strategy=\"median\")),\n",
    "    (\"scaler\", StandardScaler())\n",
    "])\n",
    "\n",
    "categorical_features = [\"pclass\", \"sex\", \"embarked\"]\n",
    "categorical_transformer = Pipeline(steps=[\n",
    "    (\"imputer\", SimpleImputer(strategy=\"most_frequent\")),\n",
    "    (\"onehot\", OneHotEncoder(handle_unknown=\"ignore\"))\n",
    "])\n",
    "\n",
    "preprocessor = ColumnTransformer(\n",
    "    transformers=[\n",
    "        (\"num\", numeric_transformer, numeric_features),\n",
    "        (\"cat\", categorical_transformer, categorical_features)\n",
    "    ]\n",
    ")\n",
    "\n",
    "# Logistic regression with CV\n",
    "\n",
    "log_reg = Pipeline(steps=[\n",
    "    (\"preprocessor\", preprocessor),\n",
    "    (\"classifier\", LogisticRegression(max_iter=1000))\n",
    "])\n",
    "\n",
    "scores = cross_val_score(log_reg, X, y, cv=5, scoring=\"accuracy\")\n",
    "print(\"Logistic Regression CV scores:\", scores)\n",
    "print(\"Mean accuracy:\", scores.mean())\n",
    "\n",
    "# Random forest with CV\n",
    "\n",
    "rf = Pipeline(steps=[\n",
    "    (\"preprocessor\", preprocessor),\n",
    "    (\"classifier\", RandomForestClassifier(n_estimators=100, random_state=42))\n",
    "])\n",
    "\n",
    "scores_rf = cross_val_score(rf, X, y, cv=5, scoring=\"accuracy\")\n",
    "print(\"Random Forest CV scores:\", scores_rf)\n",
    "print(\"Mean accuracy:\", scores_rf.mean())\n",
    "\n",
    "# Plot\n",
    "plt.figure(figsize=(6,4))\n",
    "plt.boxplot(results.values(), labels=results.keys())\n",
    "plt.ylabel(\"Accuracy\")\n",
    "plt.title(\"Cross-Validation Scores (Titanic)\")\n",
    "plt.show()\n",
    "\n",
    "\n"
   ]
  },
  {
   "cell_type": "markdown",
   "id": "a6959d77",
   "metadata": {},
   "source": [
    "📊 Exercise of the Day\n",
    "\n",
    "What were the mean accuracies for Logistic Regression and Random Forest across 5 folds?\n",
    "\n",
    "Compare them with your single train/test split results from earlier. Were the CV results more stable?\n",
    "\n",
    "Why is cross-validation more reliable than a single split?"
   ]
  },
  {
   "cell_type": "markdown",
   "id": "c3a8706f",
   "metadata": {},
   "source": [
    "1) \n",
    "Logistic Regression Mean accuracy: 0.7901387232439896\n",
    "\n",
    "Random Forest Mean accuracy: 0.805881614462369\n",
    "\n",
    "2) \n",
    "No CV\n",
    "-Logistic Regression Accuracy: 0.7877094972067039\n",
    "\n",
    "-Random Forest Accuracy: 0.7821229050279329\n",
    "\n",
    "With CV\n",
    "-Logistic Regression Mean accuracy: 0.7901387232439896\n",
    "\n",
    "-Random Forest Mean accuracy: 0.805881614462369\n",
    "\n",
    "3) \n",
    "It si better as it uses all the data for both training and testing. This reduces depndece on one lucky/unlucky split giving a more reliable estimate of model performance."
   ]
  },
  {
   "cell_type": "markdown",
   "id": "ff755c0d",
   "metadata": {},
   "source": [
    "🌟 Mini-Challenge\n",
    "\n",
    "Try 10-fold CV instead of 5-fold.\n",
    "\n",
    "Compare the mean accuracy and variability (spread of scores).\n",
    "👉 What do you notice as k increases?"
   ]
  },
  {
   "cell_type": "code",
   "execution_count": 6,
   "id": "d914087f",
   "metadata": {},
   "outputs": [
    {
     "name": "stdout",
     "output_type": "stream",
     "text": [
      "Logistic Regression CV scores: [0.77777778 0.79775281 0.76404494 0.82022472 0.79775281 0.7752809\n",
      " 0.78651685 0.78651685 0.83146067 0.85393258]\n",
      "Mean accuracy: 0.7991260923845193\n",
      "Random Forest CV scores: [0.73333333 0.80898876 0.75280899 0.82022472 0.8988764  0.83146067\n",
      " 0.83146067 0.76404494 0.84269663 0.84269663]\n",
      "Mean accuracy: 0.8126591760299625\n"
     ]
    },
    {
     "name": "stderr",
     "output_type": "stream",
     "text": [
      "C:\\Users\\Usuario\\AppData\\Local\\Temp\\ipykernel_7500\\1842995620.py:19: MatplotlibDeprecationWarning: The 'labels' parameter of boxplot() has been renamed 'tick_labels' since Matplotlib 3.9; support for the old name will be dropped in 3.11.\n",
      "  plt.boxplot(results.values(), labels=results.keys())\n"
     ]
    },
    {
     "data": {
      "image/png": "[encoded data removed]",
      "text/plain": [
       "<Figure size 600x400 with 1 Axes>"
      ]
     },
     "metadata": {},
     "output_type": "display_data"
    }
   ],
   "source": [
    "scores = cross_val_score(log_reg, X, y, cv=10, scoring=\"accuracy\")\n",
    "print(\"Logistic Regression CV scores:\", scores)\n",
    "print(\"Mean accuracy:\", scores.mean())\n",
    "\n",
    "scores_rf = cross_val_score(rf, X, y, cv=10, scoring=\"accuracy\")\n",
    "print(\"Random Forest CV scores:\", scores_rf)\n",
    "print(\"Mean accuracy:\", scores_rf.mean())\n",
    "\n",
    "\n",
    "\n",
    "# Collect results\n",
    "results = {\n",
    "    \"Logistic Regression\": scores,\n",
    "    \"Random Forest\": scores_rf\n",
    "}\n",
    "\n",
    "# Plot\n",
    "plt.figure(figsize=(6,4))\n",
    "plt.boxplot(results.values(), labels=results.keys())\n",
    "plt.ylabel(\"Accuracy\")\n",
    "plt.title(\"Cross-Validation Scores (Titanic)\")\n",
    "plt.show()\n"
   ]
  },
  {
   "cell_type": "markdown",
   "id": "65b9ea34",
   "metadata": {},
   "source": [
    "With 10 folds the accuracy slightly imporves. AS we can see in the box plot the spread is very similar as when we used 5."
   ]
  }
 ],
 "metadata": {
  "kernelspec": {
   "display_name": "venv",
   "language": "python",
   "name": "python3"
  },
  "language_info": {
   "codemirror_mode": {
    "name": "ipython",
    "version": 3
   },
   "file_extension": ".py",
   "mimetype": "text/x-python",
   "name": "python",
   "nbconvert_exporter": "python",
   "pygments_lexer": "ipython3",
   "version": "3.11.3"
  }
 },
 "nbformat": 4,
 "nbformat_minor": 5
}
