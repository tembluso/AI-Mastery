{
 "cells": [
  {
   "cell_type": "markdown",
   "id": "d1cc4919",
   "metadata": {},
   "source": [
    "Day 4: Pipelines & Preprocessing\n",
    "🎯 Objective of the day\n",
    "\n",
    "Learn how to build scikit-learn pipelines.\n",
    "\n",
    "Automatically handle preprocessing + model training in one step.\n",
    "\n",
    "Work with both numeric and categorical features."
   ]
  },
  {
   "cell_type": "markdown",
   "id": "60f29c92",
   "metadata": {},
   "source": [
    "📝 Notes\n",
    "\n",
    "Pipelines help you avoid data leakage (preprocessing applied consistently on train & test).\n",
    "\n",
    "Cleaner code → preprocessing + model in one object.\n",
    "\n",
    "You can directly use pipelines with GridSearchCV later for hyperparameter tuning."
   ]
  },
  {
   "cell_type": "markdown",
   "id": "3c6ba076",
   "metadata": {},
   "source": [
    ". One-Hot Encoding (OHE)\n",
    "\n",
    "Machine learning models need numbers, but categories like \"male\" / \"female\" or \"C\" / \"Q\" / \"S\" are not numeric.\n",
    "\n",
    "If we just turned them into numbers (e.g., male=0, female=1), the model would wrongly assume an order (as if female > male).\n",
    "\n",
    "Instead, OneHotEncoder creates new binary columns, one for each category:\n",
    "Example:\n",
    "\n",
    "sex\n",
    "-----\n",
    "male    →  [1, 0]\n",
    "female  →  [0, 1]\n",
    "\n",
    "\n",
    "For 3 embarkation ports (C, Q, S):\n",
    "\n",
    "embarked = \"Q\" → [0, 1, 0]\n",
    "\n",
    "\n",
    "So OHE makes categorical data usable without implying false numerical order."
   ]
  },
  {
   "cell_type": "markdown",
   "id": "fd994feb",
   "metadata": {},
   "source": [
    "Numeric pipeline: fill missing with median, scale.\n",
    "\n",
    "Categorical pipeline: fill missing with most frequent, one-hot encode (convert categories to binary columns).\n",
    "\n",
    "ColumnTransformer: applies the right pipeline to the right columns and merges results.\n",
    "\n",
    "Final Pipeline: combines preprocessing + model into one, so train/test always get identical transformations automatically."
   ]
  },
  {
   "cell_type": "code",
   "execution_count": 13,
   "id": "208405c6",
   "metadata": {},
   "outputs": [
    {
     "name": "stdout",
     "output_type": "stream",
     "text": [
      "Accuracy: 0.7877094972067039\n"
     ]
    }
   ],
   "source": [
    "import pandas as pd\n",
    "from sklearn.model_selection import train_test_split\n",
    "from sklearn.pipeline import Pipeline\n",
    "from sklearn.compose import ColumnTransformer\n",
    "from sklearn.preprocessing import StandardScaler, OneHotEncoder\n",
    "from sklearn.impute import SimpleImputer\n",
    "from sklearn.linear_model import LogisticRegression\n",
    "from sklearn.metrics import accuracy_score\n",
    "from sklearn.ensemble import RandomForestClassifier\n",
    "\n",
    "import seaborn as sns\n",
    "df = sns.load_dataset(\"titanic\")\n",
    "\n",
    "# Select features\n",
    "X = df[[\"pclass\", \"sex\", \"age\", \"fare\", \"embarked\"]]\n",
    "y = df[\"survived\"]\n",
    "\n",
    "# Numeric features: fill missing with median + scale\n",
    "numeric_features = [\"age\", \"fare\"]\n",
    "numeric_transformer = Pipeline(steps=[\n",
    "    (\"imputer\", SimpleImputer(strategy=\"median\")),\n",
    "    (\"scaler\", StandardScaler())\n",
    "])\n",
    "\n",
    "# Categorical features: fill missing with most_frequent + one-hot encode\n",
    "categorical_features = [\"pclass\", \"sex\", \"embarked\"]\n",
    "categorical_transformer = Pipeline(steps=[\n",
    "    (\"imputer\", SimpleImputer(strategy=\"most_frequent\")),\n",
    "    (\"onehot\", OneHotEncoder(handle_unknown=\"ignore\"))\n",
    "])\n",
    "\n",
    "# Combine\n",
    "preprocessor = ColumnTransformer(\n",
    "    transformers=[\n",
    "        (\"num\", numeric_transformer, numeric_features),\n",
    "        (\"cat\", categorical_transformer, categorical_features)\n",
    "    ]\n",
    ")\n",
    "\n",
    "clf = Pipeline(steps=[\n",
    "    (\"preprocessor\", preprocessor),\n",
    "    (\"classifier\", LogisticRegression(max_iter=1000))\n",
    "])\n",
    "\n",
    "X_train, X_test, y_train, y_test = train_test_split(X, y, test_size=0.2, random_state=42)\n",
    "\n",
    "clf.fit(X_train, y_train)\n",
    "y_pred = clf.predict(X_test)\n",
    "\n",
    "print(\"Accuracy:\", accuracy_score(y_test, y_pred))\n",
    "\n"
   ]
  },
  {
   "cell_type": "markdown",
   "id": "c347bb97",
   "metadata": {},
   "source": [
    "📊 Exercise of the Day\n",
    "\n",
    "What accuracy did you get using the pipeline?\n",
    "\n",
    "Compare this with your earlier Titanic Logistic Regression (without a pipeline). Did handling preprocessing properly improve results?\n",
    "\n",
    "Why are pipelines useful in real-world projects?"
   ]
  },
  {
   "cell_type": "markdown",
   "id": "8eb55a64",
   "metadata": {},
   "source": [
    "1) Accuracy with pipeline: 0.79\n",
    "\n",
    "2) Logistic no pipeline: 0.76\n",
    "\n",
    "The use of a pipeline slightly improved the accuracy.\n",
    "\n",
    "3) Pipelines combine preprocessing of data and the training of the model into a single object. Therefore, every time the modle is tested or trained it will be done witht he same preprocessed data avoiding data leakage."
   ]
  },
  {
   "cell_type": "markdown",
   "id": "405ddbac",
   "metadata": {},
   "source": [
    "🌟 Mini-Challenge\n",
    "\n",
    "Swap the Logistic Regression model for a Random Forest Classifier inside the pipeline.\n",
    "\n",
    "Compare performance with Logistic Regression.\n",
    "👉 Which one works better on Titanic? Why might that be?"
   ]
  },
  {
   "cell_type": "code",
   "execution_count": 14,
   "id": "030b7611",
   "metadata": {},
   "outputs": [
    {
     "name": "stdout",
     "output_type": "stream",
     "text": [
      "Accuracy: 0.7821229050279329\n"
     ]
    }
   ],
   "source": [
    "clf = Pipeline(steps=[\n",
    "    (\"preprocessor\", preprocessor),\n",
    "    (\"classifier\", RandomForestClassifier(n_estimators=100, random_state=42))\n",
    "])\n",
    "\n",
    "X_train, X_test, y_train, y_test = train_test_split(X, y, test_size=0.2, random_state=42)\n",
    "\n",
    "clf.fit(X_train, y_train)\n",
    "y_pred = clf.predict(X_test)\n",
    "\n",
    "print(\"Accuracy:\", accuracy_score(y_test, y_pred))"
   ]
  },
  {
   "cell_type": "markdown",
   "id": "c215ac78",
   "metadata": {},
   "source": [
    "-Logistic Regression Accuracy: 0.7877094972067039\n",
    "\n",
    "-Random Forest Accuracy: 0.7821229050279329\n",
    "\n",
    "Almost identical accuracies logistic regression is slighty better. This might be because many of the features have linear signals. For exampe:\n",
    "\n",
    "-Being female increases survival odds.\n",
    "-Being in first class increases survival odds\n",
    "-Higher fare increases survival odds."
   ]
  },
  {
   "cell_type": "markdown",
   "id": "f39cd059",
   "metadata": {},
   "source": [
    "✨ Key Insight\n",
    "\n",
    "Pipelines don’t just make your code cleaner → they’re essential for real-world ML because:\n",
    "\n",
    "They guarantee reproducibility.\n",
    "\n",
    "They integrate seamlessly with GridSearchCV (you’ll use that soon).\n",
    "\n",
    "They allow you to deploy models without worrying about inconsistent preprocessing."
   ]
  }
 ],
 "metadata": {
  "kernelspec": {
   "display_name": "venv",
   "language": "python",
   "name": "python3"
  },
  "language_info": {
   "codemirror_mode": {
    "name": "ipython",
    "version": 3
   },
   "file_extension": ".py",
   "mimetype": "text/x-python",
   "name": "python",
   "nbconvert_exporter": "python",
   "pygments_lexer": "ipython3",
   "version": "3.11.3"
  }
 },
 "nbformat": 4,
 "nbformat_minor": 5
}
