{
 "cells": [
  {
   "cell_type": "markdown",
   "id": "c974055c",
   "metadata": {},
   "source": [
    "\n",
    "# Week 11 · Day 2 — Scaled Dot-Product Attention\n",
    "\n",
    "## Why this matters\n",
    "\n",
    "This is the **core formula** of attention used in Transformers. Once you understand and code it, you’ve basically unlocked the heart of GPT, BERT, and all modern LLMs.\n",
    "\n",
    "---\n",
    "\n",
    "## Theory Essentials\n",
    "\n",
    "* Formula:\n",
    "\n",
    "  $$\n",
    "  \\text{Attention}(Q,K,V) = \\text{softmax}\\!\\left(\\frac{QK^\\top}{\\sqrt{d_k}}\\right)V\n",
    "  $$\n",
    "* $QK^\\top$: similarity between queries and keys.\n",
    "* $\\sqrt{d_k}$: scaling to avoid very large values when dimensions are big.\n",
    "* Softmax: converts similarities into weights that sum to 1.\n",
    "* Multiply weights × V: output is weighted average of values.\n",
    "\n",
    "---\n",
    "\n"
   ]
  },
  {
   "cell_type": "code",
   "execution_count": null,
   "id": "210236f0",
   "metadata": {},
   "outputs": [
    {
     "name": "stdout",
     "output_type": "stream",
     "text": [
      "Attention weights:\n",
      " [[0.44503374 0.38860296 0.1663633 ]\n",
      " [0.50701047 0.22131809 0.27167143]]\n",
      "\n",
      "Output:\n",
      " [[ 0.34079018 -0.10590036 -0.51732908 -0.17991254]\n",
      " [ 0.45944115 -0.16916663 -0.3839647  -0.13600241]]\n"
     ]
    },
    {
     "data": {
      "image/png": "[encoded data removed]",
      "text/plain": [
       "<Figure size 640x480 with 2 Axes>"
      ]
     },
     "metadata": {},
     "output_type": "display_data"
    }
   ],
   "source": [
    "# Setup\n",
    "import numpy as np, matplotlib.pyplot as plt\n",
    "np.random.seed(42)\n",
    "\n",
    "def scaled_dot_product_attention(Q, K, V):\n",
    "    d_k = K.shape[-1] # Dimension of each vector. In this case d_k = 4\n",
    "    scores = Q @ K.T / np.sqrt(d_k)           # (query_len, key_len)\n",
    "    weights = np.exp(scores) / np.exp(scores).sum(axis=-1, keepdims=True)\n",
    "    output = weights @ V\n",
    "    return output, weights\n",
    "\n",
    "# Example: 2 queries, 3 tokens, 4D embeddings\n",
    "Q = np.random.randn(2, 4)   # 2 queries\n",
    "K = np.random.randn(3, 4)   # 3 keys\n",
    "V = np.random.randn(3, 4)   # 3 values\n",
    "\n",
    "out, w = scaled_dot_product_attention(Q, K, V)\n",
    "\n",
    "print(\"Attention weights:\\n\", w)\n",
    "print(\"\\nOutput:\\n\", out)\n",
    "\n",
    "# Visualize weights as heatmap\n",
    "plt.imshow(w, cmap=\"Blues\", aspect=\"auto\")\n",
    "plt.colorbar()\n",
    "plt.xlabel(\"Key index\")\n",
    "plt.ylabel(\"Query index\")\n",
    "plt.title(\"Attention Weights Heatmap\")\n",
    "plt.show()\n"
   ]
  },
  {
   "cell_type": "markdown",
   "id": "e11f2101",
   "metadata": {},
   "source": [
    "### 1. What is $d_k$?\n",
    "\n",
    "* $d_k$ is the **dimension of each key vector**.\n",
    "* In your example, `K` has shape `(3, 4)` → 3 keys, each with 4 numbers.\n",
    "* So $d_k = 4$.\n",
    "* That’s why in code we write:\n",
    "\n",
    "  ```python\n",
    "  d_k = K.shape[-1]  # the last dimension (4)\n",
    "  ```\n",
    "* We divide by $\\sqrt{d_k}$ to prevent the dot products from getting too large when vectors are high-dimensional (otherwise softmax would saturate).\n",
    "\n",
    "---\n",
    "\n",
    "### 2. Why do we get 6 weights with 2 queries and 3 keys?\n",
    "\n",
    "* Think of it this way: **each query attends to all keys**.\n",
    "* If you have 1 query → you get 3 weights (one per key).\n",
    "* If you have 2 queries → each query gets 3 weights.\n",
    "\n",
    "  * Query 0 → weights over 3 keys\n",
    "  * Query 1 → weights over 3 keys\n",
    "* Together that’s a **matrix** of size `(2, 3)`.\n",
    "\n",
    "That’s exactly what you see in your heatmap:\n",
    "\n",
    "* y-axis = query index (2 queries)\n",
    "* x-axis = key index (3 keys)\n",
    "* The color = how much that query attends to that key.\n",
    "\n",
    "---\n",
    "\n",
    "### 3. What does the output shape mean?\n",
    "\n",
    "* Your `V` matrix has shape `(3, 4)` → 3 values, each 4-dimensional.\n",
    "* After weighting them for each query, the output has shape `(2, 4)`:\n",
    "\n",
    "  * 2 queries × a new 4D vector each.\n",
    "* So each query gets back a **contextualized embedding** (still 4D, same as V’s dimension).\n",
    "\n",
    "---\n",
    "\n",
    "✅ So the summary:\n",
    "\n",
    "* $d_k$ = size of the key vectors (here, 4).\n",
    "* Each query attends to **all keys** → that’s why you see a weight distribution per query.\n",
    "* Output is one vector per query, built from a weighted average of the values.\n",
    "\n"
   ]
  },
  {
   "cell_type": "markdown",
   "id": "c68818a6",
   "metadata": {},
   "source": [
    "1) Core (10–15 min)\n",
    "Task: Change Q to be the same as one of the rows in K. What happens to the weights?"
   ]
  },
  {
   "cell_type": "code",
   "execution_count": 6,
   "id": "a4d679f4",
   "metadata": {},
   "outputs": [
    {
     "name": "stdout",
     "output_type": "stream",
     "text": [
      "Weights: [[0.67521456 0.18878363 0.13600181]]\n",
      "Dot products: [[3.28597393 0.73711596 0.08124928]]\n",
      "Norms of keys: [1.81272555 2.38469359 0.82385553]\n"
     ]
    }
   ],
   "source": [
    "K = np.random.randn(3, 4)   # 3 keys\n",
    "Q = K[[0]]  # query = first key\n",
    "out, w = scaled_dot_product_attention(Q,K,V)\n",
    "print(\"Weights:\", w)\n",
    "\n",
    "print(\"Dot products:\", Q @ K.T)\n",
    "print(\"Norms of keys:\", np.linalg.norm(K, axis=1))\n"
   ]
  },
  {
   "cell_type": "markdown",
   "id": "feff44ee",
   "metadata": {},
   "source": [
    "Note: Even though Q is identical to the first key, the first weight may not be the largest. This is because the dot product depends on both direction and magnitude. If another key vector has a larger norm (length), its dot product with Q can be bigger, so the softmax gives that key more weight. In practice, Transformers handle this by learning linear projections and often normalizing, but in this toy NumPy example raw magnitudes can dominate."
   ]
  },
  {
   "cell_type": "markdown",
   "id": "85486dde",
   "metadata": {},
   "source": [
    "2) Practice (10–15 min)\n",
    "Task: Try d_k=100 (make embeddings longer). Compare results with and without dividing by sqrt(d_k)."
   ]
  },
  {
   "cell_type": "code",
   "execution_count": 7,
   "id": "9eb8d205",
   "metadata": {},
   "outputs": [
    {
     "name": "stdout",
     "output_type": "stream",
     "text": [
      "Unscaled: [[2.90943023e-02 2.40818157e-01 7.30082030e-01 1.57072190e-10\n",
      "  5.51014294e-06]]\n",
      "Scaled: [[0.2387224  0.29490443 0.32949554 0.03557315 0.10130448]]\n"
     ]
    }
   ],
   "source": [
    "Q = np.random.randn(1,100)\n",
    "K = np.random.randn(5,100)\n",
    "V = np.random.randn(5,100)\n",
    "\n",
    "# Without scaling\n",
    "scores = Q @ K.T\n",
    "weights_unscaled = np.exp(scores)/np.exp(scores).sum()\n",
    "print(\"Unscaled:\", weights_unscaled)\n",
    "\n",
    "# With scaling\n",
    "scores_scaled = scores/np.sqrt(100)\n",
    "weights_scaled = np.exp(scores_scaled)/np.exp(scores_scaled).sum()\n",
    "print(\"Scaled:\", weights_scaled)\n"
   ]
  },
  {
   "cell_type": "markdown",
   "id": "190984c9",
   "metadata": {},
   "source": [
    "3) Stretch (optional, 10–15 min)\n",
    "Task: Implement attention with multiple queries at once (batched input).\n"
   ]
  },
  {
   "cell_type": "code",
   "execution_count": 8,
   "id": "60faa4d3",
   "metadata": {},
   "outputs": [
    {
     "name": "stdout",
     "output_type": "stream",
     "text": [
      "Output shape: (4, 64)\n"
     ]
    }
   ],
   "source": [
    "Q = np.random.randn(4,100)  # 4 queries\n",
    "K = np.random.randn(5,100)\n",
    "V = np.random.randn(5,64)   # values can have different dim\n",
    "\n",
    "out, w = scaled_dot_product_attention(Q,K,V)\n",
    "print(\"Output shape:\", out.shape)  # (4,64)\n"
   ]
  },
  {
   "cell_type": "markdown",
   "id": "36aee0a5",
   "metadata": {},
   "source": [
    "Mini-Challenge (≤40 min)\n",
    "\n",
    "Build: A function visualize_attention(Q,K,V) that:\n",
    "\n",
    "Computes attention.\n",
    "\n",
    "Prints output shape.\n",
    "\n",
    "Plots weights as a heatmap (queries × keys).\n",
    "\n",
    "Acceptance Criteria:\n",
    "\n",
    "Works with any Q,K,V sizes (as long as dimensions match).\n",
    "\n",
    "Heatmap is clear.\n",
    "\n",
    "Shows which keys each query attends to most."
   ]
  },
  {
   "cell_type": "code",
   "execution_count": 9,
   "id": "b7d267bf",
   "metadata": {},
   "outputs": [
    {
     "name": "stdout",
     "output_type": "stream",
     "text": [
      "Attention weights:\n",
      " [[0.25025151 0.14260976 0.43886659 0.07806393 0.09020821]\n",
      " [0.55443611 0.13506662 0.12771705 0.09661144 0.08616877]\n",
      " [0.17197893 0.31443394 0.36781143 0.02464715 0.12112855]\n",
      " [0.22680422 0.28150438 0.13724121 0.23514966 0.11930053]]\n",
      "\n",
      "Output shape:\n",
      " (4, 64)\n"
     ]
    },
    {
     "data": {
      "image/png": "[encoded data removed]",
      "text/plain": [
       "<Figure size 640x480 with 2 Axes>"
      ]
     },
     "metadata": {},
     "output_type": "display_data"
    }
   ],
   "source": [
    "\n",
    "def visualize_attention(Q, K, V):\n",
    "    d_k = K.shape[-1] # Dimension of each vector. In this case d_k = 4\n",
    "    scores = Q @ K.T / np.sqrt(d_k)           # (query_len, key_len)\n",
    "    weights = np.exp(scores) / np.exp(scores).sum(axis=-1, keepdims=True)\n",
    "    output = weights @ V\n",
    "\n",
    "    print(\"Attention weights:\\n\", weights)\n",
    "    print(\"\\nOutput shape:\\n\", output.shape)\n",
    "\n",
    "    # Visualize weights as heatmap\n",
    "    plt.imshow(weights, cmap=\"Blues\", aspect=\"auto\")\n",
    "    plt.colorbar()\n",
    "    plt.xlabel(\"Key index\")\n",
    "    plt.ylabel(\"Query index\")\n",
    "    plt.title(\"Attention Weights Heatmap\")\n",
    "    plt.show()\n",
    "\n",
    "Q = np.random.randn(4,100)  # 4 queries\n",
    "K = np.random.randn(5,100)\n",
    "V = np.random.randn(5,64)   # values can have different dim\n",
    "\n",
    "visualize_attention(Q, K, V)"
   ]
  },
  {
   "cell_type": "markdown",
   "id": "ea3f98aa",
   "metadata": {},
   "source": [
    "Notes / Key Takeaways\n",
    "\n",
    "Scaled dot-product attention = core Transformer building block.\n",
    "\n",
    "Scaling prevents softmax from collapsing to near one-hot.\n",
    "\n",
    "Works with multiple queries in parallel (matrix ops).\n",
    "\n",
    "Output size = (queries × value_dim).\n",
    "\n",
    "Visualizing weights helps build intuition."
   ]
  },
  {
   "cell_type": "markdown",
   "id": "2c775925",
   "metadata": {},
   "source": [
    "Reflection\n",
    "\n",
    "Why do we divide by sqrt(d_k) instead of leaving scores unscaled?\n",
    "\n",
    "How does the weighted sum ensure information from multiple tokens can be blended?"
   ]
  }
 ],
 "metadata": {
  "kernelspec": {
   "display_name": "venv",
   "language": "python",
   "name": "python3"
  },
  "language_info": {
   "codemirror_mode": {
    "name": "ipython",
    "version": 3
   },
   "file_extension": ".py",
   "mimetype": "text/x-python",
   "name": "python",
   "nbconvert_exporter": "python",
   "pygments_lexer": "ipython3",
   "version": "3.11.3"
  }
 },
 "nbformat": 4,
 "nbformat_minor": 5
}
