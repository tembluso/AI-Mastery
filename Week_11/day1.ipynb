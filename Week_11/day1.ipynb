{
 "cells": [
  {
   "cell_type": "markdown",
   "id": "9728a85a",
   "metadata": {},
   "source": [
    "Week 11 · Day 1 — Attention Intuition (Q, K, V)\n",
    "Why this matters\n",
    "\n",
    "Attention is the core mechanism behind Transformers (GPT, BERT, etc.). It lets models decide which parts of a sequence matter most, enabling them to scale beyond RNNs. Today you’ll build intuition for queries, keys, and values.\n",
    "\n",
    "Theory Essentials\n",
    "\n",
    "Query (Q): what we’re looking for.\n",
    "\n",
    "Key (K): what each token “offers” for matching.\n",
    "\n",
    "Value (V): the actual content we’ll mix and pass forward.\n",
    "\n",
    "Dot-product similarity: compares Q vs K.\n",
    "\n",
    "Attention weights: softmax of similarities.\n",
    "\n",
    "Weighted sum: apply weights to values to get the output."
   ]
  },
  {
   "cell_type": "code",
   "execution_count": 1,
   "id": "25185545",
   "metadata": {},
   "outputs": [
    {
     "name": "stdout",
     "output_type": "stream",
     "text": [
      "Scores: [[1 0 1]]\n",
      "Weights: [[0.4223188 0.1553624 0.4223188]]\n",
      "Attention output: [[ 2. 20.]]\n"
     ]
    },
    {
     "data": {
      "image/png": "[encoded data removed]",
      "text/plain": [
       "<Figure size 600x400 with 1 Axes>"
      ]
     },
     "metadata": {},
     "output_type": "display_data"
    }
   ],
   "source": [
    "# Setup\n",
    "import numpy as np, pandas as pd, matplotlib.pyplot as plt\n",
    "np.random.seed(42)\n",
    "plt.rcParams[\"figure.figsize\"] = (6,4)\n",
    "plt.rcParams[\"axes.grid\"] = True\n",
    "\n",
    "# --- Toy example: 3 tokens, 2D vectors ---\n",
    "Q = np.array([[1,0]])      # query\n",
    "K = np.array([[1,0],[0,1],[1,1]])  # keys\n",
    "V = np.array([[1,10],[2,20],[3,30]]) # values\n",
    "\n",
    "# Compute attention weights\n",
    "scores = Q @ K.T            # dot products\n",
    "weights = np.exp(scores) / np.exp(scores).sum()\n",
    "\n",
    "# Weighted sum of values\n",
    "attn_output = weights @ V\n",
    "\n",
    "print(\"Scores:\", scores)\n",
    "print(\"Weights:\", weights)\n",
    "print(\"Attention output:\", attn_output)\n",
    "\n",
    "# Plot weights as a bar chart\n",
    "plt.bar(range(len(weights.flatten())), weights.flatten())\n",
    "plt.xlabel(\"Token\")\n",
    "plt.ylabel(\"Attention weight\")\n",
    "plt.title(\"Attention over tokens\")\n",
    "plt.show()\n"
   ]
  },
  {
   "cell_type": "markdown",
   "id": "c53395de",
   "metadata": {},
   "source": [
    "\n",
    "\n",
    "## Example: Translating a sentence\n",
    "\n",
    "Imagine you want to translate **“The cat sat on the mat”** into another language.\n",
    "\n",
    "* You’re processing the word **“sat.”**\n",
    "* To decide how to translate it, the model needs to **look back**:\n",
    "\n",
    "  * “cat” (subject)\n",
    "  * “mat” (object/place)\n",
    "\n",
    "Attention helps the model decide:\n",
    "👉 *“When I translate **‘sat’**, which other words should I pay attention to?”*\n",
    "\n",
    "---\n",
    "\n",
    "## Role of Q, K, V\n",
    "\n",
    "Think of it like a **search engine inside the model**:\n",
    "\n",
    "* **Query (Q):** The current word asking: *“What do I need?”*\n",
    "  (e.g., “sat” wants to know its subject and object.)\n",
    "* **Keys (K):** Labels that each word carries about what it offers.\n",
    "  (“cat” offers subject info, “mat” offers location info.)\n",
    "* **Values (V):** The actual content/info of the word.\n",
    "  (The embeddings — rich vectors that represent meaning.)\n",
    "\n",
    "The model:\n",
    "\n",
    "1. Compares **Q** with every **K** → dot product = similarity score.\n",
    "2. Passes scores through **softmax** → turns them into weights (0–1, sum = 1).\n",
    "3. Uses weights to mix the **V**s → output is a context-aware embedding.\n",
    "\n",
    "So for “sat”:\n",
    "\n",
    "* High weight to **“cat”** (subject).\n",
    "* Some weight to **“mat”** (object/place).\n",
    "* Little weight to other words.\n",
    "\n",
    "---\n",
    "\n",
    "## What is Softmax?\n",
    "\n",
    "Softmax is just a mathematical trick to turn numbers into **probabilities**.\n",
    "\n",
    "Formula:\n",
    "\n",
    "$$\n",
    "\\text{softmax}(s_i) = \\frac{e^{s_i}}{\\sum_j e^{s_j}}\n",
    "$$\n",
    "\n",
    "Properties:\n",
    "\n",
    "* Outputs are always between **0 and 1**.\n",
    "* They **add up to 1** (like probabilities).\n",
    "* Bigger input → bigger probability, but smoothly scaled.\n",
    "\n",
    "### Example:\n",
    "\n",
    "If raw scores = `[2, 1, 0]`\n",
    "\n",
    "$$\n",
    "e^2 = 7.39, \\quad e^1 = 2.71, \\quad e^0 = 1\n",
    "$$\n",
    "\n",
    "Sum = 11.1\n",
    "\n",
    "Softmax = `[0.66, 0.24, 0.09]`\n",
    "\n",
    "👉 The first item gets most of the focus.\n",
    "\n",
    "---\n",
    "\n",
    "## Why is this useful?\n",
    "\n",
    "Because now each word can dynamically **decide where to look**.\n",
    "\n",
    "* RNNs only look one step at a time.\n",
    "* Attention lets you look **everywhere at once**, weighted by importance.\n",
    "\n",
    "That’s why Transformers scale so well: every token can see **all other tokens** directly.\n",
    "\n"
   ]
  },
  {
   "cell_type": "markdown",
   "id": "c0299477",
   "metadata": {},
   "source": [
    "### Step 1: Query vs Keys → Relevance\n",
    "\n",
    "* Dot product tells us how much **Q** (what we’re looking for) matches each **K** (what tokens offer).\n",
    "* Softmax turns those scores into **weights** (probabilities).\n",
    "* Bigger weight = “this token is more relevant to my query.”\n",
    "\n",
    "---\n",
    "\n",
    "### Step 2: Why multiply by Values (V)?\n",
    "\n",
    "Remember:\n",
    "\n",
    "* **Keys (K):** only used to measure *relevance*.\n",
    "* **Values (V):** hold the actual *information* we want to pass forward.\n",
    "\n",
    "So after softmax, we have weights like:\n",
    "\n",
    "```\n",
    "Token 0: 0.7 (important)\n",
    "Token 1: 0.2\n",
    "Token 2: 0.1\n",
    "```\n",
    "\n",
    "Now, instead of just picking token 0, we make a **weighted average** of their values.\n",
    "\n",
    "---\n",
    "\n",
    "### Tiny Example with Numbers\n",
    "\n",
    "Say we have:\n",
    "\n",
    "```\n",
    "V = [[1, 10],   # value for token 0\n",
    "     [2, 20],   # value for token 1\n",
    "     [3, 30]]   # value for token 2\n",
    "\n",
    "Weights = [0.7, 0.2, 0.1]\n",
    "```\n",
    "\n",
    "Compute:\n",
    "\n",
    "$$\n",
    "\\text{Output} = 0.7*[1,10] + 0.2*[2,20] + 0.1*[3,30]\n",
    "$$\n",
    "\n",
    "\\= `[0.7*1 + 0.2*2 + 0.1*3, 0.7*10 + 0.2*20 + 0.1*30]`\n",
    "\\= `[1.6, 14.0]`\n",
    "\n",
    "---\n",
    "\n",
    "### Why this?\n",
    "\n",
    "Because the output should represent **a mix of the most relevant tokens’ information**.\n",
    "\n",
    "👉 In words:\n",
    "\n",
    "* The query looked at all tokens.\n",
    "* It decided token 0 mattered most, but tokens 1 and 2 still add a little.\n",
    "* The output is a **blended representation** based on those relevance scores.\n",
    "\n",
    "This blended vector goes forward in the network — now “aware” of the context.\n",
    "\n"
   ]
  },
  {
   "cell_type": "markdown",
   "id": "257bd107",
   "metadata": {},
   "source": [
    "1) Core (10–15 min)\n",
    "Task: Change the query vector to [0,1] and rerun. Which token gets the most weight?"
   ]
  },
  {
   "cell_type": "code",
   "execution_count": 3,
   "id": "fb5dbbcd",
   "metadata": {},
   "outputs": [
    {
     "name": "stdout",
     "output_type": "stream",
     "text": [
      "[[0.1553624 0.4223188 0.4223188]]\n"
     ]
    }
   ],
   "source": [
    "Q = np.array([[0,1]])\n",
    "scores = Q @ K.T\n",
    "weights = np.exp(scores) / np.exp(scores).sum()\n",
    "print(weights)\n"
   ]
  },
  {
   "cell_type": "markdown",
   "id": "560fc626",
   "metadata": {},
   "source": [
    "2) Practice (10–15 min)\n",
    "Task: Try 2 queries: [1,1] and [2,0]. Compare how weights shift."
   ]
  },
  {
   "cell_type": "code",
   "execution_count": 4,
   "id": "6146db9c",
   "metadata": {},
   "outputs": [
    {
     "name": "stdout",
     "output_type": "stream",
     "text": [
      "Q=[1, 1], Weights=[[0.21194156 0.21194156 0.57611688]]\n",
      "Q=[2, 0], Weights=[[0.46831053 0.06337894 0.46831053]]\n"
     ]
    }
   ],
   "source": [
    "for q in [[1,1],[2,0]]:\n",
    "    Q = np.array([q])\n",
    "    scores = Q @ K.T\n",
    "    weights = np.exp(scores)/np.exp(scores).sum()\n",
    "    print(f\"Q={q}, Weights={weights}\")\n"
   ]
  },
  {
   "cell_type": "markdown",
   "id": "39ab47c0",
   "metadata": {},
   "source": [
    "3) Stretch (optional, 10–15 min)\n",
    "Task: Add a temperature parameter τ to scale scores before softmax. Try τ = 0.5 and τ = 2.\n",
    "Hint: Lower τ → sharper focus."
   ]
  },
  {
   "cell_type": "code",
   "execution_count": 7,
   "id": "b3fc919b",
   "metadata": {},
   "outputs": [
    {
     "name": "stdout",
     "output_type": "stream",
     "text": [
      "tau=0.5, Weights=[[0.46831053 0.06337894 0.46831053]]\n",
      "tau=2.0, Weights=[[0.38365173 0.23269654 0.38365173]]\n"
     ]
    }
   ],
   "source": [
    "Q = np.array([[1,0]])      # query\n",
    "K = np.array([[1,0],[0,1],[1,1]])  # keys\n",
    "V = np.array([[1,10],[2,20],[3,30]]) # values\n",
    "\n",
    "tau_values = [0.5, 2.0]\n",
    "for tau in tau_values:\n",
    "    scores = (Q @ K.T)/tau\n",
    "    weights = np.exp(scores)/np.exp(scores).sum()\n",
    "    print(f\"tau={tau}, Weights={weights}\")\n"
   ]
  },
  {
   "cell_type": "markdown",
   "id": "a96765fb",
   "metadata": {},
   "source": [
    "Mini-Challenge (≤40 min)\n",
    "\n",
    "Build: A small “attention explorer.” Given any query [q1,q2], compute attention over the 3 tokens and plot the bar chart.\n",
    "Acceptance Criteria:\n",
    "\n",
    "Input: query vector from user.\n",
    "\n",
    "Output: printed weights + bar plot.\n",
    "\n",
    "Clear visual showing which token is attended most."
   ]
  },
  {
   "cell_type": "code",
   "execution_count": 8,
   "id": "f990b316",
   "metadata": {},
   "outputs": [
    {
     "name": "stdout",
     "output_type": "stream",
     "text": [
      "Scores: [[1 2 3]]\n",
      "Weights: [[0.09003057 0.24472847 0.66524096]]\n",
      "Attention output: [[ 2.57521038 25.75210383]]\n"
     ]
    },
    {
     "data": {
      "image/png": "[encoded data removed]",
      "text/plain": [
       "<Figure size 600x400 with 1 Axes>"
      ]
     },
     "metadata": {},
     "output_type": "display_data"
    }
   ],
   "source": [
    "\n",
    "first = int(input(\"Write the first int of your query: \"))\n",
    "second = int(input(\"Write the second int of your query: \"))\n",
    "\n",
    "Q = np.array([[first,second]])      # query\n",
    "K = np.array([[1,0],[0,1],[1,1]])  # keys\n",
    "V = np.array([[1,10],[2,20],[3,30]]) # values\n",
    "\n",
    "# Compute attention weights\n",
    "scores = Q @ K.T            # dot products\n",
    "weights = np.exp(scores) / np.exp(scores).sum()\n",
    "\n",
    "# Weighted sum of values\n",
    "attn_output = weights @ V\n",
    "\n",
    "print(\"Scores:\", scores)\n",
    "print(\"Weights:\", weights)\n",
    "print(\"Attention output:\", attn_output)\n",
    "\n",
    "# Plot weights as a bar chart\n",
    "plt.bar(range(len(weights.flatten())), weights.flatten())\n",
    "plt.xlabel(\"Token\")\n",
    "plt.ylabel(\"Attention weight\")\n",
    "plt.title(\"Attention over tokens\")\n",
    "plt.show()\n"
   ]
  },
  {
   "cell_type": "markdown",
   "id": "4cbf20ea",
   "metadata": {},
   "source": [
    "Notes / Key Takeaways\n",
    "\n",
    "Attention = weighted average of values.\n",
    "\n",
    "Weights come from similarity (Q·K).\n",
    "\n",
    "Queries decide what to look for.\n",
    "\n",
    "Keys represent token identity/features.\n",
    "\n",
    "Values are the information carried forward.\n",
    "\n",
    "Softmax ensures weights sum to 1.\n",
    "\n",
    "Temperature adjusts focus sharpness."
   ]
  },
  {
   "cell_type": "markdown",
   "id": "b7627a03",
   "metadata": {},
   "source": [
    "Reflection\n",
    "\n",
    "Can you explain the roles of Q, K, and V in one sentence each?\n",
    "\n",
    "How is attention more flexible than fixed context windows in RNNs?"
   ]
  },
  {
   "cell_type": "markdown",
   "id": "04bc5f80",
   "metadata": {},
   "source": [
    "Q (Query): Represents what the current token is looking for in other tokens.\n",
    "\n",
    "K (Key): Represents what each token offers for matching.\n",
    "\n",
    "V (Value): Contains the actual information to be combined based on relevance.\n",
    "\n",
    "👉 Attention is more flexible than RNNs because it lets each token look at all other tokens in the sequence at once, instead of being limited to a fixed step-by-step context window."
   ]
  }
 ],
 "metadata": {
  "kernelspec": {
   "display_name": "venv",
   "language": "python",
   "name": "python3"
  },
  "language_info": {
   "codemirror_mode": {
    "name": "ipython",
    "version": 3
   },
   "file_extension": ".py",
   "mimetype": "text/x-python",
   "name": "python",
   "nbconvert_exporter": "python",
   "pygments_lexer": "ipython3",
   "version": "3.11.3"
  }
 },
 "nbformat": 4,
 "nbformat_minor": 5
}
