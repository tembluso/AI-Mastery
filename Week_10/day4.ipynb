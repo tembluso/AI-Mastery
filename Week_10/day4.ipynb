{
 "cells": [
  {
   "cell_type": "markdown",
   "id": "3c2e2f04",
   "metadata": {},
   "source": [
    "Week 10 · Day 4 — Evaluation & Error Analysis\n",
    "Why this matters\n",
    "\n",
    "Training accuracy alone is misleading. Proper evaluation (confusion matrix, per-class metrics, ROC/PR curves) shows where the model struggles. Error analysis (looking at misclassified samples) is how you improve models beyond just tuning hyperparams.\n",
    "\n",
    "Theory Essentials\n",
    "\n",
    "Confusion matrix: counts TP, FP, TN, FN.\n",
    "\n",
    "Precision/Recall/F1: better than accuracy for imbalance.\n",
    "\n",
    "ROC-AUC: tradeoff between TPR/FPR.\n",
    "\n",
    "PR-AUC: better when positive class is rare.\n",
    "\n",
    "Threshold tuning: adjusting decision cutoff improves balance.\n",
    "\n",
    "Error analysis: manually inspect misclassified examples → reveals data/model issues."
   ]
  },
  {
   "cell_type": "code",
   "execution_count": 2,
   "id": "6174e952",
   "metadata": {},
   "outputs": [
    {
     "name": "stdout",
     "output_type": "stream",
     "text": [
      "Confusion Matrix:\n",
      " [[2 3]\n",
      " [3 2]]\n",
      "\n",
      "Classification Report:\n",
      "               precision    recall  f1-score   support\n",
      "\n",
      "           0      0.400     0.400     0.400         5\n",
      "           1      0.400     0.400     0.400         5\n",
      "\n",
      "    accuracy                          0.400        10\n",
      "   macro avg      0.400     0.400     0.400        10\n",
      "weighted avg      0.400     0.400     0.400        10\n",
      "\n",
      "ROC-AUC: 0.32\n",
      "PR-AUC: 0.409\n"
     ]
    },
    {
     "data": {
      "image/png": "[encoded data removed]",
      "text/plain": [
       "<Figure size 640x480 with 1 Axes>"
      ]
     },
     "metadata": {},
     "output_type": "display_data"
    },
    {
     "name": "stdout",
     "output_type": "stream",
     "text": [
      "Example 1: true=1, pred=0, prob=0.05\n",
      "Example 2: true=0, pred=1, prob=0.86\n",
      "Example 4: true=1, pred=0, prob=0.26\n",
      "Example 5: true=0, pred=1, prob=0.68\n",
      "Example 6: true=0, pred=1, prob=0.57\n",
      "Example 9: true=1, pred=0, prob=0.19\n"
     ]
    }
   ],
   "source": [
    "# Setup\n",
    "import numpy as np, torch\n",
    "import torch.nn as nn\n",
    "from sklearn.metrics import confusion_matrix, classification_report, roc_auc_score, precision_recall_curve, auc\n",
    "import matplotlib.pyplot as plt\n",
    "\n",
    "torch.manual_seed(42)\n",
    "\n",
    "# Fake predictions (logits) and labels\n",
    "y_true = np.array([0, 1, 0, 1, 1, 0, 0, 1, 0, 1])\n",
    "logits = torch.randn(len(y_true), 2)\n",
    "y_probs = torch.softmax(logits, dim=1)[:,1].detach().numpy()\n",
    "y_pred = (y_probs >= 0.5).astype(int)\n",
    "\n",
    "# Confusion Matrix\n",
    "cm = confusion_matrix(y_true, y_pred)\n",
    "print(\"Confusion Matrix:\\n\", cm)\n",
    "\n",
    "# Per-class metrics\n",
    "print(\"\\nClassification Report:\\n\", classification_report(y_true, y_pred, digits=3))\n",
    "\n",
    "# ROC-AUC\n",
    "roc = roc_auc_score(y_true, y_probs)\n",
    "print(\"ROC-AUC:\", round(roc, 3))\n",
    "\n",
    "# PR Curve\n",
    "prec, rec, thr = precision_recall_curve(y_true, y_probs)\n",
    "pr_auc = auc(rec, prec)\n",
    "print(\"PR-AUC:\", round(pr_auc, 3))\n",
    "\n",
    "# Plot PR Curve\n",
    "plt.plot(rec, prec, label=f\"PR-AUC={pr_auc:.2f}\")\n",
    "plt.xlabel(\"Recall\"); plt.ylabel(\"Precision\"); plt.title(\"Precision-Recall Curve\")\n",
    "plt.legend(); plt.show()\n",
    "\n",
    "# Misclassified examples\n",
    "for i, (yt, yp, prob) in enumerate(zip(y_true, y_pred, y_probs)):\n",
    "    if yt != yp:\n",
    "        print(f\"Example {i}: true={yt}, pred={yp}, prob={prob:.2f}\")\n"
   ]
  },
  {
   "cell_type": "markdown",
   "id": "7f146b97",
   "metadata": {},
   "source": [
    "🔹 ROC-AUC\n",
    "\n",
    "ROC (Receiver Operating Characteristic) curve: plots\n",
    "\n",
    "x-axis: False Positive Rate (FPR = FP / (FP+TN))\n",
    "\n",
    "y-axis: True Positive Rate (TPR = Recall = TP / (TP+FN))\n",
    "\n",
    "Each threshold (0.0 → 1.0) gives a different point on the curve.\n",
    "\n",
    "AUC (Area Under the Curve): measures how well the model separates classes.\n",
    "\n",
    "1.0 = perfect separation\n",
    "\n",
    "0.5 = random guessing\n",
    "\n",
    "<0.5 means the model is worse than random (inverted).\n",
    "\n",
    "👉 Intuition: ROC-AUC tells you “how good is my model at ranking positives higher than negatives?”\n",
    "\n",
    "🔹 Precision-Recall (PR) curve\n",
    "\n",
    "Precision = TP / (TP + FP)\n",
    "“Of all predicted positives, how many are truly positive?”\n",
    "\n",
    "Recall = TP / (TP + FN)\n",
    "“Of all actual positives, how many did I catch?”\n",
    "\n",
    "The PR curve plots Precision (y-axis) vs Recall (x-axis) across thresholds.\n",
    "\n",
    "Trade-off:\n",
    "\n",
    "High recall → you catch almost all positives, but precision might drop (more false alarms).\n",
    "\n",
    "High precision → fewer false alarms, but you might miss positives (low recall).\n",
    "\n",
    "👉 Useful when classes are imbalanced (e.g., fraud detection, rare diseases), because ROC can be overly optimistic in imbalanced data.\n",
    "\n",
    "🔹 PR-AUC\n",
    "\n",
    "The area under the PR curve.\n",
    "\n",
    "Higher = better balance between precision & recall.\n",
    "\n",
    "Especially informative with imbalanced datasets, since it focuses on performance for the positive class."
   ]
  },
  {
   "cell_type": "markdown",
   "id": "66271cd5",
   "metadata": {},
   "source": [
    "1) Core (10–15 min)\n",
    "\n",
    "Task: Run confusion matrix with a new threshold (e.g., 0.3 instead of 0.5). Compare FN vs FP."
   ]
  },
  {
   "cell_type": "code",
   "execution_count": 3,
   "id": "0a95407c",
   "metadata": {},
   "outputs": [
    {
     "name": "stdout",
     "output_type": "stream",
     "text": [
      "[[0 5]\n",
      " [3 2]]\n"
     ]
    }
   ],
   "source": [
    "y_pred = (y_probs >= 0.3).astype(int)\n",
    "print(confusion_matrix(y_true, y_pred))\n"
   ]
  },
  {
   "cell_type": "markdown",
   "id": "dbf1921a",
   "metadata": {},
   "source": [
    "2) Practice (10–15 min)\n",
    "\n",
    "Task: Generate both ROC and PR curves on the same dataset. Which curve is more informative here?"
   ]
  },
  {
   "cell_type": "code",
   "execution_count": 7,
   "id": "a586c43e",
   "metadata": {},
   "outputs": [
    {
     "data": {
      "image/png": "[encoded data removed]",
      "text/plain": [
       "<Figure size 640x480 with 1 Axes>"
      ]
     },
     "metadata": {},
     "output_type": "display_data"
    },
    {
     "data": {
      "image/png": "[encoded data removed]",
      "text/plain": [
       "<Figure size 640x480 with 1 Axes>"
      ]
     },
     "metadata": {},
     "output_type": "display_data"
    }
   ],
   "source": [
    "from sklearn.metrics import roc_curve\n",
    "fpr, tpr, _ = roc_curve(y_true, y_probs)\n",
    "plt.plot(fpr, tpr, label=\"ROC\")\n",
    "plt.xlabel(\"FP Rate\"); plt.ylabel(\"TP rate\"); plt.title(\"ROC curve\")\n",
    "plt.legend(); plt.show()\n",
    "\n",
    "\n",
    "\n",
    "plt.plot(rec, prec, label=f\"PR-AUC={pr_auc:.2f}\")\n",
    "plt.xlabel(\"Recall\"); plt.ylabel(\"Precision\"); plt.title(\"Precision-Recall Curve\")\n",
    "plt.legend(); plt.show()"
   ]
  },
  {
   "cell_type": "markdown",
   "id": "0a902b5f",
   "metadata": {},
   "source": [
    "The PR curve is more informative, because it highlights that although ROC might look “OK-ish,” the model actually performs poorly at precision/recall trade-offs (harder to catch positives reliably)."
   ]
  },
  {
   "cell_type": "markdown",
   "id": "714b5c79",
   "metadata": {},
   "source": [
    "3) Stretch (optional, 10–15 min)\n",
    "\n",
    "Task: Collect the 3 most confident misclassifications (highest wrong probs). Print them."
   ]
  },
  {
   "cell_type": "code",
   "execution_count": 9,
   "id": "113cb2ce",
   "metadata": {},
   "outputs": [
    {
     "name": "stdout",
     "output_type": "stream",
     "text": [
      "\n",
      "Top-3 most confident misclassifications:\n",
      "idx= 1  true=1  pred=0  pred_prob=0.953  true_prob=0.047\n",
      "idx= 2  true=0  pred=1  pred_prob=0.863  true_prob=0.137\n",
      "idx= 9  true=1  pred=0  pred_prob=0.806  true_prob=0.194\n"
     ]
    }
   ],
   "source": [
    "# --- Top-3 most confident misclassifications ---\n",
    "# Get full class probabilities (works for binary or multi-class)\n",
    "probs = torch.softmax(logits, dim=1).detach().numpy()        # shape: [N, C]\n",
    "y_pred = probs.argmax(axis=1)                                 # predicted class per sample\n",
    "\n",
    "idx_mis = np.where(y_true != y_pred)[0]                       # indices of misclassifications\n",
    "if len(idx_mis) == 0:\n",
    "    print(\"No misclassifications.\")\n",
    "else:\n",
    "    # Confidence of the WRONG prediction = prob of the predicted (incorrect) class\n",
    "    wrong_conf = probs[idx_mis, y_pred[idx_mis]]              # shape: [#mis]\n",
    "    # Sort misclassified by descending confidence and take top-3\n",
    "    topk = idx_mis[np.argsort(-wrong_conf)][:3]\n",
    "\n",
    "    print(\"\\nTop-3 most confident misclassifications:\")\n",
    "    for i in topk:\n",
    "        pred_class = y_pred[i]\n",
    "        true_class = y_true[i]\n",
    "        pred_prob  = probs[i, pred_class]\n",
    "        true_prob  = probs[i, true_class]\n",
    "        print(f\"idx={i:2d}  true={true_class}  pred={pred_class}  \"\n",
    "              f\"pred_prob={pred_prob:.3f}  true_prob={true_prob:.3f}\")\n"
   ]
  },
  {
   "cell_type": "markdown",
   "id": "c4dc8d09",
   "metadata": {},
   "source": [
    "Mini-Challenge (≤40 min)\n",
    "\n",
    "Task: On a small IMDB subset (e.g., 500 reviews):\n",
    "\n",
    "Train a BiLSTM sentiment model.\n",
    "\n",
    "Compute confusion matrix, ROC-AUC, PR-AUC.\n",
    "\n",
    "Print 5 misclassified reviews (with true label, predicted label, probability).\n",
    "\n",
    "Acceptance Criteria:\n",
    "\n",
    "Outputs confusion matrix and ROC/PR AUC values.\n",
    "\n",
    "Lists 5 misclassified reviews with probabilities.\n",
    "\n",
    "Short written insight: what types of reviews are hardest for the model?"
   ]
  },
  {
   "cell_type": "code",
   "execution_count": 13,
   "id": "7b816567",
   "metadata": {},
   "outputs": [
    {
     "name": "stdout",
     "output_type": "stream",
     "text": [
      "Epoch 1 - Loss 0.6944\n",
      "Epoch 2 - Loss 0.6493\n",
      "Epoch 3 - Loss 0.5751\n",
      "\n",
      "Confusion Matrix:\n",
      " [[346 166]\n",
      " [275 213]]\n",
      "\n",
      "Classification Report:\n",
      "               precision    recall  f1-score   support\n",
      "\n",
      "           0      0.557     0.676     0.611       512\n",
      "           1      0.562     0.436     0.491       488\n",
      "\n",
      "    accuracy                          0.559      1000\n",
      "   macro avg      0.560     0.556     0.551      1000\n",
      "weighted avg      0.560     0.559     0.552      1000\n",
      "\n",
      "ROC-AUC: 0.591\n",
      "PR-AUC: 0.564\n"
     ]
    },
    {
     "data": {
      "image/png": "[encoded data removed]",
      "text/plain": [
       "<Figure size 600x400 with 1 Axes>"
      ]
     },
     "metadata": {},
     "output_type": "display_data"
    },
    {
     "name": "stdout",
     "output_type": "stream",
     "text": [
      "\n",
      "Top-5 confident misclassifications:\n",
      "\n",
      "true=1 pred=0 P(pos)=0.082\n",
      "This is a VERY good movie. I give it a 10.<br /><br />It's very different in that it's kind of a long stalking scene all the way through. The fact that the main character is mute is used throughout th…\n",
      "\n",
      "true=1 pred=0 P(pos)=0.095\n",
      "I gave this a 10 because it's the best film of its kind...a good old-fashioned T & A film in the shadow and spirit of \"Animal House.\" I saw this with a similar film called \"Swap Meet\" and both were go…\n",
      "\n",
      "true=1 pred=0 P(pos)=0.102\n",
      "Pierre Jolivet plays a Don Quixote character, unable to speak, living in a world incompatible with modern life. He trusts to his homemade weaponry - helmet, sleeves, and spear - made out of hubcaps, s…\n",
      "\n",
      "true=1 pred=0 P(pos)=0.112\n",
      "Despite what its critics ensue, I enjoyed immensely for precisely what it is. Eyecandy for both sides of the gender spectrum. Soderberg has done the artsy hard edge stuff before, won Oscars, is at the…\n",
      "\n",
      "true=1 pred=0 P(pos)=0.138\n",
      "An intense thriller about a mute movie make-up artist who witnesses a snuff film being made when she is working late in the studio one night. After she tries to get away from the murder scene, she rea…\n"
     ]
    }
   ],
   "source": [
    "# Setup\n",
    "\n",
    "import re, random, numpy as np, torch, torch.nn as nn\n",
    "import torch.nn.functional as F\n",
    "from torch.utils.data import Dataset, DataLoader\n",
    "from datasets import load_dataset\n",
    "from collections import Counter\n",
    "from sklearn.metrics import confusion_matrix, classification_report, roc_auc_score, precision_recall_curve, auc\n",
    "import matplotlib.pyplot as plt\n",
    "\n",
    "SEED = 42\n",
    "random.seed(SEED); np.random.seed(SEED); torch.manual_seed(SEED)\n",
    "\n",
    "# ---- 1) Load IMDB from HuggingFace ----\n",
    "dataset = load_dataset(\"imdb\")\n",
    "\n",
    "# Sample smaller subsets (for CPU)\n",
    "N_TRAIN, N_TEST = 1000, 1000\n",
    "train_subset = dataset[\"train\"].shuffle(seed=SEED).select(range(N_TRAIN))\n",
    "test_subset  = dataset[\"test\"].shuffle(seed=SEED).select(range(N_TEST))\n",
    "\n",
    "# ---- 2) Tokenizer & Vocab ----\n",
    "def simple_tokenize(s: str):\n",
    "    return re.findall(r\"\\b\\w+\\b\", s.lower())\n",
    "\n",
    "counter = Counter()\n",
    "for row in train_subset:\n",
    "    counter.update(simple_tokenize(row[\"text\"]))\n",
    "\n",
    "MAX_VOCAB = 20000\n",
    "PAD, UNK = \"<pad>\", \"<unk>\"\n",
    "itos = [PAD, UNK] + [w for w, _ in counter.most_common(MAX_VOCAB - 2)]\n",
    "stoi = {w:i for i,w in enumerate(itos)}\n",
    "\n",
    "def numericalize(tokens):\n",
    "    return [stoi.get(tok, stoi[UNK]) for tok in tokens]\n",
    "\n",
    "MAX_LEN = 200\n",
    "\n",
    "class IMDBDataset(Dataset):\n",
    "    def __init__(self, hf_dataset):\n",
    "        self.texts = hf_dataset[\"text\"]\n",
    "        self.labels = hf_dataset[\"label\"]\n",
    "    def __len__(self): return len(self.labels)\n",
    "    def __getitem__(self, i):\n",
    "        return self.labels[i], simple_tokenize(self.texts[i])\n",
    "\n",
    "def collate(batch):\n",
    "    ys, toks = zip(*batch)\n",
    "    ids_list = [numericalize(t)[:MAX_LEN] for t in toks]\n",
    "    lens = torch.tensor([len(ids) for ids in ids_list], dtype=torch.long)\n",
    "    maxlen = max(lens.max().item(), 1)\n",
    "    padded = torch.full((len(ids_list), maxlen), fill_value=stoi[PAD], dtype=torch.long)\n",
    "    for i, ids in enumerate(ids_list):\n",
    "        padded[i, :len(ids)] = torch.tensor(ids, dtype=torch.long)\n",
    "    return padded, lens, torch.tensor(ys, dtype=torch.float32)\n",
    "\n",
    "train_ds = IMDBDataset(train_subset)\n",
    "test_ds  = IMDBDataset(test_subset)\n",
    "\n",
    "train_loader = DataLoader(train_ds, batch_size=32, shuffle=True, collate_fn=collate)\n",
    "test_loader  = DataLoader(test_ds, batch_size=32, shuffle=False, collate_fn=collate)\n",
    "\n",
    "# ---- 3) BiLSTM Model ----\n",
    "class BiLSTMClassifier(nn.Module):\n",
    "    def __init__(self, vocab_size, emb_dim=100, hidden=64, bidirectional=True, dropout=0.3):\n",
    "        super().__init__()\n",
    "        self.embedding = nn.Embedding(vocab_size, emb_dim, padding_idx=stoi[PAD])\n",
    "        self.lstm = nn.LSTM(emb_dim, hidden, batch_first=True, bidirectional=bidirectional)\n",
    "        out_dim = hidden * (2 if bidirectional else 1)\n",
    "        self.fc = nn.Linear(out_dim, 1)\n",
    "        self.drop = nn.Dropout(dropout)\n",
    "    def forward(self, x, lengths):\n",
    "        emb = self.embedding(x)\n",
    "        packed = nn.utils.rnn.pack_padded_sequence(emb, lengths.cpu(), batch_first=True, enforce_sorted=False)\n",
    "        _, (h_n, _) = self.lstm(packed)\n",
    "        if self.lstm.bidirectional:\n",
    "            h = torch.cat([h_n[-2], h_n[-1]], dim=1)\n",
    "        else:\n",
    "            h = h_n[-1]\n",
    "        return self.fc(self.drop(h)).squeeze(1)\n",
    "\n",
    "device = torch.device(\"cpu\")\n",
    "model = BiLSTMClassifier(len(itos)).to(device)\n",
    "\n",
    "# ---- 4) Train ----\n",
    "optimizer = torch.optim.Adam(model.parameters(), lr=2e-3, weight_decay=1e-4)\n",
    "criterion = nn.BCEWithLogitsLoss()\n",
    "\n",
    "for epoch in range(3):  # small for speed\n",
    "    model.train(); total_loss=0\n",
    "    for x, lengths, y in train_loader:\n",
    "        x, lengths, y = x.to(device), lengths.to(device), y.to(device)\n",
    "        optimizer.zero_grad()\n",
    "        logits = model(x, lengths)\n",
    "        loss = criterion(logits, y)\n",
    "        loss.backward()\n",
    "        nn.utils.clip_grad_norm_(model.parameters(), 1.0)\n",
    "        optimizer.step()\n",
    "        total_loss += loss.item()*x.size(0)\n",
    "    print(f\"Epoch {epoch+1} - Loss {total_loss/len(train_ds):.4f}\")\n",
    "\n",
    "# ---- 5) Evaluate ----\n",
    "model.eval()\n",
    "all_labels, all_probs, all_preds = [], [], []\n",
    "with torch.no_grad():\n",
    "    for x, lengths, y in test_loader:\n",
    "        x, lengths, y = x.to(device), lengths.to(device), y.to(device)\n",
    "        logits = model(x, lengths)\n",
    "        probs = torch.sigmoid(logits)\n",
    "        preds = (probs>=0.5).long()\n",
    "\n",
    "        all_labels.extend(y.cpu().numpy().astype(int).tolist())\n",
    "        all_probs.extend(probs.cpu().numpy().tolist())\n",
    "        all_preds.extend(preds.cpu().numpy().astype(int).tolist())\n",
    "\n",
    "all_labels, all_probs, all_preds = map(np.array, [all_labels, all_probs, all_preds])\n",
    "\n",
    "print(\"\\nConfusion Matrix:\\n\", confusion_matrix(all_labels, all_preds))\n",
    "print(\"\\nClassification Report:\\n\", classification_report(all_labels, all_preds, digits=3))\n",
    "print(\"ROC-AUC:\", round(roc_auc_score(all_labels, all_probs), 3))\n",
    "\n",
    "prec, rec, thr = precision_recall_curve(all_labels, all_probs)\n",
    "print(\"PR-AUC:\", round(auc(rec, prec), 3))\n",
    "\n",
    "plt.plot(rec, prec); plt.xlabel(\"Recall\"); plt.ylabel(\"Precision\"); plt.title(\"PR Curve\"); plt.show()\n",
    "\n",
    "# ---- 6) Misclassified examples (fixed) ----\n",
    "wrong_idx = np.where(all_labels != all_preds)[0]\n",
    "wrong_conf = np.array([all_probs[i] if all_preds[i]==1 else 1-all_probs[i] for i in wrong_idx])\n",
    "top5 = wrong_idx[np.argsort(-wrong_conf)[:5]]\n",
    "\n",
    "print(\"\\nTop-5 confident misclassifications:\")\n",
    "for i_np in top5:\n",
    "    i = int(i_np)  # HF needs a Python int\n",
    "    print(f\"\\ntrue={all_labels[i]} pred={all_preds[i]} P(pos)={all_probs[i]:.3f}\")\n",
    "    txt = test_subset[i][\"text\"].replace(\"\\n\",\" \")\n",
    "    print(txt[:200] + \"…\")\n",
    "\n",
    "\n"
   ]
  },
  {
   "cell_type": "markdown",
   "id": "c217e79f",
   "metadata": {},
   "source": [
    "Notes / Key Takeaways\n",
    "\n",
    "Accuracy ≠ full story, especially with class imbalance.\n",
    "\n",
    "Confusion matrices reveal type of errors.\n",
    "\n",
    "ROC-AUC good for overall ranking ability; PR-AUC better for imbalance.\n",
    "\n",
    "Threshold tuning shifts precision vs recall tradeoff.\n",
    "\n",
    "Error analysis (reading mistakes) often reveals data issues."
   ]
  },
  {
   "cell_type": "markdown",
   "id": "a1834549",
   "metadata": {},
   "source": [
    "Reflection\n",
    "\n",
    "Why might PR-AUC be more useful than ROC-AUC for rare positive classes?\n",
    "\n",
    "What can misclassified samples reveal about dataset bias?"
   ]
  },
  {
   "cell_type": "markdown",
   "id": "293dc375",
   "metadata": {},
   "source": [
    "Why might PR-AUC be more useful than ROC-AUC for rare positive classes?\n",
    "\n",
    "ROC-AUC can look deceptively high when positives are rare, because False Positive Rate = FP / (FP+TN). With many TNs, FPR stays small even if the model makes lots of false alarms.\n",
    "\n",
    "PR-AUC instead focuses directly on precision (how many predicted positives are correct) and recall (how many real positives are caught). This makes it much more sensitive to performance on the minority (positive) class, which is usually the one we care about (e.g., fraud, disease).\n",
    "\n",
    "What can misclassified samples reveal about dataset bias?\n",
    "\n",
    "They highlight systematic weaknesses of the model and the data.\n",
    "\n",
    "If many false negatives are short or sarcastic reviews, it suggests the dataset underrepresents these patterns.\n",
    "\n",
    "If many false positives are long, mixed reviews (positive + negative words), it shows the dataset may not teach the model to handle nuanced sentiment.\n",
    "\n",
    "By analyzing misclassifications, we can spot imbalances, missing linguistic styles, cultural phrasing, or noisy labels in the dataset — all forms of bias that limit model generalization."
   ]
  }
 ],
 "metadata": {
  "kernelspec": {
   "display_name": "venv",
   "language": "python",
   "name": "python3"
  },
  "language_info": {
   "codemirror_mode": {
    "name": "ipython",
    "version": 3
   },
   "file_extension": ".py",
   "mimetype": "text/x-python",
   "name": "python",
   "nbconvert_exporter": "python",
   "pygments_lexer": "ipython3",
   "version": "3.11.3"
  }
 },
 "nbformat": 4,
 "nbformat_minor": 5
}
