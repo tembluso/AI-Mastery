{
 "cells": [
  {
   "cell_type": "markdown",
   "id": "ca8bdeea",
   "metadata": {},
   "source": [
    "Week 10 · Day 5 — Explainability (Saliency / Grad-CAM for Text)\n",
    "Why this matters\n",
    "\n",
    "Deep models are black boxes. For NLP, we want to see which words influenced the prediction most. Saliency maps highlight tokens by measuring gradients — helping debug models and build trust.\n",
    "\n",
    "Theory Essentials\n",
    "\n",
    "Saliency = ∂output/∂embedding: gradient shows sensitivity to tokens.\n",
    "\n",
    "High magnitude = token strongly affects prediction.\n",
    "\n",
    "Works like Grad-CAM in vision but on word embeddings.\n",
    "\n",
    "Can overlay scores as heatmaps on text.\n",
    "\n",
    "Helps catch dataset bias (e.g., model relying on single words like “!”)."
   ]
  },
  {
   "cell_type": "markdown",
   "id": "9699cc9e",
   "metadata": {},
   "source": [
    "🔹 What embeddings are\n",
    "\n",
    "Embeddings are vectors that represent tokens (words, subwords, characters) in a continuous space.\n",
    "\n",
    "Instead of representing a word as a one-hot vector (huge and sparse), we learn a dense vector of fixed size (e.g., 100-dim or 300-dim).\n",
    "\n",
    "The idea: words with similar meaning or usage end up close together in this vector space.\n",
    "\n",
    "👉 Example:\n",
    "king ≈ queen but offset by gender direction,\n",
    "walk ≈ run, closer than to banana."
   ]
  },
  {
   "cell_type": "code",
   "execution_count": 1,
   "id": "56cacc40",
   "metadata": {},
   "outputs": [
    {
     "name": "stdout",
     "output_type": "stream",
     "text": [
      "Tokens: [4, 7, 8, 9, 0]\n",
      "Saliency scores: [0.02306676 0.01659771 0.01332968 0.01369807 0.        ]\n"
     ]
    }
   ],
   "source": [
    "import torch, torch.nn as nn\n",
    "import numpy as np\n",
    "\n",
    "torch.manual_seed(42)\n",
    "\n",
    "# Simple BiLSTM classifier\n",
    "class BiLSTMClassifier(nn.Module):\n",
    "    def __init__(self, vocab_size=100, embed_dim=16, hidden_dim=32, num_classes=2):\n",
    "        super().__init__()\n",
    "        self.embedding = nn.Embedding(vocab_size, embed_dim, padding_idx=0)\n",
    "        self.lstm = nn.LSTM(embed_dim, hidden_dim, batch_first=True, bidirectional=True)\n",
    "        self.fc = nn.Linear(hidden_dim*2, num_classes)\n",
    "    def forward(self, x, lengths):\n",
    "        embeds = self.embedding(x)\n",
    "        packed = nn.utils.rnn.pack_padded_sequence(embeds, lengths.cpu(), batch_first=True, enforce_sorted=False)\n",
    "        _, (h_n, _) = self.lstm(packed)\n",
    "        h_cat = torch.cat((h_n[-2], h_n[-1]), dim=1)\n",
    "        return self.fc(h_cat), embeds\n",
    "\n",
    "# Fake example\n",
    "vocab_size = 100\n",
    "tokens = torch.tensor([[4, 7, 8, 9, 0]])  # padded sentence\n",
    "lengths = torch.tensor([4])\n",
    "label = torch.tensor([1])\n",
    "\n",
    "model = BiLSTMClassifier(vocab_size=vocab_size)\n",
    "criterion = nn.CrossEntropyLoss()\n",
    "\n",
    "# Forward pass\n",
    "logits, embeds = model(tokens, lengths)\n",
    "loss = criterion(logits, label)\n",
    "\n",
    "# Backprop to get gradients wrt embeddings\n",
    "loss.backward()\n",
    "saliency = tokens.detach().clone().float()\n",
    "\n",
    "# grads: [batch, seq, embed_dim]\n",
    "grads = model.embedding.weight.grad\n",
    "token_grads = grads[tokens[0]]   # [seq, embed_dim]\n",
    "\n",
    "# Magnitude per token\n",
    "saliency_scores = token_grads.norm(dim=1).detach().numpy()\n",
    "\n",
    "print(\"Tokens:\", tokens[0].tolist())\n",
    "print(\"Saliency scores:\", saliency_scores)\n"
   ]
  },
  {
   "cell_type": "markdown",
   "id": "12d0da3f",
   "metadata": {},
   "source": [
    "1) Core (10–15 min)\n",
    "\n",
    "Task: Print the most influential token (highest saliency score)"
   ]
  },
  {
   "cell_type": "code",
   "execution_count": 2,
   "id": "fea87d42",
   "metadata": {},
   "outputs": [
    {
     "name": "stdout",
     "output_type": "stream",
     "text": [
      "Most influential token: 4\n"
     ]
    }
   ],
   "source": [
    "print(\"Most influential token:\", tokens[0][np.argmax(saliency_scores)].item())"
   ]
  },
  {
   "cell_type": "markdown",
   "id": "5d78d3ad",
   "metadata": {},
   "source": [
    "2) Practice (10–15 min)\n",
    "\n",
    "Task: Normalize saliency scores (0–1) and print them alongside tokens."
   ]
  },
  {
   "cell_type": "code",
   "execution_count": 7,
   "id": "46ed27e8",
   "metadata": {},
   "outputs": [
    {
     "name": "stdout",
     "output_type": "stream",
     "text": [
      "Token 4 → 1.00\n",
      "Token 7 → 0.72\n",
      "Token 8 → 0.58\n",
      "Token 9 → 0.59\n",
      "Token 0 → 0.00\n"
     ]
    }
   ],
   "source": [
    "norm_scores = (saliency_scores - saliency_scores.min()) / np.ptp(saliency_scores)\n",
    "for t, s in zip(tokens[0].tolist(), norm_scores):\n",
    "    print(f\"Token {t} → {s:.2f}\")\n"
   ]
  },
  {
   "cell_type": "markdown",
   "id": "2bb606ef",
   "metadata": {},
   "source": [
    "3) Stretch (optional, 10–15 min)\n",
    "\n",
    "Task: Create a simple color-coded heatmap over tokens using matplotlib."
   ]
  },
  {
   "cell_type": "code",
   "execution_count": 8,
   "id": "e47ea2d3",
   "metadata": {},
   "outputs": [
    {
     "data": {
      "image/png": "[encoded data removed]",
      "text/plain": [
       "<Figure size 640x480 with 1 Axes>"
      ]
     },
     "metadata": {},
     "output_type": "display_data"
    }
   ],
   "source": [
    "import matplotlib.pyplot as plt\n",
    "plt.bar(range(len(norm_scores)), norm_scores)\n",
    "plt.xticks(range(len(norm_scores)), tokens[0].tolist())\n",
    "plt.show()\n"
   ]
  },
  {
   "cell_type": "markdown",
   "id": "38604875",
   "metadata": {},
   "source": [
    "Mini-Challenge (≤40 min)\n",
    "\n",
    "Task: Apply saliency to 6–8 IMDB reviews with your BiLSTM sentiment model.\n",
    "\n",
    "Highlight most influential words per review.\n",
    "\n",
    "Save results as a text/plot: review text with colored words.\n",
    "\n",
    "Acceptance Criteria:\n",
    "\n",
    "At least 6 reviews analyzed.\n",
    "\n",
    "Shows tokens + saliency scores.\n",
    "\n",
    "Extract 2 insights (e.g., model overly relies on punctuation, or ignores negation words)."
   ]
  },
  {
   "cell_type": "code",
   "execution_count": 10,
   "id": "12eb3b67",
   "metadata": {},
   "outputs": [
    {
     "name": "stdout",
     "output_type": "stream",
     "text": [
      "Epoch 1 | loss=0.6933\n",
      "Epoch 2 | loss=0.5861\n",
      "br              0.49\n",
      "br              0.31\n",
      "when            0.26\n",
      "i               0.19\n",
      "<unk>           0.15\n",
      "rented          0.14\n",
      "a               0.09\n",
      "thousand        0.11\n",
      "acres           0.09\n",
      "i               0.06\n",
      "thought         0.05\n",
      "i               0.03\n",
      "was             0.04\n",
      "in              0.04\n",
      "for             0.03\n",
      "an              0.03\n",
      "entertaining    0.02\n",
      "king            0.02\n",
      "<unk>           0.01\n",
      "story           0.01\n",
      "and             0.01\n",
      "of              0.01\n",
      "course          0.01\n",
      "michelle        0.01\n",
      "pfeiffer        0.00\n",
      "was             0.00\n",
      "in              0.00\n",
      "it              0.00\n",
      "so              0.00\n",
      "what            0.00\n"
     ]
    }
   ],
   "source": [
    "# ---- Imports ----\n",
    "import torch, torch.nn as nn, torch.nn.functional as F\n",
    "import numpy as np, re, random\n",
    "from datasets import load_dataset\n",
    "from collections import Counter\n",
    "from torch.utils.data import Dataset, DataLoader\n",
    "\n",
    "# Reproducibility\n",
    "SEED=42\n",
    "torch.manual_seed(SEED); np.random.seed(SEED); random.seed(SEED)\n",
    "\n",
    "# ---- 1. Load IMDB from Hugging Face ----\n",
    "dataset = load_dataset(\"imdb\")\n",
    "\n",
    "# Small subset for speed (CPU friendly)\n",
    "N_TRAIN, N_TEST = 2000, 1000\n",
    "train_subset = dataset[\"train\"].shuffle(seed=SEED).select(range(N_TRAIN))\n",
    "test_subset  = dataset[\"test\"].shuffle(seed=SEED).select(range(N_TEST))\n",
    "\n",
    "# ---- 2. Tokenization + Vocab ----\n",
    "def simple_tokenize(s):\n",
    "    return re.findall(r\"\\b\\w+\\b\", s.lower())\n",
    "\n",
    "counter = Counter()\n",
    "for row in train_subset:\n",
    "    counter.update(simple_tokenize(row[\"text\"]))\n",
    "\n",
    "MAX_VOCAB = 20000\n",
    "PAD, UNK = \"<pad>\", \"<unk>\"\n",
    "itos = [PAD, UNK] + [w for w,_ in counter.most_common(MAX_VOCAB-2)]\n",
    "stoi = {w:i for i,w in enumerate(itos)}\n",
    "\n",
    "def numericalize(tokens): \n",
    "    return [stoi.get(tok, stoi[UNK]) for tok in tokens]\n",
    "\n",
    "MAX_LEN=200\n",
    "\n",
    "class IMDBDataset(Dataset):\n",
    "    def __init__(self, hf_ds):\n",
    "        self.texts = hf_ds[\"text\"]; self.labels = hf_ds[\"label\"]\n",
    "    def __len__(self): return len(self.labels)\n",
    "    def __getitem__(self,i):\n",
    "        return self.labels[i], simple_tokenize(self.texts[i])\n",
    "\n",
    "def collate(batch):\n",
    "    ys,toks = zip(*batch)\n",
    "    ids_list=[numericalize(t)[:MAX_LEN] for t in toks]\n",
    "    lens=torch.tensor([len(x) for x in ids_list],dtype=torch.long)\n",
    "    maxlen=lens.max().item()\n",
    "    PAD_ID=stoi[PAD]\n",
    "    x=torch.full((len(ids_list),maxlen),PAD_ID,dtype=torch.long)\n",
    "    for i,ids in enumerate(ids_list):\n",
    "        x[i,:len(ids)]=torch.tensor(ids)\n",
    "    return x,lens,torch.tensor(ys,dtype=torch.long)\n",
    "\n",
    "train_ds,test_ds=IMDBDataset(train_subset),IMDBDataset(test_subset)\n",
    "train_loader=DataLoader(train_ds,batch_size=32,shuffle=True,collate_fn=collate)\n",
    "test_loader=DataLoader(test_ds,batch_size=32,shuffle=False,collate_fn=collate)\n",
    "\n",
    "# ---- 3. BiLSTM Classifier (your class, adapted) ----\n",
    "class BiLSTMClassifier(nn.Module):\n",
    "    def __init__(self,vocab_size,embed_dim=100,hidden_dim=64,num_classes=2):\n",
    "        super().__init__()\n",
    "        self.embedding=nn.Embedding(vocab_size,embed_dim,padding_idx=stoi[PAD])\n",
    "        self.lstm=nn.LSTM(embed_dim,hidden_dim,batch_first=True,bidirectional=True)\n",
    "        self.fc=nn.Linear(hidden_dim*2,num_classes)\n",
    "    def forward(self,x,lengths):\n",
    "        embeds=self.embedding(x)\n",
    "        packed=nn.utils.rnn.pack_padded_sequence(embeds,lengths.cpu(),batch_first=True,enforce_sorted=False)\n",
    "        _,(h_n,_) = self.lstm(packed)\n",
    "        h_cat=torch.cat((h_n[-2],h_n[-1]),dim=1)\n",
    "        return self.fc(h_cat),embeds\n",
    "\n",
    "device=torch.device(\"cpu\")\n",
    "model=BiLSTMClassifier(len(itos)).to(device)\n",
    "\n",
    "# ---- 4. Quick Train (tiny epochs for demo) ----\n",
    "opt=torch.optim.Adam(model.parameters(),lr=2e-3)\n",
    "criterion=nn.CrossEntropyLoss()\n",
    "\n",
    "for epoch in range(2):\n",
    "    model.train(); total_loss=0\n",
    "    for x,lens,y in train_loader:\n",
    "        x,lens,y=x.to(device),lens.to(device),y.to(device)\n",
    "        opt.zero_grad()\n",
    "        logits,_=model(x,lens)\n",
    "        loss=criterion(logits,y)\n",
    "        loss.backward()\n",
    "        nn.utils.clip_grad_norm_(model.parameters(),1.0)\n",
    "        opt.step()\n",
    "        total_loss+=loss.item()*x.size(0)\n",
    "    print(f\"Epoch {epoch+1} | loss={total_loss/len(train_ds):.4f}\")\n",
    "\n",
    "# ---- 5. Saliency on 1 batch of test samples ----\n",
    "model.eval()\n",
    "x, lens, y = next(iter(test_loader))\n",
    "x, lens, y = x.to(device), lens.to(device), y.to(device)\n",
    "\n",
    "# Forward\n",
    "logits, embeds = model(x, lens)\n",
    "preds = logits.argmax(1)\n",
    "\n",
    "# ---- retain grad on non-leaf tensor ----\n",
    "embeds.retain_grad()                    # <-- key line\n",
    "\n",
    "# Use the logit of the predicted class for sample i\n",
    "i = 0\n",
    "score = logits[i, preds[i]]             # scalar\n",
    "model.zero_grad()\n",
    "score.backward()                        # backprop to embeds\n",
    "\n",
    "L = int(lens[i].item())\n",
    "grads = embeds.grad[i, :L]              # [seq_len, emb_dim]\n",
    "saliency = grads.norm(dim=1).detach().cpu().numpy()\n",
    "\n",
    "# Normalize 0–1 and print tokens + scores\n",
    "sal_norm = (saliency - saliency.min()) / (saliency.max() - saliency.min() + 1e-9)\n",
    "tok_ids = x[i, :L].cpu().tolist()\n",
    "tok_strs = [itos[t] for t in tok_ids]\n",
    "for t, s in zip(tok_strs[:30], sal_norm[:30]):\n",
    "    print(f\"{t:<15} {s:.2f}\")\n",
    "\n"
   ]
  },
  {
   "cell_type": "markdown",
   "id": "eeec9741",
   "metadata": {},
   "source": [
    "At this stage, the saliency analysis reveals that the BiLSTM isn’t truly “reading sentiment” yet — it’s mostly reacting to noise. Cleaning the dataset and using pretrained embeddings should shift saliency towards real sentiment-bearing words (e.g., “good,” “boring,” “terrible”)."
   ]
  },
  {
   "cell_type": "markdown",
   "id": "70da23d0",
   "metadata": {},
   "source": [
    "Notes / Key Takeaways\n",
    "\n",
    "Gradients on embeddings show token importance.\n",
    "\n",
    "Saliency helps debug “why” a prediction was made.\n",
    "\n",
    "Heatmaps expose bias (e.g., “!” = positive, “bad” = always negative).\n",
    "\n",
    "Works best alongside evaluation metrics.\n",
    "\n",
    "Trust requires both accuracy + explainability."
   ]
  },
  {
   "cell_type": "markdown",
   "id": "eb8bb0a7",
   "metadata": {},
   "source": [
    "Reflection\n",
    "\n",
    "How can saliency reveal dataset shortcuts the model is learning?\n",
    "\n",
    "Why is explainability critical before deploying models in production?"
   ]
  },
  {
   "cell_type": "markdown",
   "id": "57a58460",
   "metadata": {},
   "source": [
    "How can saliency reveal dataset shortcuts the model is learning?\n",
    "Saliency shows which tokens most influence the prediction. If high scores appear on irrelevant artifacts (e.g., br, <unk>, punctuation), it reveals that the model is relying on dataset shortcuts instead of true sentiment. This helps diagnose spurious correlations and motivates better preprocessing or model design.\n",
    "\n",
    "Why is explainability critical before deploying models in production?\n",
    "Explainability ensures trust and safety: it lets us verify that the model bases decisions on meaningful signals, not noise or bias. Without it, a model could perform well in tests but fail or behave unfairly in real-world settings. By explaining predictions, we gain transparency, detect hidden biases, and build confidence for users and stakeholders."
   ]
  }
 ],
 "metadata": {
  "kernelspec": {
   "display_name": "venv",
   "language": "python",
   "name": "python3"
  },
  "language_info": {
   "codemirror_mode": {
    "name": "ipython",
    "version": 3
   },
   "file_extension": ".py",
   "mimetype": "text/x-python",
   "name": "python",
   "nbconvert_exporter": "python",
   "pygments_lexer": "ipython3",
   "version": "3.11.3"
  }
 },
 "nbformat": 4,
 "nbformat_minor": 5
}
