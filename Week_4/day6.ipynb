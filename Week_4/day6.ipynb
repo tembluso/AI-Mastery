{
 "cells": [
  {
   "cell_type": "markdown",
   "id": "a8df2989",
   "metadata": {},
   "source": [
    "Week 4 · Day 6 — Recommender Systems\n",
    "Why this matters\n",
    "\n",
    "Recommender systems power Netflix, Amazon, Spotify, and YouTube. They personalize content by predicting what users will like, based on patterns of past behavior.\n",
    "\n",
    "Theory Essentials\n",
    "\n",
    "Types of recommenders:\n",
    "\n",
    "Content-based: recommend items similar to those a user liked.\n",
    "\n",
    "Collaborative filtering: recommend items liked by similar users.\n",
    "\n",
    "Collaborative filtering:\n",
    "\n",
    "User–item interaction matrix (rows = users, cols = items).\n",
    "\n",
    "Missing values = unrated items.\n",
    "\n",
    "Predictions come from user similarity or item similarity.\n",
    "\n",
    "Matrix factorization: approximates user–item matrix into low-dimensional latent features (e.g., “taste vectors”).\n",
    "\n",
    "Simple intro in scikit-learn: use cosine similarity on users or items."
   ]
  },
  {
   "cell_type": "code",
   "execution_count": 1,
   "id": "5705d48a",
   "metadata": {},
   "outputs": [
    {
     "name": "stdout",
     "output_type": "stream",
     "text": [
      "User–item ratings:\n",
      "       MovieA  MovieB  MovieC  MovieD  MovieE\n",
      "User1       5       4       0       0       1\n",
      "User2       4       0       0       2       2\n",
      "User3       0       1       5       4       0\n",
      "User4       0       0       4       5       0\n",
      "User5       1       1       0       0       5\n",
      "\n",
      "Item similarity matrix:\n",
      "        MovieA  MovieB  MovieC  MovieD  MovieE\n",
      "MovieA    1.00    0.76    0.00    0.18    0.51\n",
      "MovieB    0.76    1.00    0.18    0.14    0.39\n",
      "MovieC    0.00    0.18    1.00    0.93    0.00\n",
      "MovieD    0.18    0.14    0.93    1.00    0.11\n",
      "MovieE    0.51    0.39    0.00    0.11    1.00\n",
      "\n",
      "Predicted rating of User1 for MovieC: 4.00\n"
     ]
    }
   ],
   "source": [
    "# Setup\n",
    "import numpy as np, pandas as pd, matplotlib.pyplot as plt\n",
    "from sklearn.metrics.pairwise import cosine_similarity\n",
    "\n",
    "np.random.seed(42)\n",
    "plt.rcParams[\"figure.figsize\"] = (6,4)\n",
    "plt.rcParams[\"axes.grid\"] = True\n",
    "\n",
    "# Example user–item rating matrix (rows=users, cols=movies)\n",
    "# 0 means not rated\n",
    "ratings = pd.DataFrame([\n",
    "    [5, 4, 0, 0, 1],\n",
    "    [4, 0, 0, 2, 2],\n",
    "    [0, 1, 5, 4, 0],\n",
    "    [0, 0, 4, 5, 0],\n",
    "    [1, 1, 0, 0, 5]\n",
    "], columns=[\"MovieA\",\"MovieB\",\"MovieC\",\"MovieD\",\"MovieE\"],\n",
    "   index=[\"User1\",\"User2\",\"User3\",\"User4\",\"User5\"])\n",
    "\n",
    "print(\"User–item ratings:\")\n",
    "print(ratings)\n",
    "\n",
    "# Compute item similarity (cosine)\n",
    "item_sim = cosine_similarity(ratings.T)\n",
    "item_sim_df = pd.DataFrame(item_sim, index=ratings.columns, columns=ratings.columns)\n",
    "\n",
    "print(\"\\nItem similarity matrix:\")\n",
    "print(item_sim_df.round(2))\n",
    "\n",
    "# Simple recommendation: predict User1’s rating for MovieC\n",
    "user = \"User1\"\n",
    "target_item = \"MovieC\"\n",
    "\n",
    "# Weighted sum of User1's ratings by item similarity\n",
    "user_ratings = ratings.loc[user]\n",
    "sim_scores = item_sim_df[target_item]\n",
    "pred_score = (user_ratings * sim_scores).sum() / sim_scores[user_ratings>0].sum()\n",
    "\n",
    "print(f\"\\nPredicted rating of {user} for {target_item}: {pred_score:.2f}\")\n"
   ]
  },
  {
   "cell_type": "markdown",
   "id": "4bc976e5",
   "metadata": {},
   "source": [
    "How this works:\n",
    "\n",
    "Take all movies User1 already rated (user_ratings).\n",
    "\n",
    "Look up how similar each of those movies is to MovieC (sim_scores).\n",
    "\n",
    "Compute a weighted average:\n",
    "\n",
    "User’s rating × similarity to target item.\n",
    "\n",
    "Normalize by the sum of similarities (so the score is on the same scale).\n",
    "\n",
    "👉 If User1 liked movies similar to MovieC, the predicted score will be high."
   ]
  },
  {
   "cell_type": "markdown",
   "id": "bc82ac45",
   "metadata": {},
   "source": [
    "Exercises\n",
    "\n",
    "1) Core (10–15 min)\n",
    "Task: Compute predicted ratings for User2 on all unrated movies."
   ]
  },
  {
   "cell_type": "code",
   "execution_count": 2,
   "id": "44a80bcc",
   "metadata": {},
   "outputs": [
    {
     "name": "stdout",
     "output_type": "stream",
     "text": [
      "Predicted rating of User2 for MovieB: 3.18\n",
      "Predicted rating of User2 for MovieC: 2.00\n"
     ]
    }
   ],
   "source": [
    "user = \"User2\"\n",
    "user_ratings = ratings.loc[user]\n",
    "for item in ratings.columns:\n",
    "    if user_ratings[item] == 0:\n",
    "        sim_scores = item_sim_df[item]\n",
    "        pred = (user_ratings * sim_scores).sum() / sim_scores[user_ratings>0].sum()\n",
    "        print(f\"Predicted rating of {user} for {item}: {pred:.2f}\")\n"
   ]
  },
  {
   "cell_type": "code",
   "execution_count": 3,
   "id": "d4fe53af",
   "metadata": {},
   "outputs": [
    {
     "name": "stdout",
     "output_type": "stream",
     "text": [
      "User similarity matrix:\n",
      "       User1  User2  User3  User4  User5\n",
      "User1   1.00   0.69   0.10   0.00   0.42\n",
      "User2   0.69   1.00   0.25   0.32   0.55\n",
      "User3   0.10   0.25   1.00   0.96   0.03\n",
      "User4   0.00   0.32   0.96   1.00   0.00\n",
      "User5   0.42   0.55   0.03   0.00   1.00\n"
     ]
    }
   ],
   "source": [
    "user_sim = cosine_similarity(ratings)\n",
    "user_sim_df = pd.DataFrame(user_sim, index=ratings.index, columns=ratings.index)\n",
    "print(\"User similarity matrix:\")\n",
    "print(user_sim_df.round(2))\n"
   ]
  },
  {
   "cell_type": "markdown",
   "id": "7c2d5c61",
   "metadata": {},
   "source": [
    "3) Stretch (optional, 10–15 min)\n",
    "Task: Recommend top-2 movies for User3 using item-based collaborative filtering"
   ]
  },
  {
   "cell_type": "code",
   "execution_count": 5,
   "id": "ee8ef07e",
   "metadata": {},
   "outputs": [
    {
     "name": "stdout",
     "output_type": "stream",
     "text": [
      "Recommendations for User3:\n",
      "MovieE: 1.66\n",
      "MovieA: 1.58\n"
     ]
    }
   ],
   "source": [
    "user = \"User3\"\n",
    "user_ratings = ratings.loc[user]\n",
    "preds = {}\n",
    "for item in ratings.columns:\n",
    "    if user_ratings[item] == 0:\n",
    "        sim_scores = item_sim_df[item]\n",
    "        preds[item] = (user_ratings * sim_scores).sum() / sim_scores[user_ratings>0].sum()\n",
    "\n",
    "print(\"Recommendations for User3:\")\n",
    "for movie, score in sorted(preds.items(), key=lambda x: x[1], reverse=True)[:2]:\n",
    "    print(f\"{movie}: {float(score):.2f}\")"
   ]
  },
  {
   "cell_type": "markdown",
   "id": "bc3705d4",
   "metadata": {},
   "source": [
    "Mini-Challenge (≤40 min)\n",
    "\n",
    "Task: Build a simple recommender for the MovieLens small dataset (100k).\n",
    "Acceptance Criteria:\n",
    "\n",
    "Load dataset (surprise library or CSV if available).\n",
    "\n",
    "Compute item similarity.\n",
    "\n",
    "Pick a user, predict ratings for 2–3 unseen movies.\n",
    "\n",
    "Print top recommendations."
   ]
  },
  {
   "cell_type": "code",
   "execution_count": 6,
   "id": "c69d8155",
   "metadata": {},
   "outputs": [
    {
     "name": "stdout",
     "output_type": "stream",
     "text": [
      "Top recommendations for user 196\n",
      "Very Natural Thing, A (1974): 4.43\n",
      "Walk in the Sun, A (1945): 4.43\n",
      "New York Cop (1996): 4.22\n"
     ]
    }
   ],
   "source": [
    "import numpy as np, pandas as pd\n",
    "from sklearn.metrics.pairwise import cosine_similarity\n",
    "\n",
    "# 1) Load ratings (user_id, item_id, rating, timestamp)\n",
    "ratings = pd.read_csv(\"u.data\", sep=\"\\t\", names=[\"user\",\"item\",\"rating\",\"ts\"])\n",
    "# Optional: titles\n",
    "titles = pd.read_csv(\"u.item\", sep=\"|\", header=None, encoding=\"latin-1\", usecols=[0,1], names=[\"item\",\"title\"])\n",
    "\n",
    "# 2) Build user–item matrix\n",
    "R = ratings.pivot_table(index=\"user\", columns=\"item\", values=\"rating\").fillna(0)\n",
    "\n",
    "# 3) Item–item cosine similarity\n",
    "item_sim = pd.DataFrame(cosine_similarity(R.T), index=R.columns, columns=R.columns)\n",
    "\n",
    "# 4) Recommend for a user (e.g., 196)\n",
    "u = 196\n",
    "user_r = R.loc[u]\n",
    "preds = {}\n",
    "for item in R.columns[user_r.eq(0)]:               # only unseen items\n",
    "    sims = item_sim[item]\n",
    "    preds[item] = (user_r * sims).sum() / sims[user_r>0].sum()\n",
    "\n",
    "# 5) Top recommendations\n",
    "top = sorted(preds.items(), key=lambda x: x[1], reverse=True)[:3]\n",
    "print(\"Top recommendations for user\", u)\n",
    "for iid, score in top:\n",
    "    title = titles.loc[titles.item==iid, \"title\"].values[0] if iid in set(titles.item) else iid\n",
    "    print(f\"{title}: {float(score):.2f}\")\n"
   ]
  },
  {
   "cell_type": "markdown",
   "id": "5e607d3b",
   "metadata": {},
   "source": [
    "Notes / Key Takeaways\n",
    "\n",
    "Recommenders personalize experiences and drive engagement.\n",
    "\n",
    "Collaborative filtering leverages patterns across users/items.\n",
    "\n",
    "Cosine similarity is a simple baseline; real systems use matrix factorization, deep learning, or hybrid approaches.\n",
    "\n",
    "Cold-start problem: new users/items with no history are hard to recommend for.\n",
    "\n",
    "Evaluation: precision@k, recall@k, RMSE on held-out ratings."
   ]
  },
  {
   "cell_type": "markdown",
   "id": "4d11e767",
   "metadata": {},
   "source": [
    "Reflection\n",
    "\n",
    "Why do recommenders need both accuracy and diversity in their results?\n",
    "\n",
    "Accuracy ensures the system suggests items the user is most likely to enjoy, based on past behavior.\n",
    "\n",
    "Diversity prevents the list from being too narrow or repetitive (e.g., all action movies only).\n",
    "\n",
    "Together they balance relevance with exploration, keeping recommendations useful and engaging over time.\n",
    "\n",
    "How would you handle the cold-start problem for a brand-new user?\n",
    "\n",
    "Ask for quick initial input (e.g., ratings on a few popular items or picking favorite genres).\n",
    "\n",
    "Use popularity-based or content-based recommendations until enough user data is collected.\n",
    "\n",
    "Gradually shift to collaborative filtering once the system learns the user’s preferences."
   ]
  }
 ],
 "metadata": {
  "kernelspec": {
   "display_name": "venv",
   "language": "python",
   "name": "python3"
  },
  "language_info": {
   "codemirror_mode": {
    "name": "ipython",
    "version": 3
   },
   "file_extension": ".py",
   "mimetype": "text/x-python",
   "name": "python",
   "nbconvert_exporter": "python",
   "pygments_lexer": "ipython3",
   "version": "3.11.3"
  }
 },
 "nbformat": 4,
 "nbformat_minor": 5
}
