{
 "cells": [
  {
   "cell_type": "markdown",
   "id": "09ce5510",
   "metadata": {},
   "source": [
    "Week 1 – Day 5: Your First ML Model\n",
    "\n",
    "Objective of the day\n",
    "Train your first machine learning model (logistic regression) to predict Titanic survival. By the end, you’ll know how to:\n",
    "\n",
    "Prepare data for ML\n",
    "\n",
    "Train a model\n",
    "\n",
    "Evaluate it"
   ]
  },
  {
   "cell_type": "markdown",
   "id": "fa4906f5",
   "metadata": {},
   "source": [
    "🟢 Labels (y)\n",
    "\n",
    "The answer we want the model to predict.\n",
    "\n",
    "In the Titanic dataset, that’s the column survived (0 = no, 1 = yes).\n",
    "\n",
    "It’s also called the target variable, dependent variable, or output.\n",
    "\n",
    "Think of it as:\n",
    "👉 “What do I want to know?”\n",
    "\n",
    "🟡 Features (X)\n",
    "\n",
    "The information we give the model so it can make a guess.\n",
    "\n",
    "In Titanic, features could be sex, age, pclass, fare, etc.\n",
    "\n",
    "These are also called independent variables or inputs.\n",
    "\n",
    "Think of it as:\n",
    "👉 “What do I know?”"
   ]
  },
  {
   "cell_type": "code",
   "execution_count": 4,
   "id": "195992c2",
   "metadata": {},
   "outputs": [
    {
     "name": "stdout",
     "output_type": "stream",
     "text": [
      "Accuracy: 0.7552447552447552\n",
      "Confusion matrix:\n",
      " [[68 19]\n",
      " [16 40]]\n",
      "[[ 2.53047810e+00 -1.24068794e+00 -4.24723266e-02  2.27399583e-04]]\n",
      "[2.61171493]\n"
     ]
    }
   ],
   "source": [
    "import pandas as pd\n",
    "from sklearn.model_selection import train_test_split\n",
    "from sklearn.linear_model import LogisticRegression\n",
    "from sklearn.metrics import accuracy_score, confusion_matrix\n",
    "\n",
    "url = \"https://raw.githubusercontent.com/mwaskom/seaborn-data/master/titanic.csv\"\n",
    "df = pd.read_csv(url)\n",
    "\n",
    "# Convert categorical column 'sex' to numbers\n",
    "df[\"sex\"] = df[\"sex\"].map({\"male\": 0, \"female\": 1})\n",
    "\n",
    "# Drop rows with missing age\n",
    "df = df.dropna(subset=[\"age\"])\n",
    "\n",
    "X = df[[\"sex\", \"pclass\", \"age\", \"fare\"]]\n",
    "y = df[\"survived\"]\n",
    "\n",
    "#Spliinto train/test\n",
    "\n",
    "X_train, X_test, y_train, y_test = train_test_split(\n",
    "    X, y, test_size=0.2, random_state=42\n",
    ")\n",
    "\n",
    "#Train Model\n",
    "\n",
    "model = LogisticRegression(max_iter=200)\n",
    "model.fit(X_train, y_train)\n",
    "\n",
    "#Evaluate\n",
    "\n",
    "y_pred = model.predict(X_test)\n",
    "\n",
    "print(\"Accuracy:\", accuracy_score(y_test, y_pred))\n",
    "print(\"Confusion matrix:\\n\", confusion_matrix(y_test, y_pred))\n",
    "\n",
    "\n",
    "print(model.coef_)\n",
    "print(model.intercept_)\n",
    "\n"
   ]
  },
  {
   "cell_type": "markdown",
   "id": "9fa7deef",
   "metadata": {},
   "source": [
    "A confusion matrix is just a table that compares:\n",
    "\n",
    "What the model predicted vs\n",
    "\n",
    "What the true answers (labels) were\n",
    "\n",
    "For binary classification (like Titanic survival: 0 = died, 1 = survived), it looks like this:\n",
    "\n",
    "|               | Predicted: 0 (died) | Predicted: 1 (survived) |\n",
    "| ------------- | ------------------- | ----------------------- |\n",
    "| **Actual: 0** | True Negative (TN)  | False Positive (FP)     |\n",
    "| **Actual: 1** | False Negative (FN) | True Positive (TP)      |\n"
   ]
  },
  {
   "cell_type": "markdown",
   "id": "77ea29c0",
   "metadata": {},
   "source": [
    "🟢 What are model coefficients?\n",
    "\n",
    "When you train a logistic regression model, it learns a mathematical formula to predict survival.\n",
    "\n",
    "That formula looks like this:\n",
    "\n",
    "z = b_0 + b_1*x_1 + b_2*x_2 .. ..\n",
    "\n",
    "b_0 = intercept (the baseline value when all features are 0).\n",
    "\n",
    "b_1, b_2, ... = coefficients (weights) that multiply each feature (x_1, x_2, ...).\n",
    "\n",
    "Then logistic regression passes z through a sigmoid function to squash it into a probability between 0 and 1.\n",
    "\n",
    "-Model coefficients\n",
    "\n",
    "Each model coefficient shows how much that feature pushes survival odds up or down.\n",
    "\n",
    "-Interpreting coefficients\n",
    "\n",
    "Positive value -> feature increases chance of survival.\n",
    "Negative value -> feature decreases chane of survival.\n",
    "Bigger absolute value -> stronger influence.\n"
   ]
  },
  {
   "cell_type": "markdown",
   "id": "03a67a85",
   "metadata": {},
   "source": [
    "🌟 Mini-Challenge\n",
    "\n",
    "Add one more feature: “alone” (0 = not alone, 1 = alone).\n",
    "\n",
    "Retrain the model with this extra column.\n",
    "\n",
    "Did accuracy improve, stay the same, or get worse?\n",
    "\n",
    "What does that suggest about being alone vs with family?"
   ]
  },
  {
   "cell_type": "code",
   "execution_count": 5,
   "id": "8adff094",
   "metadata": {},
   "outputs": [
    {
     "name": "stdout",
     "output_type": "stream",
     "text": [
      "Accuracy: 0.7342657342657343\n",
      "Confusion matrix:\n",
      " [[68 19]\n",
      " [19 37]]\n"
     ]
    }
   ],
   "source": [
    "X = df[[\"sex\", \"pclass\", \"age\", \"fare\", \"alone\"]]\n",
    "y = df[\"survived\"]\n",
    "\n",
    "#Spliinto train/test\n",
    "\n",
    "X_train, X_test, y_train, y_test = train_test_split(\n",
    "    X, y, test_size=0.2, random_state=42\n",
    ")\n",
    "\n",
    "#Train Model\n",
    "\n",
    "model = LogisticRegression(max_iter=200)\n",
    "model.fit(X_train, y_train)\n",
    "\n",
    "#Evaluate\n",
    "\n",
    "y_pred = model.predict(X_test)\n",
    "\n",
    "print(\"Accuracy:\", accuracy_score(y_test, y_pred))\n",
    "print(\"Confusion matrix:\\n\", confusion_matrix(y_test, y_pred))"
   ]
  }
 ],
 "metadata": {
  "kernelspec": {
   "display_name": "venv",
   "language": "python",
   "name": "python3"
  },
  "language_info": {
   "codemirror_mode": {
    "name": "ipython",
    "version": 3
   },
   "file_extension": ".py",
   "mimetype": "text/x-python",
   "name": "python",
   "nbconvert_exporter": "python",
   "pygments_lexer": "ipython3",
   "version": "3.11.3"
  }
 },
 "nbformat": 4,
 "nbformat_minor": 5
}
