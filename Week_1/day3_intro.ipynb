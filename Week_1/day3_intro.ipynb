{
 "cells": [
  {
   "cell_type": "markdown",
   "id": "5c3c10cd",
   "metadata": {},
   "source": [
    "Week 1 – Day 3: pandas Essentials\n",
    "\n",
    "Objective of the day\n",
    "Learn how to work with tabular data (rows & columns) using pandas. By the end of today, you’ll know how to load, filter, group, and summarize datasets — critical for preparing data before training ML models."
   ]
  },
  {
   "cell_type": "markdown",
   "id": "006f836b",
   "metadata": {},
   "source": [
    "1.Load dataset again"
   ]
  },
  {
   "cell_type": "code",
   "execution_count": 1,
   "id": "f9e382e1",
   "metadata": {},
   "outputs": [
    {
     "name": "stdout",
     "output_type": "stream",
     "text": [
      "   survived  pclass     sex   age  sibsp  parch     fare embarked  class  \\\n",
      "0         0       3    male  22.0      1      0   7.2500        S  Third   \n",
      "1         1       1  female  38.0      1      0  71.2833        C  First   \n",
      "2         1       3  female  26.0      0      0   7.9250        S  Third   \n",
      "3         1       1  female  35.0      1      0  53.1000        S  First   \n",
      "4         0       3    male  35.0      0      0   8.0500        S  Third   \n",
      "\n",
      "     who  adult_male deck  embark_town alive  alone  \n",
      "0    man        True  NaN  Southampton    no  False  \n",
      "1  woman       False    C    Cherbourg   yes  False  \n",
      "2  woman       False  NaN  Southampton   yes   True  \n",
      "3  woman       False    C  Southampton   yes  False  \n",
      "4    man        True  NaN  Southampton    no   True  \n"
     ]
    }
   ],
   "source": [
    "import pandas as pd\n",
    "\n",
    "url = \"https://raw.githubusercontent.com/mwaskom/seaborn-data/master/titanic.csv\"\n",
    "df = pd.read_csv(url)\n",
    "print(df.head())\n"
   ]
  },
  {
   "cell_type": "markdown",
   "id": "bf82feff",
   "metadata": {},
   "source": [
    "2.Inspect data"
   ]
  },
  {
   "cell_type": "code",
   "execution_count": 2,
   "id": "8f46c619",
   "metadata": {},
   "outputs": [
    {
     "name": "stdout",
     "output_type": "stream",
     "text": [
      "(891, 15)\n",
      "Index(['survived', 'pclass', 'sex', 'age', 'sibsp', 'parch', 'fare',\n",
      "       'embarked', 'class', 'who', 'adult_male', 'deck', 'embark_town',\n",
      "       'alive', 'alone'],\n",
      "      dtype='object')\n",
      "         survived      pclass         age       sibsp       parch        fare\n",
      "count  891.000000  891.000000  714.000000  891.000000  891.000000  891.000000\n",
      "mean     0.383838    2.308642   29.699118    0.523008    0.381594   32.204208\n",
      "std      0.486592    0.836071   14.526497    1.102743    0.806057   49.693429\n",
      "min      0.000000    1.000000    0.420000    0.000000    0.000000    0.000000\n",
      "25%      0.000000    2.000000   20.125000    0.000000    0.000000    7.910400\n",
      "50%      0.000000    3.000000   28.000000    0.000000    0.000000   14.454200\n",
      "75%      1.000000    3.000000   38.000000    1.000000    0.000000   31.000000\n",
      "max      1.000000    3.000000   80.000000    8.000000    6.000000  512.329200\n",
      "<class 'pandas.core.frame.DataFrame'>\n",
      "RangeIndex: 891 entries, 0 to 890\n",
      "Data columns (total 15 columns):\n",
      " #   Column       Non-Null Count  Dtype  \n",
      "---  ------       --------------  -----  \n",
      " 0   survived     891 non-null    int64  \n",
      " 1   pclass       891 non-null    int64  \n",
      " 2   sex          891 non-null    object \n",
      " 3   age          714 non-null    float64\n",
      " 4   sibsp        891 non-null    int64  \n",
      " 5   parch        891 non-null    int64  \n",
      " 6   fare         891 non-null    float64\n",
      " 7   embarked     889 non-null    object \n",
      " 8   class        891 non-null    object \n",
      " 9   who          891 non-null    object \n",
      " 10  adult_male   891 non-null    bool   \n",
      " 11  deck         203 non-null    object \n",
      " 12  embark_town  889 non-null    object \n",
      " 13  alive        891 non-null    object \n",
      " 14  alone        891 non-null    bool   \n",
      "dtypes: bool(2), float64(2), int64(4), object(7)\n",
      "memory usage: 92.4+ KB\n",
      "None\n"
     ]
    }
   ],
   "source": [
    "print(df.shape)    # rows, columns\n",
    "print(df.columns)  # column names\n",
    "print(df.describe()) # summary statistics\n",
    "print(df.info())   # datatypes + nulls"
   ]
  },
  {
   "cell_type": "markdown",
   "id": "9aa1e86f",
   "metadata": {},
   "source": [
    "3. Select columns & rows"
   ]
  },
  {
   "cell_type": "code",
   "execution_count": null,
   "id": "6b087c9f",
   "metadata": {},
   "outputs": [],
   "source": [
    "print(df[\"age\"].head())   # single column\n",
    "print(df[[\"sex\",\"age\"]].head())  # multiple columns\n",
    "\n",
    "print(df.iloc[0])   # first row (by position)\n",
    "print(df.loc[0])    # first row (by label)\n",
    "\n",
    "\"\"\"\n",
    "-df.iloc[0] means “give me the first row, no matter what the row label is.”\n",
    "\n",
    "-df.loc[0] means “give me the row whose index label is 0.”\n",
    "\n",
    "⚠️ If your DataFrame's index is not 0,1,2… but something else \n",
    "(like passenger IDs, dates, etc.), then loc[0] might fail or return \n",
    "a totally different row.\n",
    "\"\"\""
   ]
  },
  {
   "cell_type": "markdown",
   "id": "55d9d5b0",
   "metadata": {},
   "source": [
    "4. Filtering"
   ]
  },
  {
   "cell_type": "code",
   "execution_count": null,
   "id": "23eb0441",
   "metadata": {},
   "outputs": [],
   "source": [
    "# All passengers older than 60\n",
    "print(df[df[\"age\"] > 60])\n",
    "\n",
    "# All female passengers in 1st class\n",
    "print(df[(df[\"sex\"] == \"female\") & (df[\"pclass\"] == 1)])"
   ]
  },
  {
   "cell_type": "markdown",
   "id": "6cd24767",
   "metadata": {},
   "source": [
    "5. Grouping & aggregation"
   ]
  },
  {
   "cell_type": "code",
   "execution_count": 7,
   "id": "33acf74d",
   "metadata": {},
   "outputs": [
    {
     "name": "stdout",
     "output_type": "stream",
     "text": [
      "sex\n",
      "female    27.915709\n",
      "male      30.726645\n",
      "Name: age, dtype: float64\n",
      "pclass\n",
      "1    0.629630\n",
      "2    0.472826\n",
      "3    0.242363\n",
      "Name: survived, dtype: float64\n"
     ]
    }
   ],
   "source": [
    "# Average age by sex\n",
    "print(df.groupby(\"sex\")[\"age\"].mean())\n",
    "\n",
    "# Survival rate by class\n",
    "print(df.groupby(\"pclass\")[\"survived\"].mean())"
   ]
  },
  {
   "cell_type": "markdown",
   "id": "71dcbd64",
   "metadata": {},
   "source": [
    "📊 Exercise of the Day\n",
    "\n",
    "Find the average age of survivors vs. non-survivors.\n",
    "\n",
    "Find the survival rate of males vs. females.\n",
    "\n",
    "Find the average fare paid per passenger class (pclass)"
   ]
  },
  {
   "cell_type": "code",
   "execution_count": 10,
   "id": "a4a4be2f",
   "metadata": {},
   "outputs": [
    {
     "name": "stdout",
     "output_type": "stream",
     "text": [
      "survived\n",
      "0    30.626179\n",
      "1    28.343690\n",
      "Name: age, dtype: float64\n",
      "\n",
      "sex\n",
      "female    0.742038\n",
      "male      0.188908\n",
      "Name: survived, dtype: float64\n",
      "\n",
      "pclass\n",
      "1    84.154687\n",
      "2    20.662183\n",
      "3    13.675550\n",
      "Name: fare, dtype: float64\n"
     ]
    }
   ],
   "source": [
    "#Average age survivors\n",
    "\n",
    "print(df.groupby(\"survived\")[\"age\"].mean())\n",
    "\n",
    "# Survival rate by sex\n",
    "print()\n",
    "print(df.groupby(\"sex\")[\"survived\"].mean())\n",
    "\n",
    "#Average fair paid per class\n",
    "print()\n",
    "print(df.groupby(\"pclass\")[\"fare\"].mean())"
   ]
  },
  {
   "cell_type": "markdown",
   "id": "486909d1",
   "metadata": {},
   "source": [
    "🌟 Mini-Challenge\n",
    "\n",
    "Who had a better chance of surviving:\n",
    "\n",
    "Women in 1st class\n",
    "\n",
    "Men in 3rd class\n",
    "\n",
    "👉 Use filtering + groupby to calculate survival rates for both groups. Then explain in plain words what the numbers tell you."
   ]
  },
  {
   "cell_type": "code",
   "execution_count": 13,
   "id": "46d2c262",
   "metadata": {},
   "outputs": [
    {
     "name": "stdout",
     "output_type": "stream",
     "text": [
      "sex     pclass\n",
      "female  1         0.968085\n",
      "        2         0.921053\n",
      "        3         0.500000\n",
      "male    1         0.368852\n",
      "        2         0.157407\n",
      "        3         0.135447\n",
      "Name: survived, dtype: float64\n"
     ]
    }
   ],
   "source": [
    "\n",
    "print(df.groupby([\"sex\", \"pclass\"])[\"survived\"].mean())"
   ]
  }
 ],
 "metadata": {
  "kernelspec": {
   "display_name": "venv",
   "language": "python",
   "name": "python3"
  },
  "language_info": {
   "codemirror_mode": {
    "name": "ipython",
    "version": 3
   },
   "file_extension": ".py",
   "mimetype": "text/x-python",
   "name": "python",
   "nbconvert_exporter": "python",
   "pygments_lexer": "ipython3",
   "version": "3.11.3"
  }
 },
 "nbformat": 4,
 "nbformat_minor": 5
}
