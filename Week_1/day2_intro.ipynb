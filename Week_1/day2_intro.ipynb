{
 "cells": [
  {
   "cell_type": "markdown",
   "id": "3d42ce9d",
   "metadata": {},
   "source": [
    "1. Import NumPy and create arrays"
   ]
  },
  {
   "cell_type": "code",
   "execution_count": 1,
   "id": "f0a0b4cb",
   "metadata": {},
   "outputs": [
    {
     "name": "stdout",
     "output_type": "stream",
     "text": [
      "[1 2 3]\n",
      "[[1 2 3]\n",
      " [4 5 6]]\n"
     ]
    }
   ],
   "source": [
    "import numpy as np\n",
    "\n",
    "# 1D array\n",
    "a = np.array([1, 2, 3])\n",
    "print(a)\n",
    "\n",
    "# 2D array\n",
    "b = np.array([[1, 2, 3], [4, 5, 6]])\n",
    "print(b)\n"
   ]
  },
  {
   "cell_type": "markdown",
   "id": "31a34031",
   "metadata": {},
   "source": [
    "2. Shape and size"
   ]
  },
  {
   "cell_type": "code",
   "execution_count": 2,
   "id": "7f07bfe7",
   "metadata": {},
   "outputs": [
    {
     "name": "stdout",
     "output_type": "stream",
     "text": [
      "(3,)\n",
      "(2, 3)\n"
     ]
    }
   ],
   "source": [
    "print(a.shape)   # (3,)\n",
    "print(b.shape)   # (2,3)"
   ]
  },
  {
   "cell_type": "markdown",
   "id": "56933f2c",
   "metadata": {},
   "source": [
    "3. Basic operations"
   ]
  },
  {
   "cell_type": "code",
   "execution_count": 3,
   "id": "91bbc85f",
   "metadata": {},
   "outputs": [
    {
     "name": "stdout",
     "output_type": "stream",
     "text": [
      "[5 7 9]\n",
      "[ 4 10 18]\n",
      "32\n"
     ]
    }
   ],
   "source": [
    "x = np.array([1, 2, 3])\n",
    "y = np.array([4, 5, 6])\n",
    "\n",
    "print(x + y)      # element-wise addition\n",
    "print(x * y)      # element-wise multiplication\n",
    "print(np.dot(x,y))# dot product\n"
   ]
  },
  {
   "cell_type": "markdown",
   "id": "7ec9ed39",
   "metadata": {},
   "source": [
    "4. Broadcasting"
   ]
  },
  {
   "cell_type": "code",
   "execution_count": 4,
   "id": "98f88019",
   "metadata": {},
   "outputs": [
    {
     "name": "stdout",
     "output_type": "stream",
     "text": [
      "[[11 12 13]\n",
      " [14 15 16]]\n"
     ]
    }
   ],
   "source": [
    "m = np.array([[1,2,3],[4,5,6]])\n",
    "print(m + 10)   # adds 10 to every element\n"
   ]
  },
  {
   "cell_type": "markdown",
   "id": "bb263267",
   "metadata": {},
   "source": [
    "Write a function that computes the cosine similarity between two vectors"
   ]
  },
  {
   "cell_type": "code",
   "execution_count": 6,
   "id": "80299af5",
   "metadata": {},
   "outputs": [
    {
     "name": "stdout",
     "output_type": "stream",
     "text": [
      "0.9746318461970762\n",
      "1.0\n",
      "0.5345224838248488\n"
     ]
    }
   ],
   "source": [
    "def cosine_sim(a, b):\n",
    "\n",
    "    dot = np.dot(a,b)\n",
    "\n",
    "    normA = np.linalg.norm(a)\n",
    "    normB = np.linalg.norm(b)\n",
    "\n",
    "    answer = dot / (normA * normB)\n",
    "\n",
    "    return answer\n",
    "\n",
    "# Test\n",
    "\n",
    "v1 = np.array([1,2,3])\n",
    "v2 = np.array([4,5,6])\n",
    "\n",
    "print(cosine_sim(v1,v2))\n",
    "\n",
    "print(cosine_sim(v1,np.array([2,4,6])))\n",
    "print(cosine_sim(v1,np.array([0,1,0])))"
   ]
  },
  {
   "cell_type": "markdown",
   "id": "92432317",
   "metadata": {},
   "source": [
    "[1,2,3] and [2,4,6] are collinear (one is just a scaled version of the other). That’s why their cosine similarity is 1.0 (perfectly aligned). Meanwhile [0,1,0] points in a totally different direction, so the similarity is much lower.\n",
    "\n",
    "That’s the core idea: in AI, embeddings (like text vectors) are “similar” if they point in the same direction, not if they have the same length."
   ]
  }
 ],
 "metadata": {
  "kernelspec": {
   "display_name": "venv",
   "language": "python",
   "name": "python3"
  },
  "language_info": {
   "codemirror_mode": {
    "name": "ipython",
    "version": 3
   },
   "file_extension": ".py",
   "mimetype": "text/x-python",
   "name": "python",
   "nbconvert_exporter": "python",
   "pygments_lexer": "ipython3",
   "version": "3.11.3"
  }
 },
 "nbformat": 4,
 "nbformat_minor": 5
}
