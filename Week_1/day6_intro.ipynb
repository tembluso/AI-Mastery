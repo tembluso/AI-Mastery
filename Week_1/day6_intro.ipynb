{
 "cells": [
  {
   "cell_type": "markdown",
   "id": "b1e0374d",
   "metadata": {},
   "source": [
    "Week 1 – Day 6: Evaluation Metrics Beyond Accuracy\n",
    "\n",
    "Objective of the day\n",
    "Understand why accuracy isn’t enough and learn new metrics: precision, recall, F1-score, and ROC-AUC. By the end, you’ll be able to judge model performance more deeply."
   ]
  },
  {
   "cell_type": "code",
   "execution_count": 3,
   "id": "4c339cde",
   "metadata": {},
   "outputs": [
    {
     "name": "stdout",
     "output_type": "stream",
     "text": [
      "Accuracy: 0.7552447552447552\n",
      "Confusion matrix:\n",
      " [[68 19]\n",
      " [16 40]]\n",
      "Model coefficient.\n",
      "[[ 2.53047810e+00 -1.24068794e+00 -4.24723266e-02  2.27399583e-04]]\n",
      "[2.61171493]\n",
      "\n",
      "              precision    recall  f1-score   support\n",
      "\n",
      "           0       0.81      0.78      0.80        87\n",
      "           1       0.68      0.71      0.70        56\n",
      "\n",
      "    accuracy                           0.76       143\n",
      "   macro avg       0.74      0.75      0.75       143\n",
      "weighted avg       0.76      0.76      0.76       143\n",
      "\n",
      "\n",
      "ROC curve + AUC\n"
     ]
    },
    {
     "data": {
      "image/png": "[encoded data removed]",
      "text/plain": [
       "<Figure size 640x480 with 1 Axes>"
      ]
     },
     "metadata": {},
     "output_type": "display_data"
    },
    {
     "name": "stdout",
     "output_type": "stream",
     "text": [
      "ROC AUC: 0.8109605911330049\n"
     ]
    }
   ],
   "source": [
    "import pandas as pd\n",
    "from sklearn.model_selection import train_test_split\n",
    "from sklearn.linear_model import LogisticRegression\n",
    "from sklearn.metrics import accuracy_score, confusion_matrix\n",
    "from sklearn.metrics import classification_report, roc_curve, roc_auc_score\n",
    "import matplotlib.pyplot as plt\n",
    "\n",
    "\n",
    "url = \"https://raw.githubusercontent.com/mwaskom/seaborn-data/master/titanic.csv\"\n",
    "df = pd.read_csv(url)\n",
    "\n",
    "# Convert categorical column 'sex' to numbers\n",
    "df[\"sex\"] = df[\"sex\"].map({\"male\": 0, \"female\": 1})\n",
    "\n",
    "# Drop rows with missing age\n",
    "df = df.dropna(subset=[\"age\"])\n",
    "\n",
    "X = df[[\"sex\", \"pclass\", \"age\", \"fare\"]]\n",
    "y = df[\"survived\"]\n",
    "\n",
    "#Spliinto train/test\n",
    "\n",
    "X_train, X_test, y_train, y_test = train_test_split(\n",
    "    X, y, test_size=0.2, random_state=42\n",
    ")\n",
    "\n",
    "#Train Model\n",
    "\n",
    "model = LogisticRegression(max_iter=200)\n",
    "model.fit(X_train, y_train)\n",
    "\n",
    "#Evaluate\n",
    "\n",
    "y_pred = model.predict(X_test)\n",
    "\n",
    "print(\"Accuracy:\", accuracy_score(y_test, y_pred))\n",
    "print(\"Confusion matrix:\\n\", confusion_matrix(y_test, y_pred))\n",
    "\n",
    "print(\"Model coefficient.\")\n",
    "print(model.coef_)\n",
    "print(model.intercept_)\n",
    "\n",
    "print()\n",
    "print(classification_report(y_test, y_pred))\n",
    "\n",
    "#ROC curve + AUC\n",
    "print()\n",
    "\n",
    "print(\"ROC curve + AUC\")\n",
    "\n",
    "y_pred_proba = model.predict_proba(X_test)[:,1]  # probability of survival\n",
    "fpr, tpr, thresholds = roc_curve(y_test, y_pred_proba)\n",
    "\n",
    "plt.plot(fpr, tpr, label=\"LogReg\")\n",
    "plt.plot([0,1],[0,1],\"k--\") # baseline\n",
    "plt.xlabel(\"False Positive Rate\")\n",
    "plt.ylabel(\"True Positive Rate\")\n",
    "plt.title(\"ROC Curve\")\n",
    "plt.legend()\n",
    "plt.show()\n",
    "\n",
    "print(\"ROC AUC:\", roc_auc_score(y_test, y_pred_proba))\n",
    "\n"
   ]
  },
  {
   "cell_type": "markdown",
   "id": "ee4cd344",
   "metadata": {},
   "source": [
    "Precision = of those predicted positive, how many were actually positive.\n",
    "\n",
    "Recall = of all actual positives, how many did we catch.\n",
    "\n",
    "F1 = harmonic mean of precision & recall."
   ]
  },
  {
   "cell_type": "markdown",
   "id": "059cee4d",
   "metadata": {},
   "source": [
    "ROC curve\n",
    "\n",
    "ROC curve = Receiver Operating Characteristic.\n",
    "\n",
    "It plots True Positive Rate (TPR) vs False Positive Rate (FPR) for different thresholds.\n",
    "\n",
    "🔎 What does threshold mean?\n",
    "\n",
    "Normally, the model says:\n",
    "\n",
    "if probability ≥ 0.5 → predict survived\n",
    "\n",
    "if probability < 0.5 → predict died\n",
    "\n",
    "But we can slide that cutoff (0.4, 0.6, etc.) and see how performance changes.\n",
    "\n",
    "Lower threshold → catch more survivors (higher TPR) but also more false alarms (higher FPR).\n",
    "\n",
    "Higher threshold → fewer false alarms, but you miss survivors.\n",
    "\n",
    "The ROC curve shows this tradeoff."
   ]
  },
  {
   "cell_type": "markdown",
   "id": "852e7a07",
   "metadata": {},
   "source": [
    "🔎 Putting it together in the curve\n",
    "\n",
    "Each point on the ROC curve = a (FPR, TPR) pair for a certain threshold.\n",
    "\n",
    "If you lower the threshold (say 0.3):\n",
    "\n",
    "The model says \"survived\" more often → TPR goes up (catch more survivors) but FPR also goes up (more false alarms).\n",
    "\n",
    "If you raise the threshold (say 0.7):\n",
    "\n",
    "The model is stricter → fewer false alarms (low FPR), but you miss more survivors (low TPR)."
   ]
  },
  {
   "cell_type": "markdown",
   "id": "b2f921dd",
   "metadata": {},
   "source": [
    "AUC = Area Under the Curve.\n",
    "\n",
    "Value between 0 and 1.\n",
    "\n",
    "0.5 = random guessing (bad).\n",
    "\n",
    "1.0 = perfect model.\n",
    "\n",
    "In practice:\n",
    "\n",
    "0.7–0.8 = decent\n",
    "\n",
    "0.8–0.9 = good\n",
    "\n",
    "0.9+ = excellent"
   ]
  },
  {
   "cell_type": "markdown",
   "id": "ae8bbbe1",
   "metadata": {},
   "source": [
    "🌟 Mini-Challenge\n",
    "\n",
    "Imagine you’re designing a real survival alert system. Which metric would matter more: precision or recall?\n",
    "\n",
    "Precision → avoid false alarms (predict survival only when you’re sure).\n",
    "\n",
    "Recall → catch as many true survivors as possible, even if it means more false alarms.\n",
    "\n",
    "Answer in plain words which one you’d prioritize and why."
   ]
  },
  {
   "cell_type": "markdown",
   "id": "2957adfd",
   "metadata": {},
   "source": [
    "I dont understand very much what do you eman by a 'real survival alert system' but I interpret as a system that raises an alarm to save lives. In this case our objective is to save as many lives as posible so we dont care about false alarms we just care about saving as many people. Therofre I would prioritize recall."
   ]
  }
 ],
 "metadata": {
  "kernelspec": {
   "display_name": "venv",
   "language": "python",
   "name": "python3"
  },
  "language_info": {
   "codemirror_mode": {
    "name": "ipython",
    "version": 3
   },
   "file_extension": ".py",
   "mimetype": "text/x-python",
   "name": "python",
   "nbconvert_exporter": "python",
   "pygments_lexer": "ipython3",
   "version": "3.11.3"
  }
 },
 "nbformat": 4,
 "nbformat_minor": 5
}
