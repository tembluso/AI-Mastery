{
 "cells": [
  {
   "cell_type": "markdown",
   "id": "c348b462",
   "metadata": {},
   "source": [
    "Week 9 · Day 4 — Embeddings\n",
    "Why this matters\n",
    "\n",
    "Neural nets don’t understand words directly. Embeddings turn words into dense vectors that capture meaning, letting similar words map to nearby points in vector space.\n",
    "\n",
    "Theory Essentials\n",
    "\n",
    "One-hot vectors: sparse, high-dimensional, no notion of similarity.\n",
    "\n",
    "Embeddings: dense, low-dimensional vectors learned during training.\n",
    "\n",
    "nn.Embedding: lookup table mapping token IDs → vectors.\n",
    "\n",
    "Pretrained embeddings: e.g., GloVe, Word2Vec, provide semantic knowledge.\n",
    "\n",
    "Freeze vs fine-tune: freeze = keep pretrained meanings; fine-tune = adapt to task.\n",
    "\n",
    "Visualization: words cluster in meaningful ways (king ~ queen, etc.)."
   ]
  },
  {
   "cell_type": "markdown",
   "id": "d1caf6d9",
   "metadata": {},
   "source": [
    "### Flow of your code\n",
    "\n",
    "1. **Sentences → token IDs**\n",
    "   Example:\n",
    "   `\"i love pytorch\"` → `[2, 3, 4]`\n",
    "\n",
    "2. **Pad sequences**\n",
    "   All sentences padded to length 5:\n",
    "   `[2, 3, 4, 0, 0]` (with `<PAD>` = 0).\n",
    "\n",
    "3. **Embedding layer**\n",
    "\n",
    "   * `nn.Embedding(len(vocab), 8)` creates a lookup table:\n",
    "\n",
    "     * Each vocab ID gets an **8-dimensional vector** (random at first).\n",
    "   * So the padded sentence `[2, 3, 4, 0, 0]` becomes a **matrix of shape (5, 8)**.\n",
    "\n",
    "   👉 You’ve now turned discrete word IDs into dense, trainable vectors.\n",
    "\n",
    "---\n",
    "\n",
    "### What `plot_embeddings` does\n",
    "\n",
    "* Takes the full embedding weight matrix (all vocab words, shape = `vocab_size × 8`).\n",
    "* Applies **t-SNE** (dimensionality reduction) to squeeze those 8D vectors into 2D.\n",
    "* Plots each word as a **point** in 2D space, with its label.\n",
    "\n",
    "---\n",
    "\n",
    "### What you will see\n",
    "\n",
    "* At **init (random)**: words are scattered randomly. No structure.\n",
    "* After **training**: words with similar meanings (like *deep* and *learning*) will cluster together.\n",
    "* With **pretrained vectors (e.g. GloVe)**: you’d see meaningful groupings immediately, e.g.,\n",
    "\n",
    "  * *king* near *queen*\n",
    "  * *deep* near *learning*\n",
    "  * *i* far away from those\n",
    "\n",
    "👉 The plot is a **map of the embedding space** — it shows how words are positioned relative to each other based on their vector representations.\n",
    "\n",
    "---\n",
    "\n",
    "So: **Plotting embeddings lets you “see” the semantic structure the model has learned.**\n"
   ]
  },
  {
   "cell_type": "code",
   "execution_count": 10,
   "id": "dc1d85e4",
   "metadata": {},
   "outputs": [
    {
     "name": "stdout",
     "output_type": "stream",
     "text": [
      "Embedded shape: torch.Size([3, 5, 8])\n"
     ]
    },
    {
     "data": {
      "image/png": "[encoded data removed]",
      "text/plain": [
       "<Figure size 640x480 with 1 Axes>"
      ]
     },
     "metadata": {},
     "output_type": "display_data"
    },
    {
     "name": "stdout",
     "output_type": "stream",
     "text": [
      "Pretrained vector for 'pytorch': tensor([[ 0.0177, -1.0261,  0.6993, -0.7297,  0.8710, -0.0837,  2.7889, -0.2693,\n",
      "          1.2730,  0.5399, -0.0955,  0.2916, -0.6229,  0.3264, -1.0875,  0.0220,\n",
      "         -0.4904, -0.0780,  0.6522,  0.6439, -0.0789, -0.1700,  0.7127, -0.6254,\n",
      "          0.3697,  1.7278, -1.3649,  0.4621, -0.1731, -0.3313,  0.0424,  1.4874,\n",
      "          2.1568,  0.4856,  1.0920,  1.2930, -0.5168,  0.6115,  0.3111,  0.4940,\n",
      "          1.2911, -0.1825, -0.9985,  1.2206, -1.1373,  0.1264, -1.1113,  0.8785,\n",
      "          1.3073, -1.7463]])\n"
     ]
    }
   ],
   "source": [
    "# Setup\n",
    "import numpy as np, matplotlib.pyplot as plt\n",
    "import torch, torch.nn as nn\n",
    "from sklearn.manifold import TSNE\n",
    "\n",
    "# Tiny vocab from Day 1\n",
    "vocab = {\"<PAD>\":0, \"<UNK>\":1, \"i\":2, \"love\":3, \"pytorch\":4, \"deep\":5, \"learning\":6}\n",
    "\n",
    "# Example sentences (tokenized & numericalized)\n",
    "sentences = [\n",
    "    [2,3,4],       # \"i love pytorch\"\n",
    "    [5,6,4],       # \"deep learning pytorch\"\n",
    "    [2,3,5,6]      # \"i love deep learning\"\n",
    "]\n",
    "\n",
    "sentences = torch.tensor([s + [0]*(5-len(s)) for s in sentences])  # pad to length 5\n",
    "\n",
    "# 1) Random embedding layer\n",
    "embed = nn.Embedding(len(vocab), 8)  # vocab size × embedding dim\n",
    "embedded = embed(sentences)\n",
    "print(\"Embedded shape:\", embedded.shape)  # (batch, seq_len, dim)\n",
    "\n",
    "# 2) Visualize embeddings (random init)\n",
    "def plot_embeddings(embed_layer, vocab):\n",
    "    weights = embed_layer.weight.detach().numpy()\n",
    "    tsne = TSNE(n_components=2, random_state=42, init=\"random\", perplexity=2)\n",
    "    coords = tsne.fit_transform(weights)\n",
    "    plt.scatter(coords[:,0], coords[:,1])\n",
    "    for word, idx in vocab.items():\n",
    "        plt.annotate(word, coords[idx])\n",
    "    plt.show()\n",
    "\n",
    "plot_embeddings(embed, vocab)\n",
    "\n",
    "# 3) Example: load small pretrained GloVe (50d) for demo\n",
    "# (Pretend vectors; normally load from file)\n",
    "pretrained = torch.randn(len(vocab), 50)\n",
    "glove_embed = nn.Embedding.from_pretrained(pretrained, freeze=True)\n",
    "print(\"Pretrained vector for 'pytorch':\", glove_embed(torch.tensor([vocab[\"pytorch\"]])))\n"
   ]
  },
  {
   "cell_type": "markdown",
   "id": "59a9d362",
   "metadata": {},
   "source": [
    "\n",
    "### How it was made\n",
    "\n",
    "* Each word in your vocab (`i`, `love`, `deep`, `learning`, `pytorch`, `<PAD>`, `<UNK>`) has an **8-dimensional embedding vector** (from `nn.Embedding`).\n",
    "* t-SNE reduced those 8D vectors → 2D so we can plot them.\n",
    "* Each point = one word’s vector, with its label.\n",
    "\n",
    "---\n",
    "\n",
    "### Why it looks random\n",
    "\n",
    "Right now, your embedding layer is **randomly initialized** (you haven’t trained it).\n",
    "So:\n",
    "\n",
    "* The positions don’t carry real meaning yet.\n",
    "* Words that are semantically related (*deep*, *learning*) are not close together — they’re just scattered.\n",
    "\n",
    "---\n",
    "\n",
    "### What would change after training\n",
    "\n",
    "* If you trained the embeddings on a task, words used in similar contexts would move closer in vector space.\n",
    "* Example: *deep* and *learning* should cluster; *i* and *love* may group apart.\n",
    "* With pretrained vectors (like GloVe), you’d immediately see semantic structure (e.g., *king* \\~ *queen*, *Paris* \\~ *France*).\n",
    "\n",
    "---\n",
    "\n",
    "👉 So this plot is essentially a **snapshot of the “word space”** — right now it’s random, but after learning, you’d expect clusters that reflect meaning."
   ]
  },
  {
   "cell_type": "markdown",
   "id": "458e4305",
   "metadata": {},
   "source": [
    "\n",
    "\n",
    "* You defined:\n",
    "\n",
    "  ```python\n",
    "  pretrained = torch.randn(len(vocab), 50)\n",
    "  glove_embed = nn.Embedding.from_pretrained(pretrained, freeze=True)\n",
    "  ```\n",
    "* This makes a lookup table where each vocab item has a **50-dimensional vector**.\n",
    "* `glove_embed(torch.tensor([vocab[\"pytorch\"]]))` → returns the row of the embedding matrix for `\"pytorch\"`.\n",
    "\n",
    "---\n",
    "\n",
    "### What the numbers mean\n",
    "\n",
    "* Each number is one coordinate in a 50-dimensional space.\n",
    "* Together, they form `\"pytorch\"`’s vector representation.\n",
    "* These vectors are supposed to capture semantic meaning. For example (if you used *real* GloVe/Word2Vec):\n",
    "\n",
    "  * `\"pytorch\"` would be close to `\"tensorflow\"` in vector space.\n",
    "  * `\"king\" – \"man\" + \"woman\"` ≈ `\"queen\"`.\n",
    "\n",
    "---\n",
    "\n",
    "### Why it looks like random decimals now\n",
    "\n",
    "* In your code, `pretrained` was set with `torch.randn(...)`, so these are **random values**.\n",
    "* If you had actually loaded GloVe or Word2Vec, those numbers would encode learned semantic information.\n",
    "\n",
    "---\n",
    "\n",
    "👉 In short: it’s the **dense numeric fingerprint** of `\"pytorch\"`. Right now random, but in a trained or pretrained embedding, it’s what lets neural nets work with words as vectors instead of raw IDs.\n",
    "\n"
   ]
  },
  {
   "cell_type": "markdown",
   "id": "f8648118",
   "metadata": {},
   "source": [
    "1) Core (10–15 min)\n",
    "Task: Create an embedding layer of dimension 4. Print the vector for \"deep\"."
   ]
  },
  {
   "cell_type": "code",
   "execution_count": 3,
   "id": "493222eb",
   "metadata": {},
   "outputs": [
    {
     "name": "stdout",
     "output_type": "stream",
     "text": [
      "tensor([[-0.3452,  0.5150, -0.8349, -0.7753]], grad_fn=<EmbeddingBackward0>)\n"
     ]
    }
   ],
   "source": [
    "embed4 = nn.Embedding(len(vocab), 4)\n",
    "print(embed4(torch.tensor([vocab[\"deep\"]])))\n"
   ]
  },
  {
   "cell_type": "markdown",
   "id": "a8294333",
   "metadata": {},
   "source": [
    "2) Practice (10–15 min)\n",
    "Task: Re-run t-SNE plot with embedding dim = 16. Do words cluster differently?"
   ]
  },
  {
   "cell_type": "code",
   "execution_count": 4,
   "id": "0c5b1a4b",
   "metadata": {},
   "outputs": [
    {
     "data": {
      "image/png": "[encoded data removed]",
      "text/plain": [
       "<Figure size 640x480 with 1 Axes>"
      ]
     },
     "metadata": {},
     "output_type": "display_data"
    }
   ],
   "source": [
    "embed16 = nn.Embedding(len(vocab), 16)\n",
    "plot_embeddings(embed16, vocab)\n"
   ]
  },
  {
   "cell_type": "markdown",
   "id": "096b1774",
   "metadata": {},
   "source": [
    "3) Stretch (optional, 10–15 min)\n",
    "Task: Replace one word vector in embed.weight.data with a fixed custom vector. Check its effect."
   ]
  },
  {
   "cell_type": "code",
   "execution_count": 13,
   "id": "fadd493b",
   "metadata": {},
   "outputs": [
    {
     "name": "stdout",
     "output_type": "stream",
     "text": [
      "tensor([[1., 1., 1., 1., 1., 1., 1., 1.]], grad_fn=<EmbeddingBackward0>)\n"
     ]
    },
    {
     "data": {
      "image/png": "[encoded data removed]",
      "text/plain": [
       "<Figure size 640x480 with 1 Axes>"
      ]
     },
     "metadata": {},
     "output_type": "display_data"
    }
   ],
   "source": [
    "embed.weight.data[vocab[\"pytorch\"]] = torch.tensor([1.0]*8)\n",
    "print(embed(torch.tensor([vocab[\"pytorch\"]])))\n",
    "plot_embeddings(embed, vocab)\n"
   ]
  },
  {
   "cell_type": "markdown",
   "id": "0d5381f7",
   "metadata": {},
   "source": [
    "Mini-Challenge (≤40 min)\n",
    "\n",
    "Build a qualitative check:\n",
    "\n",
    "Create an embedding layer (dim=10).\n",
    "\n",
    "Add words: \"good\", \"bad\", \"happy\", \"sad\" into the vocab.\n",
    "\n",
    "Initialize them randomly.\n",
    "\n",
    "Use t-SNE to visualize.\n",
    "\n",
    "Acceptance Criteria: Produce a scatter plot with all vocab words annotated, confirm dimensions, and explain in 2–3 lines what embeddings enable compared to one-hot."
   ]
  },
  {
   "cell_type": "code",
   "execution_count": 14,
   "id": "2427c7ea",
   "metadata": {},
   "outputs": [
    {
     "name": "stdout",
     "output_type": "stream",
     "text": [
      "Extended vocab: {'<PAD>': 0, '<UNK>': 1, 'i': 2, 'love': 3, 'pytorch': 4, 'deep': 5, 'learning': 6, 'good': 7, 'bad': 8, 'happy': 9, 'sad': 10}\n",
      "Embedding weight shape: torch.Size([11, 10])\n"
     ]
    },
    {
     "data": {
      "image/png": "[encoded data removed]",
      "text/plain": [
       "<Figure size 640x480 with 1 Axes>"
      ]
     },
     "metadata": {},
     "output_type": "display_data"
    },
    {
     "name": "stdout",
     "output_type": "stream",
     "text": [
      "\n",
      "Embeddings map words to dense vectors in a continuous space.\n",
      "Unlike one-hot (where all words are equally far apart),\n",
      "embeddings can place semantically similar words closer together.\n",
      "\n"
     ]
    }
   ],
   "source": [
    "# ---- Extend existing vocab with sentiment words ----\n",
    "extra_words = [\"good\", \"bad\", \"happy\", \"sad\"]\n",
    "start_idx = len(vocab)   # next available ID\n",
    "for i, w in enumerate(extra_words, start=start_idx):\n",
    "    vocab[w] = i\n",
    "\n",
    "print(\"Extended vocab:\", vocab)\n",
    "\n",
    "# ---- Create embedding layer with dim=10 for the new vocab ----\n",
    "embed_ext = nn.Embedding(len(vocab), 10)\n",
    "\n",
    "print(\"Embedding weight shape:\", embed_ext.weight.shape)  # (vocab_size, 10)\n",
    "\n",
    "# ---- Visualize with t-SNE ----\n",
    "weights_ext = embed_ext.weight.detach().numpy()\n",
    "tsne = TSNE(n_components=2, random_state=42, init=\"random\", perplexity=2)\n",
    "coords_ext = tsne.fit_transform(weights_ext)\n",
    "\n",
    "plt.scatter(coords_ext[:,0], coords_ext[:,1])\n",
    "for word, idx in vocab.items():\n",
    "    plt.annotate(word, (coords_ext[idx,0], coords_ext[idx,1]))\n",
    "plt.title(\"t-SNE of embeddings (with extra words)\")\n",
    "plt.show()\n",
    "\n",
    "# ---- Explanation ----\n",
    "print(\"\"\"\n",
    "Embeddings map words to dense vectors in a continuous space.\n",
    "Unlike one-hot (where all words are equally far apart),\n",
    "embeddings can place semantically similar words closer together.\n",
    "\"\"\")\n"
   ]
  },
  {
   "cell_type": "markdown",
   "id": "a6e8a183",
   "metadata": {},
   "source": [
    "Notes / Key Takeaways\n",
    "\n",
    "One-hot vectors waste space and don’t capture similarity.\n",
    "\n",
    "Embeddings compress words into dense vectors with semantic meaning.\n",
    "\n",
    "nn.Embedding is a lookup table trained like other layers.\n",
    "\n",
    "Pretrained embeddings inject knowledge from large corpora.\n",
    "\n",
    "Freeze = preserve meaning; fine-tune = adapt.\n",
    "\n",
    "Visualization shows clustering of semantically related words.\n",
    "\n",
    "Embeddings are the input foundation for RNNs, LSTMs, GRUs, and Transformers."
   ]
  },
  {
   "cell_type": "markdown",
   "id": "64aaf3c2",
   "metadata": {},
   "source": [
    "Reflection\n",
    "\n",
    "Why are embeddings more powerful than one-hot encodings?\n",
    "\n",
    "When would you choose to freeze vs fine-tune pretrained embeddings?"
   ]
  },
  {
   "cell_type": "markdown",
   "id": "4852052a",
   "metadata": {},
   "source": [
    "\n",
    "\n",
    "**Why are embeddings more powerful than one-hot encodings?**\n",
    "One-hot vectors are sparse and treat every word as equally unrelated — *good* and *happy* are just as far apart as *good* and *airplane*. Embeddings, on the other hand, are dense vectors learned (or pretrained) so that words used in similar contexts end up close together in vector space. This captures semantic relationships (e.g., *king* ≈ *queen*), something one-hot cannot do.\n",
    "\n",
    "---\n",
    "\n",
    "**When would you choose to freeze vs fine-tune pretrained embeddings?**\n",
    "\n",
    "* **Freeze**: when your dataset is small or you want to preserve the semantic knowledge from large pretrained corpora (e.g., GloVe, Word2Vec). Freezing prevents overfitting and speeds up training.\n",
    "* **Fine-tune**: when you have enough labeled data or your domain differs from the pretrained one (e.g., medical or legal text). Fine-tuning lets the embeddings adapt to the task while starting from strong initial knowledge.\n",
    "\n",
    "---\n",
    "\n",
    "👉 Quick memory hook:\n",
    "\n",
    "* **One-hot = dictionary IDs with no meaning.**\n",
    "* **Embeddings = compact, meaningful coordinates.**\n",
    "* **Freeze = keep general meaning. Fine-tune = adapt to your task.**\n",
    "\n"
   ]
  }
 ],
 "metadata": {
  "kernelspec": {
   "display_name": "venv",
   "language": "python",
   "name": "python3"
  },
  "language_info": {
   "codemirror_mode": {
    "name": "ipython",
    "version": 3
   },
   "file_extension": ".py",
   "mimetype": "text/x-python",
   "name": "python",
   "nbconvert_exporter": "python",
   "pygments_lexer": "ipython3",
   "version": "3.11.3"
  }
 },
 "nbformat": 4,
 "nbformat_minor": 5
}
