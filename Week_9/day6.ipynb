{
 "cells": [
  {
   "cell_type": "markdown",
   "id": "6402210b",
   "metadata": {},
   "source": [
    "Week 9 · Day 6 — Training the IMDB LSTM (v1)\n",
    "Why this matters\n",
    "\n",
    "Now that you’ve built vocab, padding, and embeddings, it’s time to train a real sequence model. The IMDB dataset (movie reviews) is a classic benchmark for sentiment analysis.\n",
    "\n",
    "Theory Essentials\n",
    "\n",
    "Variable-length sequences: reviews have different lengths → use padding + masks.\n",
    "\n",
    "Packed sequences: pack_padded_sequence avoids wasting compute on padding.\n",
    "\n",
    "LSTM model: encodes sequences into a hidden vector.\n",
    "\n",
    "Dropout + grad clipping: stabilize training.\n",
    "\n",
    "Checkpointing: save best model to avoid overfitting.\n",
    "\n",
    "Metric goal: baseline ≈ 80–85% accuracy."
   ]
  },
  {
   "cell_type": "code",
   "execution_count": 3,
   "id": "f965cea0",
   "metadata": {},
   "outputs": [
    {
     "name": "stdout",
     "output_type": "stream",
     "text": [
      "Epoch 1: Loss=0.1793, Test Acc=1.000\n",
      "Epoch 2: Loss=0.0009, Test Acc=1.000\n",
      "Epoch 3: Loss=0.0005, Test Acc=1.000\n",
      "Epoch 4: Loss=0.0004, Test Acc=1.000\n",
      "Epoch 5: Loss=0.0003, Test Acc=1.000\n"
     ]
    },
    {
     "data": {
      "image/png": "[encoded data removed]",
      "text/plain": [
       "<Figure size 640x480 with 1 Axes>"
      ]
     },
     "metadata": {},
     "output_type": "display_data"
    }
   ],
   "source": [
    "# Setup\n",
    "import numpy as np, matplotlib.pyplot as plt\n",
    "import torch, torch.nn as nn, torch.optim as optim\n",
    "from torchtext.datasets import IMDB\n",
    "from torchtext.data.utils import get_tokenizer\n",
    "from torch.nn.utils.rnn import pad_sequence, pack_padded_sequence, pad_packed_sequence\n",
    "from torch.utils.data import DataLoader\n",
    "from collections import Counter\n",
    "\n",
    "import random\n",
    "\n",
    "torch.manual_seed(42)\n",
    "\n",
    "# 1) Load IMDB dataset (small subset for speed)\n",
    "train_iter = IMDB(split='train')\n",
    "test_iter = IMDB(split='test')\n",
    "train_data = list(train_iter)[:2000]  # use 2k samples for demo\n",
    "test_data = list(test_iter)[:1000]\n",
    "\n",
    "# 2) Tokenizer + vocab\n",
    "tokenizer = get_tokenizer(\"basic_english\")\n",
    "counter = Counter()\n",
    "for label, line in train_data:\n",
    "    counter.update(tokenizer(line))\n",
    "vocab = {word: i+2 for i,(word,_) in enumerate(counter.most_common(10000))}\n",
    "vocab[\"<PAD>\"]=0; vocab[\"<UNK>\"]=1\n",
    "\n",
    "def encode(text):\n",
    "    return [vocab.get(tok, vocab[\"<UNK>\"]) for tok in tokenizer(text)]\n",
    "\n",
    "# 3) Dataset + collate\n",
    "def collate_batch(batch):\n",
    "    labels, sequences, lengths = [], [], []\n",
    "    for label, text in batch:\n",
    "        labels.append(1 if label==\"pos\" else 0)\n",
    "        seq = torch.tensor(encode(text))\n",
    "        sequences.append(seq)\n",
    "        lengths.append(len(seq))\n",
    "    sequences = pad_sequence(sequences, batch_first=True, padding_value=vocab[\"<PAD>\"])\n",
    "    lengths = torch.tensor(lengths)\n",
    "    labels = torch.tensor(labels)\n",
    "    return sequences, lengths, labels\n",
    "\n",
    "train_loader = DataLoader(train_data, batch_size=32, shuffle=True, collate_fn=collate_batch)\n",
    "test_loader = DataLoader(test_data, batch_size=32, shuffle=False, collate_fn=collate_batch)\n",
    "\n",
    "# 4) Model\n",
    "class LSTMClassifier(nn.Module):\n",
    "    def __init__(self, vocab_size, embed_dim=64, hidden_dim=64):\n",
    "        super().__init__()\n",
    "        self.embedding = nn.Embedding(vocab_size, embed_dim, padding_idx=vocab[\"<PAD>\"])\n",
    "        self.lstm = nn.LSTM(embed_dim, hidden_dim, batch_first=True)\n",
    "        self.fc = nn.Linear(hidden_dim, 2)\n",
    "        self.dropout = nn.Dropout(0.3)\n",
    "    def forward(self, x, lengths):\n",
    "        x = self.embedding(x)\n",
    "        packed = pack_padded_sequence(x, lengths.cpu(), batch_first=True, enforce_sorted=False)\n",
    "        out, (h,c) = self.lstm(packed)\n",
    "        return self.fc(self.dropout(h[-1]))\n",
    "\n",
    "model = LSTMClassifier(len(vocab))\n",
    "criterion = nn.CrossEntropyLoss()\n",
    "optimizer = optim.Adam(model.parameters(), lr=1e-3)\n",
    "\n",
    "# 5) Training loop\n",
    "def train_model(model, train_loader, test_loader, epochs=5):\n",
    "    train_losses, test_accs = [], []\n",
    "    best_acc, best_state = 0, None\n",
    "    for epoch in range(epochs):\n",
    "        model.train()\n",
    "        epoch_loss=0\n",
    "        for X,lengths,y in train_loader:\n",
    "            optimizer.zero_grad()\n",
    "            out = model(X, lengths)\n",
    "            loss = criterion(out, y)\n",
    "            loss.backward()\n",
    "            nn.utils.clip_grad_norm_(model.parameters(), 5.0)\n",
    "            optimizer.step()\n",
    "            epoch_loss += loss.item()\n",
    "        train_losses.append(epoch_loss/len(train_loader))\n",
    "        # eval\n",
    "        model.eval(); correct=0; total=0\n",
    "        with torch.no_grad():\n",
    "            for X,lengths,y in test_loader:\n",
    "                preds = model(X,lengths).argmax(1)\n",
    "                correct += (preds==y).sum().item()\n",
    "                total += y.size(0)\n",
    "        acc = correct/total\n",
    "        test_accs.append(acc)\n",
    "        if acc>best_acc:\n",
    "            best_acc, best_state = acc, model.state_dict()\n",
    "        print(f\"Epoch {epoch+1}: Loss={train_losses[-1]:.4f}, Test Acc={acc:.3f}\")\n",
    "    model.load_state_dict(best_state)\n",
    "    return train_losses, test_accs\n",
    "\n",
    "losses, accs = train_model(model, train_loader, test_loader, epochs=5)\n",
    "\n",
    "plt.plot(losses,label=\"Train Loss\")\n",
    "plt.plot(accs,label=\"Test Acc\")\n",
    "plt.legend(); plt.show()\n"
   ]
  },
  {
   "cell_type": "markdown",
   "id": "9454fbae",
   "metadata": {},
   "source": [
    "### 1. What is the IMDB dataset?\n",
    "\n",
    "* It’s a **sentiment analysis dataset** of **50,000 movie reviews** from IMDB.\n",
    "* Each review has a label: **“pos”** (positive review) or **“neg”** (negative review).\n",
    "* Task: **Given the text of a review, predict whether it’s positive or negative**.\n",
    "\n",
    "---\n",
    "\n",
    "### 2. What your code is doing\n",
    "\n",
    "* **Load data**: Pulls IMDB reviews (you limited to 2k train + 1k test for speed).\n",
    "* **Tokenize & vocab**: Splits reviews into words, builds a vocabulary of the 10,000 most common words.\n",
    "* **Encode reviews**: Converts each review into a sequence of integers (word IDs).\n",
    "* **Pad sequences**: Makes all reviews the same length for batching.\n",
    "* **Model**:\n",
    "\n",
    "  * Embedding layer turns word IDs into dense vectors.\n",
    "  * LSTM reads the sequence word by word and builds a representation of the review.\n",
    "  * Final hidden state → Linear → 2 logits (positive vs negative).\n",
    "* **Training**: CrossEntropy loss compares predictions with true labels. Optimizer updates weights.\n",
    "* **Evaluation**: After each epoch, computes accuracy on the test set.\n",
    "* **Plots**: Training loss vs test accuracy curves.\n",
    "\n",
    "---\n",
    "\n",
    "### 3. What you’re predicting\n",
    "\n",
    "👉 You are training an **LSTM sentiment classifier**: given a movie review, predict if it’s **positive or negative**.\n",
    "\n",
    "---\n",
    "\n",
    "### 4. Why your results show 100% accuracy\n",
    "\n",
    "* You sampled only **2000 training + 1000 test reviews** out of 50,000.\n",
    "* Possibly your sample was **too easy or unbalanced** (e.g., lots of short/clear reviews).\n",
    "* With a small subset and small vocab, the model **overfits fast**, reaching “perfect” accuracy on both train and test — but this is misleading.\n",
    "* If you use the **full dataset**, accuracy will be more realistic (typically \\~85–90% for a simple LSTM).\n",
    "\n",
    "---\n",
    "\n",
    "### 5. The two parallel lines in the plot\n",
    "\n",
    "* Blue = training loss → drops to \\~0.\n",
    "* Orange = test accuracy → flat at 1.0 (100%).\n",
    "* This happens because the subset you chose is trivial for the model (or accidentally biased).\n",
    "* On the **full 25k/25k splits**, you’d see training loss decrease and test accuracy climb toward \\~0.85, not stay at 1.0.\n",
    "\n",
    "---\n",
    "\n",
    "✅ **Big picture**:\n",
    "You just built your first **sequence model (LSTM)** that learns to do **sentiment analysis**: turning text reviews into a prediction of *positive vs negative*.\n",
    "\n"
   ]
  },
  {
   "cell_type": "markdown",
   "id": "13975e38",
   "metadata": {},
   "source": [
    "1) Core (10–15 min)\n",
    "Task: Change embed_dim=32 and re-train. Compare test accuracy."
   ]
  },
  {
   "cell_type": "code",
   "execution_count": 4,
   "id": "7c1227eb",
   "metadata": {},
   "outputs": [
    {
     "name": "stdout",
     "output_type": "stream",
     "text": [
      "Epoch 1: Loss=0.5697, Test Acc=1.000\n",
      "Epoch 2: Loss=0.5700, Test Acc=1.000\n",
      "Epoch 3: Loss=0.5710, Test Acc=1.000\n",
      "Epoch 4: Loss=0.5696, Test Acc=1.000\n",
      "Epoch 5: Loss=0.5707, Test Acc=1.000\n"
     ]
    },
    {
     "data": {
      "image/png": "[encoded data removed]",
      "text/plain": [
       "<Figure size 640x480 with 1 Axes>"
      ]
     },
     "metadata": {},
     "output_type": "display_data"
    }
   ],
   "source": [
    "model_small = LSTMClassifier(len(vocab), embed_dim=32)\n",
    "losses, accs = train_model(model_small, train_loader, test_loader)\n",
    "\n",
    "plt.plot(losses,label=\"Train Loss\")\n",
    "plt.plot(accs,label=\"Test Acc\")\n",
    "plt.legend(); plt.show()"
   ]
  },
  {
   "cell_type": "markdown",
   "id": "29962fe8",
   "metadata": {},
   "source": [
    "Accuracy is still perfect because it is a small dataset. However train loss is much higher."
   ]
  },
  {
   "cell_type": "markdown",
   "id": "2ab90c33",
   "metadata": {},
   "source": [
    "2) Practice (10–15 min)\n",
    "Task: Add dropout=0.5 instead of 0.3. Does accuracy change?"
   ]
  },
  {
   "cell_type": "code",
   "execution_count": 5,
   "id": "6d87a0c6",
   "metadata": {},
   "outputs": [
    {
     "name": "stdout",
     "output_type": "stream",
     "text": [
      "Epoch 1: Loss=0.6503, Test Acc=0.960\n",
      "Epoch 2: Loss=0.6521, Test Acc=0.960\n",
      "Epoch 3: Loss=0.6517, Test Acc=0.960\n"
     ]
    }
   ],
   "source": [
    "class LSTMClassifier(nn.Module):\n",
    "    def __init__(self, vocab_size, embed_dim=64, hidden_dim=64):\n",
    "        super().__init__()\n",
    "        self.embedding = nn.Embedding(vocab_size, embed_dim, padding_idx=vocab[\"<PAD>\"])\n",
    "        self.lstm = nn.LSTM(embed_dim, hidden_dim, batch_first=True)\n",
    "        self.fc = nn.Linear(hidden_dim, 2)\n",
    "        self.dropout = nn.Dropout(0.5)\n",
    "    def forward(self, x, lengths):\n",
    "        x = self.embedding(x)\n",
    "        packed = pack_padded_sequence(x, lengths.cpu(), batch_first=True, enforce_sorted=False)\n",
    "        out, (h,c) = self.lstm(packed)\n",
    "        return self.fc(self.dropout(h[-1]))\n",
    "    \n",
    "model_small = LSTMClassifier(len(vocab))\n",
    "losses, accs = train_model(model_small, train_loader, test_loader, epochs=3)\n"
   ]
  },
  {
   "cell_type": "markdown",
   "id": "3c0234af",
   "metadata": {},
   "source": [
    "Accuracy dropped"
   ]
  },
  {
   "cell_type": "markdown",
   "id": "217f297c",
   "metadata": {},
   "source": [
    "3) Stretch (optional, 10–15 min)\n",
    "Task: Print 5 misclassified reviews and their predicted labels."
   ]
  },
  {
   "cell_type": "code",
   "execution_count": 6,
   "id": "9d9c34f0",
   "metadata": {},
   "outputs": [],
   "source": [
    "errors=0\n",
    "for X,lengths,y in test_loader:\n",
    "    preds=model(X,lengths).argmax(1)\n",
    "    for text,label,pred in zip(X,y,preds):\n",
    "        if label!=pred and errors<5:\n",
    "            print(\"True:\",label.item(),\"Pred:\",pred.item())\n",
    "            errors+=1\n"
   ]
  },
  {
   "cell_type": "markdown",
   "id": "8045f466",
   "metadata": {},
   "source": [
    "Mini-Challenge (≤40 min)\n",
    "\n",
    "Train and checkpoint:\n",
    "\n",
    "Train LSTM with embed_dim=64, hidden_dim=128.\n",
    "\n",
    "Save best model (torch.save).\n",
    "\n",
    "Report final accuracy, precision, recall, F1 on test set.\n",
    "\n",
    "Acceptance Criteria: ≥80% test accuracy with metrics reported."
   ]
  },
  {
   "cell_type": "code",
   "execution_count": null,
   "id": "8b98d8e3",
   "metadata": {},
   "outputs": [],
   "source": [
    "# Mini-Challenge: train (64,128), checkpoint best, and report metrics\n",
    "\n",
    "import torch, torch.nn as nn, torch.optim as optim\n",
    "from sklearn.metrics import accuracy_score, precision_recall_fscore_support, classification_report\n",
    "from pathlib import Path\n",
    "\n",
    "device = torch.device(\"cuda\" if torch.cuda.is_available() else \"cpu\")\n",
    "\n",
    "# 1) Model with embed_dim=64, hidden_dim=128\n",
    "class LSTMClassifier(nn.Module):\n",
    "    def __init__(self, vocab_size, embed_dim=64, hidden_dim=128):\n",
    "        super().__init__()\n",
    "        self.embedding = nn.Embedding(vocab_size, embed_dim, padding_idx=vocab[\"<PAD>\"])\n",
    "        self.lstm = nn.LSTM(embed_dim, hidden_dim, batch_first=True)\n",
    "        self.dropout = nn.Dropout(0.3)\n",
    "        self.fc = nn.Linear(hidden_dim, 2)\n",
    "    def forward(self, x, lengths):\n",
    "        x = self.embedding(x)\n",
    "        packed = pack_padded_sequence(x, lengths.cpu(), batch_first=True, enforce_sorted=False)\n",
    "        _, (h, _) = self.lstm(packed)\n",
    "        return self.fc(self.dropout(h[-1]))\n",
    "\n",
    "model = LSTMClassifier(len(vocab)).to(device)\n",
    "criterion = nn.CrossEntropyLoss()\n",
    "optimizer = optim.Adam(model.parameters(), lr=1e-3)\n",
    "\n",
    "# 2) Train with best-checkpointing by test accuracy\n",
    "best_acc, best_state = 0.0, None\n",
    "epochs = 6\n",
    "for epoch in range(1, epochs+1):\n",
    "    model.train()\n",
    "    running = 0.0\n",
    "    for X, lengths, y in train_loader:\n",
    "        X, lengths, y = X.to(device), lengths.to(device), y.to(device)\n",
    "        optimizer.zero_grad()\n",
    "        logits = model(X, lengths)\n",
    "        loss = criterion(logits, y)\n",
    "        loss.backward()\n",
    "        nn.utils.clip_grad_norm_(model.parameters(), 5.0)\n",
    "        optimizer.step()\n",
    "        running += loss.item()\n",
    "    train_loss = running / len(train_loader)\n",
    "\n",
    "    # quick eval each epoch\n",
    "    model.eval(); correct=0; total=0\n",
    "    with torch.no_grad():\n",
    "        for X, lengths, y in test_loader:\n",
    "            X, lengths, y = X.to(device), lengths.to(device), y.to(device)\n",
    "            preds = model(X, lengths).argmax(1)\n",
    "            correct += (preds == y).sum().item()\n",
    "            total += y.size(0)\n",
    "    acc = correct/total\n",
    "    if acc > best_acc:\n",
    "        best_acc, best_state = acc, {k: v.cpu() for k, v in model.state_dict().items()}\n",
    "        torch.save(best_state, \"best_lstm.pt\")  # <-- checkpoint\n",
    "    print(f\"Epoch {epoch}: Train Loss={train_loss:.4f} | Test Acc={acc:.3f} | Best={best_acc:.3f}\")\n",
    "\n",
    "# 3) Load best checkpoint and report metrics on test set\n",
    "state = torch.load(\"best_lstm.pt\", map_location=device)\n",
    "model.load_state_dict(state)\n",
    "model.to(device)\n",
    "model.eval()\n",
    "\n",
    "all_y, all_pred = [], []\n",
    "with torch.no_grad():\n",
    "    for X, lengths, y in test_loader:\n",
    "        X, lengths = X.to(device), lengths.to(device)\n",
    "        pred = model(X, lengths).argmax(1).cpu()\n",
    "        all_pred.extend(pred.tolist())\n",
    "        all_y.extend(y.tolist())\n",
    "\n",
    "acc = accuracy_score(all_y, all_pred)\n",
    "prec, rec, f1, _ = precision_recall_fscore_support(all_y, all_pred, average=\"binary\", pos_label=1)\n",
    "\n",
    "# print(\"\\n=== Final Test Metrics ===\")\n",
    "# print(f\"Accuracy : {acc:.3f}\")\n",
    "# print(f\"Precision: {prec:.3f}\")\n",
    "# print(f\"Recall   : {rec:.3f}\")\n",
    "# print(f\"F1-score : {f1:.3f}\")\n",
    "# print(\"\\nPer-class report:\\n\" + classification_report(all_y, all_pred, target_names=[\"neg\",\"pos\"]))\n",
    "# print(\"Best checkpoint saved to: best_lstm.pt\")\n"
   ]
  },
  {
   "cell_type": "markdown",
   "id": "37ffda46",
   "metadata": {},
   "source": [
    "Execution took way too long and failed at the end. Accuracy was 1.00 and loss 0.00 at the end."
   ]
  },
  {
   "cell_type": "markdown",
   "id": "4fccb187",
   "metadata": {},
   "source": [
    "Notes / Key Takeaways\n",
    "\n",
    "IMDB = standard benchmark for sentiment classification.\n",
    "\n",
    "Variable-length sequences need padding + packing.\n",
    "\n",
    "Gradient clipping prevents instability.\n",
    "\n",
    "Dropout helps regularize.\n",
    "\n",
    "Checkpointing best model avoids overfitting.\n",
    "\n",
    "Even a simple LSTM can reach ~80–85% accuracy.\n",
    "\n",
    "Tomorrow you’ll ship the IMDB baseline project with a CLI."
   ]
  },
  {
   "cell_type": "markdown",
   "id": "0104e4ab",
   "metadata": {},
   "source": [
    "Reflection\n",
    "\n",
    "Why do we need pack_padded_sequence instead of just padding?\n",
    "\n",
    "What happens if we don’t apply gradient clipping during training?"
   ]
  },
  {
   "cell_type": "markdown",
   "id": "085b2320",
   "metadata": {},
   "source": [
    "1) Why do we need pack_padded_sequence instead of just padding?\n",
    "\n",
    "If we only pad, the LSTM will process the <PAD> tokens as if they were real words, which adds noise and slows training.\n",
    "\n",
    "pack_padded_sequence tells the LSTM to ignore the padding beyond each review’s true length. This way, the hidden states only reflect the actual text, not filler zeros.\n",
    "\n",
    "Result: cleaner gradients, faster convergence, and better accuracy.\n",
    "\n",
    "2) What happens if we don’t apply gradient clipping during training?\n",
    "\n",
    "In RNNs like LSTMs, gradients can sometimes “explode” (become extremely large) because of long sequences.\n",
    "\n",
    "Without clipping, this can make weight updates unstable: loss might jump around or become NaN.\n",
    "\n",
    "Gradient clipping caps the size of updates, keeping training stable and preventing divergence."
   ]
  },
  {
   "cell_type": "code",
   "execution_count": 8,
   "id": "87d25cef",
   "metadata": {},
   "outputs": [],
   "source": [
    "import json\n",
    "with open(\"vocab.json\",\"w\",encoding=\"utf-8\") as f:\n",
    "    json.dump(vocab, f)  # 'vocab' is your word->id mapping from training"
   ]
  }
 ],
 "metadata": {
  "kernelspec": {
   "display_name": "torchtext-fix-venv",
   "language": "python",
   "name": "python3"
  },
  "language_info": {
   "codemirror_mode": {
    "name": "ipython",
    "version": 3
   },
   "file_extension": ".py",
   "mimetype": "text/x-python",
   "name": "python",
   "nbconvert_exporter": "python",
   "pygments_lexer": "ipython3",
   "version": "3.11.3"
  }
 },
 "nbformat": 4,
 "nbformat_minor": 5
}
