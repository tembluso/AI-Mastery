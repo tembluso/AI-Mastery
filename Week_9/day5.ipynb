{
 "cells": [
  {
   "cell_type": "markdown",
   "id": "0dac93e9",
   "metadata": {},
   "source": [
    "Week 9 · Day 5 — Baseline Text Classifier\n",
    "Why this matters\n",
    "\n",
    "Before training complex RNNs, it’s important to know how simple baselines perform. Bag-of-Words (BoW) and average embeddings are fast, interpretable, and often surprisingly strong.\n",
    "\n",
    "Theory Essentials\n",
    "\n",
    "Bag-of-Words (BoW): represent text as counts/frequencies of words, ignoring order.\n",
    "\n",
    "Avg Embeddings: replace each word with an embedding, then average → fixed-length vector.\n",
    "\n",
    "Classifier: feed these vectors into Logistic Regression or a shallow NN.\n",
    "\n",
    "Evaluation: use accuracy, precision/recall/F1, confusion matrix.\n",
    "\n",
    "Takeaway: these methods set a baseline to beat with RNNs."
   ]
  },
  {
   "cell_type": "markdown",
   "id": "7abb6374",
   "metadata": {},
   "source": [
    "🔑 Big picture\n",
    "\n",
    "BoW: simple, ignores meaning & word order. Works fine on tiny data.\n",
    "\n",
    "Avg Embeddings: brings in a “semantic” representation (words in continuous space). With real pretrained embeddings, this usually beats BoW, especially with larger datasets.\n",
    "\n",
    "Right now both are trained on random toy embeddings, so performance is mostly luck."
   ]
  },
  {
   "cell_type": "markdown",
   "id": "8c2674ec",
   "metadata": {},
   "source": [
    "Task: sentiment classification (positive vs negative).\n",
    "\n",
    "Step 1: Turn each sentence into a vector.\n",
    "\n",
    "BoW: counts of words.\n",
    "\n",
    "Avg embeddings: average of word vectors.\n",
    "\n",
    "Step 2: Feed those vectors into a logistic regression classifier.\n",
    "\n",
    "Step 3: The logistic regression learns to map those vectors → label (1=positive, 0=negative)."
   ]
  },
  {
   "cell_type": "code",
   "execution_count": 1,
   "id": "197af792",
   "metadata": {},
   "outputs": [
    {
     "name": "stdout",
     "output_type": "stream",
     "text": [
      "BoW Report:\n",
      "               precision    recall  f1-score   support\n",
      "\n",
      "           0       1.00      1.00      1.00         2\n",
      "           1       1.00      1.00      1.00         4\n",
      "\n",
      "    accuracy                           1.00         6\n",
      "   macro avg       1.00      1.00      1.00         6\n",
      "weighted avg       1.00      1.00      1.00         6\n",
      "\n"
     ]
    },
    {
     "data": {
      "image/png": "[encoded data removed]",
      "text/plain": [
       "<Figure size 600x400 with 2 Axes>"
      ]
     },
     "metadata": {},
     "output_type": "display_data"
    },
    {
     "name": "stdout",
     "output_type": "stream",
     "text": [
      "Avg Embedding Report:\n",
      "               precision    recall  f1-score   support\n",
      "\n",
      "           0       1.00      1.00      1.00         2\n",
      "           1       1.00      1.00      1.00         4\n",
      "\n",
      "    accuracy                           1.00         6\n",
      "   macro avg       1.00      1.00      1.00         6\n",
      "weighted avg       1.00      1.00      1.00         6\n",
      "\n"
     ]
    },
    {
     "data": {
      "image/png": "[encoded data removed]",
      "text/plain": [
       "<Figure size 600x400 with 2 Axes>"
      ]
     },
     "metadata": {},
     "output_type": "display_data"
    }
   ],
   "source": [
    "# Setup\n",
    "import numpy as np, pandas as pd, matplotlib.pyplot as plt\n",
    "from pathlib import Path\n",
    "np.random.seed(42)\n",
    "plt.rcParams[\"figure.figsize\"] = (6,4)\n",
    "plt.rcParams[\"axes.grid\"] = True\n",
    "\n",
    "from sklearn.feature_extraction.text import CountVectorizer\n",
    "from sklearn.linear_model import LogisticRegression\n",
    "from sklearn.metrics import classification_report, confusion_matrix\n",
    "import seaborn as sns\n",
    "\n",
    "# Tiny dataset\n",
    "texts = [\n",
    "    \"I love deep learning\",\n",
    "    \"PyTorch is powerful\",\n",
    "    \"I hate bugs\",\n",
    "    \"Deep learning is great\",\n",
    "    \"I dislike errors\",\n",
    "    \"I enjoy coding\"\n",
    "]\n",
    "labels = [1,1,0,1,0,1]  # 1=positive, 0=negative\n",
    "\n",
    "# --- 1) Bag-of-Words + Logistic Regression ---\n",
    "vectorizer = CountVectorizer()\n",
    "X_bow = vectorizer.fit_transform(texts)\n",
    "\n",
    "clf_bow = LogisticRegression()\n",
    "clf_bow.fit(X_bow, labels)\n",
    "\n",
    "preds_bow = clf_bow.predict(X_bow)\n",
    "\n",
    "print(\"BoW Report:\\n\", classification_report(labels, preds_bow))\n",
    "\n",
    "sns.heatmap(confusion_matrix(labels, preds_bow), annot=True, fmt=\"d\", cmap=\"Blues\")\n",
    "plt.title(\"Confusion Matrix (BoW)\")\n",
    "plt.show()\n",
    "\n",
    "# --- 2) Avg Embedding + Logistic Regression ---\n",
    "import torch, torch.nn as nn\n",
    "\n",
    "# Toy vocab + embeddings (random)\n",
    "vocab = {w:i for i,w in enumerate(set(\" \".join(texts).lower().split()))}\n",
    "embed = nn.Embedding(len(vocab), 8)\n",
    "\n",
    "def avg_embed(sentence):\n",
    "    tokens = [vocab[w] for w in sentence.lower().split() if w in vocab]\n",
    "    vecs = embed(torch.tensor(tokens))\n",
    "    return vecs.mean(0).detach().numpy()\n",
    "\n",
    "X_emb = np.vstack([avg_embed(t) for t in texts])\n",
    "clf_emb = LogisticRegression()\n",
    "clf_emb.fit(X_emb, labels)\n",
    "preds_emb = clf_emb.predict(X_emb)\n",
    "\n",
    "print(\"Avg Embedding Report:\\n\", classification_report(labels, preds_emb))\n",
    "\n",
    "sns.heatmap(confusion_matrix(labels, preds_emb), annot=True, fmt=\"d\", cmap=\"Oranges\")\n",
    "plt.title(\"Confusion Matrix (Avg Embeddings)\")\n",
    "plt.show()\n"
   ]
  },
  {
   "cell_type": "markdown",
   "id": "f0e8ee64",
   "metadata": {},
   "source": [
    "Exercises\n",
    "\n",
    "1) Core (10–15 min)\n",
    "Task: Add the sentence \"I love PyTorch\" with label 1. Check predictions from both BoW and avg-embedding models."
   ]
  },
  {
   "cell_type": "code",
   "execution_count": 3,
   "id": "8e6cca23",
   "metadata": {},
   "outputs": [
    {
     "name": "stdout",
     "output_type": "stream",
     "text": [
      "New Prediction (BoW): [1]\n",
      "New Prediction (Avg Embeddings): [1]\n"
     ]
    }
   ],
   "source": [
    "texts.append(\"I love PyTorch\"); labels.append(1)\n",
    "\n",
    "X_bow = vectorizer.fit_transform(texts)\n",
    "clf_bow.fit(X_bow, labels)\n",
    "print(\"New Prediction (BoW):\", clf_bow.predict(vectorizer.transform([\"I love PyTorch\"])))\n",
    "\n",
    "# --- Recompute embeddings with the new text ---\n",
    "X_emb = np.vstack([avg_embed(t) for t in texts])\n",
    "clf_emb.fit(X_emb, labels)\n",
    "\n",
    "# --- Predict on \"I love PyTorch\" ---\n",
    "new_vec = avg_embed(\"I love PyTorch\").reshape(1, -1)\n",
    "print(\"New Prediction (Avg Embeddings):\", clf_emb.predict(new_vec))\n"
   ]
  },
  {
   "cell_type": "markdown",
   "id": "32137283",
   "metadata": {},
   "source": [
    "2) Practice (10–15 min)\n",
    "Task: Compare model performance with stop words removed"
   ]
  },
  {
   "cell_type": "code",
   "execution_count": 6,
   "id": "f48240bc",
   "metadata": {},
   "outputs": [
    {
     "name": "stdout",
     "output_type": "stream",
     "text": [
      "              precision    recall  f1-score   support\n",
      "\n",
      "           0       1.00      1.00      1.00         2\n",
      "           1       1.00      1.00      1.00         6\n",
      "\n",
      "    accuracy                           1.00         8\n",
      "   macro avg       1.00      1.00      1.00         8\n",
      "weighted avg       1.00      1.00      1.00         8\n",
      "\n"
     ]
    }
   ],
   "source": [
    "vectorizer = CountVectorizer(stop_words=\"english\")\n",
    "X_bow = vectorizer.fit_transform(texts)\n",
    "clf_bow.fit(X_bow, labels)\n",
    "print(classification_report(labels, clf_bow.predict(X_bow)))\n",
    "\n"
   ]
  },
  {
   "cell_type": "markdown",
   "id": "805d2e06",
   "metadata": {},
   "source": [
    "3) Stretch (optional, 10–15 min)\n",
    "Task: Replace LogisticRegression with a shallow 1-layer nn.Linear in PyTorch trained on BoW vectors."
   ]
  },
  {
   "cell_type": "code",
   "execution_count": 7,
   "id": "eb4a5b44",
   "metadata": {},
   "outputs": [
    {
     "name": "stdout",
     "output_type": "stream",
     "text": [
      "PyTorch Linear on BoW — report:\n",
      "              precision    recall  f1-score   support\n",
      "\n",
      "           0       1.00      1.00      1.00         2\n",
      "           1       1.00      1.00      1.00         6\n",
      "\n",
      "    accuracy                           1.00         8\n",
      "   macro avg       1.00      1.00      1.00         8\n",
      "weighted avg       1.00      1.00      1.00         8\n",
      "\n"
     ]
    },
    {
     "data": {
      "image/png": "[encoded data removed]",
      "text/plain": [
       "<Figure size 600x400 with 2 Axes>"
      ]
     },
     "metadata": {},
     "output_type": "display_data"
    },
    {
     "name": "stdout",
     "output_type": "stream",
     "text": [
      "New Prediction (torch BoW): class=1  probs=[0.01835587 0.9816442 ]\n"
     ]
    }
   ],
   "source": [
    "import torch.optim as optim\n",
    "X_tensor = torch.tensor(X_bow.toarray(), dtype=torch.float32)\n",
    "y_tensor = torch.tensor(labels)\n",
    "\n",
    "model = nn.Linear(X_tensor.shape[1], 2)\n",
    "criterion = nn.CrossEntropyLoss()\n",
    "optimizer = optim.Adam(model.parameters(), lr=0.05)\n",
    "\n",
    "for epoch in range(20):\n",
    "    optimizer.zero_grad()\n",
    "    out = model(X_tensor)\n",
    "    loss = criterion(out, y_tensor)\n",
    "    loss.backward()\n",
    "    optimizer.step()\n",
    "\n",
    "# ---- Evaluate the 1-layer torch model on the training set ----\n",
    "import torch.nn.functional as F\n",
    "from sklearn.metrics import classification_report, confusion_matrix\n",
    "import seaborn as sns\n",
    "\n",
    "model.eval()\n",
    "with torch.no_grad():\n",
    "    logits = model(X_tensor)                 # [N, 2]\n",
    "    probs  = F.softmax(logits, dim=1)        # [N, 2]\n",
    "    preds  = probs.argmax(dim=1).cpu().numpy()\n",
    "\n",
    "print(\"PyTorch Linear on BoW — report:\")\n",
    "print(classification_report(labels, preds))\n",
    "\n",
    "sns.heatmap(confusion_matrix(labels, preds), annot=True, fmt=\"d\", cmap=\"Greens\")\n",
    "plt.title(\"Confusion Matrix (PyTorch Linear on BoW)\")\n",
    "plt.show()\n",
    "\n",
    "# ---- Try a new sentence (same as your Core exercise) ----\n",
    "new_text = \"I love PyTorch\"\n",
    "x_new_bow = vectorizer.transform([new_text]).toarray().astype(\"float32\")\n",
    "x_new_t   = torch.from_numpy(x_new_bow)\n",
    "\n",
    "model.eval()\n",
    "with torch.no_grad():\n",
    "    p = F.softmax(model(x_new_t), dim=1).cpu().numpy()[0]\n",
    "print(f'New Prediction (torch BoW): class={p.argmax()}  probs={p}')\n"
   ]
  },
  {
   "cell_type": "markdown",
   "id": "36c29be2",
   "metadata": {},
   "source": [
    "Mini-Challenge (≤40 min)\n",
    "\n",
    "Build & compare:\n",
    "\n",
    "Train BoW + Logistic Regression vs Avg Embedding + Logistic Regression on a small dataset (≥10 sentences).\n",
    "\n",
    "Report accuracy, precision, recall, F1, confusion matrix for each.\n",
    "\n",
    "Acceptance Criteria: a short table comparing both approaches + 3-line reflection on which worked better and why."
   ]
  },
  {
   "cell_type": "code",
   "execution_count": 8,
   "id": "968900ee",
   "metadata": {},
   "outputs": [
    {
     "name": "stdout",
     "output_type": "stream",
     "text": [
      "Comparison table:\n",
      "\n"
     ]
    },
    {
     "data": {
      "text/html": [
       "<div>\n",
       "<style scoped>\n",
       "    .dataframe tbody tr th:only-of-type {\n",
       "        vertical-align: middle;\n",
       "    }\n",
       "\n",
       "    .dataframe tbody tr th {\n",
       "        vertical-align: top;\n",
       "    }\n",
       "\n",
       "    .dataframe thead th {\n",
       "        text-align: right;\n",
       "    }\n",
       "</style>\n",
       "<table border=\"1\" class=\"dataframe\">\n",
       "  <thead>\n",
       "    <tr style=\"text-align: right;\">\n",
       "      <th></th>\n",
       "      <th>accuracy</th>\n",
       "      <th>precision</th>\n",
       "      <th>recall</th>\n",
       "      <th>f1</th>\n",
       "    </tr>\n",
       "    <tr>\n",
       "      <th>model</th>\n",
       "      <th></th>\n",
       "      <th></th>\n",
       "      <th></th>\n",
       "      <th></th>\n",
       "    </tr>\n",
       "  </thead>\n",
       "  <tbody>\n",
       "    <tr>\n",
       "      <th>BoW + LR</th>\n",
       "      <td>0.8</td>\n",
       "      <td>0.75</td>\n",
       "      <td>1.0</td>\n",
       "      <td>0.857</td>\n",
       "    </tr>\n",
       "    <tr>\n",
       "      <th>AvgEmb + LR</th>\n",
       "      <td>0.8</td>\n",
       "      <td>0.75</td>\n",
       "      <td>1.0</td>\n",
       "      <td>0.857</td>\n",
       "    </tr>\n",
       "  </tbody>\n",
       "</table>\n",
       "</div>"
      ],
      "text/plain": [
       "             accuracy  precision  recall     f1\n",
       "model                                          \n",
       "BoW + LR          0.8       0.75     1.0  0.857\n",
       "AvgEmb + LR       0.8       0.75     1.0  0.857"
      ]
     },
     "metadata": {},
     "output_type": "display_data"
    },
    {
     "data": {
      "image/png": "[encoded data removed]",
      "text/plain": [
       "<Figure size 800x300 with 2 Axes>"
      ]
     },
     "metadata": {},
     "output_type": "display_data"
    },
    {
     "name": "stdout",
     "output_type": "stream",
     "text": [
      "Reflection:\n",
      "- BoW worked well on this tiny set because keyword presence (love/hate/awful/awesome) is highly predictive.\n",
      "- Avg embeddings (random init) are not pretrained, so they carry little semantic signal; with real pretrained vectors they usually improve.\n",
      "- For small vocab/tasks, BoW is a strong baseline; for broader vocab or semantics, use pretrained embeddings or fine-tune.\n"
     ]
    }
   ],
   "source": [
    "# Mini-Challenge: BoW+LR vs Avg-Embedding+LR (train/test, metrics, CMs, table)\n",
    "\n",
    "import numpy as np, pandas as pd, matplotlib.pyplot as plt, seaborn as sns\n",
    "from sklearn.model_selection import train_test_split\n",
    "from sklearn.feature_extraction.text import CountVectorizer\n",
    "from sklearn.linear_model import LogisticRegression\n",
    "from sklearn.metrics import accuracy_score, precision_recall_fscore_support, confusion_matrix\n",
    "import torch, torch.nn as nn\n",
    "\n",
    "# -------- 1) Small dataset (>10 sentences) --------\n",
    "texts = [\n",
    "    \"I love deep learning\", \"PyTorch is powerful\", \"I hate bugs\",\n",
    "    \"Deep learning is great\", \"I dislike errors\", \"I enjoy coding\",\n",
    "    \"This library is awesome\", \"Bugs make me sad\", \"I am happy today\",\n",
    "    \"Errors are terrible\", \"I adore this framework\", \"Coding is fun\",\n",
    "    \"I detest crashes\", \"This is fantastic\", \"This is awful\"\n",
    "]\n",
    "labels = [1,1,0, 1,0,1, 1,0,1, 0,1,1, 0,1,0]  # 1=positive, 0=negative\n",
    "\n",
    "X_train, X_test, y_train, y_test = train_test_split(\n",
    "    texts, labels, test_size=0.33, random_state=42, stratify=labels\n",
    ")\n",
    "\n",
    "# -------- 2) BoW + Logistic Regression --------\n",
    "vectorizer = CountVectorizer(stop_words=None)\n",
    "Xtr_bow = vectorizer.fit_transform(X_train)\n",
    "Xte_bow = vectorizer.transform(X_test)\n",
    "\n",
    "bow_clf = LogisticRegression(max_iter=1000)\n",
    "bow_clf.fit(Xtr_bow, y_train)\n",
    "yhat_bow = bow_clf.predict(Xte_bow)\n",
    "\n",
    "# -------- 3) Avg Embedding + Logistic Regression --------\n",
    "# build vocab from training text only (fair split)\n",
    "vocab_words = sorted(set(\" \".join([t.lower() for t in X_train]).split()))\n",
    "stoi = {w:i for i,w in enumerate(vocab_words)}\n",
    "embed_dim = 50\n",
    "torch.manual_seed(42)\n",
    "embed = nn.Embedding(len(stoi), embed_dim)\n",
    "\n",
    "def avg_embed(sentence: str):\n",
    "    toks = [stoi[w] for w in sentence.lower().split() if w in stoi]\n",
    "    if len(toks)==0:\n",
    "        return np.zeros(embed_dim, dtype=np.float32)\n",
    "    vecs = embed(torch.tensor(toks))\n",
    "    return vecs.mean(0).detach().numpy()\n",
    "\n",
    "Xtr_emb = np.vstack([avg_embed(t) for t in X_train])\n",
    "Xte_emb = np.vstack([avg_embed(t) for t in X_test])\n",
    "\n",
    "emb_clf = LogisticRegression(max_iter=1000)\n",
    "emb_clf.fit(Xtr_emb, y_train)\n",
    "yhat_emb = emb_clf.predict(Xte_emb)\n",
    "\n",
    "# -------- 4) Metrics helpers --------\n",
    "def metrics_table(y_true, y_pred, name):\n",
    "    acc = accuracy_score(y_true, y_pred)\n",
    "    prec, rec, f1, _ = precision_recall_fscore_support(y_true, y_pred, average=\"binary\", zero_division=0)\n",
    "    return {\"model\": name, \"accuracy\": acc, \"precision\": prec, \"recall\": rec, \"f1\": f1}\n",
    "\n",
    "tbl = pd.DataFrame([\n",
    "    metrics_table(y_test, yhat_bow, \"BoW + LR\"),\n",
    "    metrics_table(y_test, yhat_emb, \"AvgEmb + LR\")\n",
    "]).set_index(\"model\").round(3)\n",
    "print(\"Comparison table:\\n\")\n",
    "display(tbl)\n",
    "\n",
    "# -------- 5) Confusion matrices (side-by-side) --------\n",
    "fig, axes = plt.subplots(1,2, figsize=(8,3))\n",
    "sns.heatmap(confusion_matrix(y_test, yhat_bow), annot=True, fmt=\"d\",\n",
    "            cmap=\"Blues\", ax=axes[0], cbar=False)\n",
    "axes[0].set_title(\"BoW + LR\"); axes[0].set_xlabel(\"Pred\"); axes[0].set_ylabel(\"True\")\n",
    "sns.heatmap(confusion_matrix(y_test, yhat_emb), annot=True, fmt=\"d\",\n",
    "            cmap=\"Oranges\", ax=axes[1], cbar=False)\n",
    "axes[1].set_title(\"AvgEmb + LR\"); axes[1].set_xlabel(\"Pred\"); axes[1].set_ylabel(\"True\")\n",
    "plt.tight_layout(); plt.show()\n",
    "\n",
    "# -------- 6) 3-line reflection --------\n",
    "print(\n",
    "\"Reflection:\\n\"\n",
    "\"- BoW worked well on this tiny set because keyword presence (love/hate/awful/awesome) is highly predictive.\\n\"\n",
    "\"- Avg embeddings (random init) are not pretrained, so they carry little semantic signal; with real pretrained vectors they usually improve.\\n\"\n",
    "\"- For small vocab/tasks, BoW is a strong baseline; for broader vocab or semantics, use pretrained embeddings or fine-tune.\"\n",
    ")\n"
   ]
  },
  {
   "cell_type": "markdown",
   "id": "1dd01a9b",
   "metadata": {},
   "source": [
    "Notes / Key Takeaways\n",
    "\n",
    "Baselines like BoW/avg-embeddings are fast and effective.\n",
    "\n",
    "BoW ignores order but can work well on simple tasks.\n",
    "\n",
    "Avg embeddings add semantics but still ignore sequence order.\n",
    "\n",
    "Logistic regression is a strong linear classifier for text.\n",
    "\n",
    "Confusion matrices highlight model strengths/weaknesses.\n",
    "\n",
    "Tomorrow we’ll move to LSTMs with variable-length handling.\n",
    "\n",
    "Comparing baselines ensures RNNs truly add value."
   ]
  },
  {
   "cell_type": "markdown",
   "id": "9ff179d1",
   "metadata": {},
   "source": [
    "Reflection\n",
    "\n",
    "Why do we need baselines before building complex RNNs?\n",
    "\n",
    "Which limitation of BoW/avg embeddings does an RNN overcome?"
   ]
  },
  {
   "cell_type": "markdown",
   "id": "d2d11565",
   "metadata": {},
   "source": [
    "Why is it useful to compare a simple baseline like Bag-of-Words before training an RNN?\n",
    "Baselines give you a reference point. If an RNN (or any deep model) doesn’t beat a simple method like BoW + Logistic Regression, then the extra complexity isn’t justified. Baselines also highlight whether your task can be solved with surface-level word counts or needs deeper sequence modeling.\n",
    "\n",
    "When would you expect an RNN with embeddings to outperform BoW?\n",
    "\n",
    "When word order matters (e.g., “not good” vs “good”).\n",
    "\n",
    "When longer dependencies carry meaning (e.g., in reviews or long sentences).\n",
    "\n",
    "When using pretrained embeddings that bring in semantic knowledge beyond the training set."
   ]
  }
 ],
 "metadata": {
  "kernelspec": {
   "display_name": "venv",
   "language": "python",
   "name": "python3"
  },
  "language_info": {
   "codemirror_mode": {
    "name": "ipython",
    "version": 3
   },
   "file_extension": ".py",
   "mimetype": "text/x-python",
   "name": "python",
   "nbconvert_exporter": "python",
   "pygments_lexer": "ipython3",
   "version": "3.11.3"
  }
 },
 "nbformat": 4,
 "nbformat_minor": 5
}
